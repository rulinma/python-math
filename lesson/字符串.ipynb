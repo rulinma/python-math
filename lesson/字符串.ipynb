{
 "cells": [
  {
   "cell_type": "markdown",
   "id": "078bbad8-2669-4f41-94c5-3fb5b8701c14",
   "metadata": {},
   "source": [
    "# 字符串"
   ]
  },
  {
   "cell_type": "code",
   "execution_count": 1,
   "id": "d8a582a2-13cc-41c4-aa9a-f268526d5308",
   "metadata": {},
   "outputs": [],
   "source": [
    "a = \"hello world\""
   ]
  },
  {
   "cell_type": "code",
   "execution_count": 3,
   "id": "02fe9e62-17b6-469d-9656-a82691b7ce87",
   "metadata": {},
   "outputs": [],
   "source": [
    "b = \"you are welcome\""
   ]
  },
  {
   "cell_type": "code",
   "execution_count": 4,
   "id": "8ed4f0d1-f663-462c-9c3b-d7f8fcc14438",
   "metadata": {},
   "outputs": [
    {
     "data": {
      "text/plain": [
       "'hello worldyou are welcome'"
      ]
     },
     "execution_count": 4,
     "metadata": {},
     "output_type": "execute_result"
    }
   ],
   "source": [
    "a + b"
   ]
  },
  {
   "cell_type": "code",
   "execution_count": 5,
   "id": "26fcd436-13a4-4e2b-951e-0533890a0df2",
   "metadata": {},
   "outputs": [
    {
     "data": {
      "text/plain": [
       "'hello world you are welcome'"
      ]
     },
     "execution_count": 5,
     "metadata": {},
     "output_type": "execute_result"
    }
   ],
   "source": [
    "a + \" \" +  b"
   ]
  },
  {
   "cell_type": "code",
   "execution_count": 6,
   "id": "f3bb552a-5b7f-434f-8653-6ffc74c62647",
   "metadata": {},
   "outputs": [],
   "source": [
    "c = \"hello\""
   ]
  },
  {
   "cell_type": "code",
   "execution_count": 7,
   "id": "de1670ac-a0c6-4986-be0f-b97fa7b8bd04",
   "metadata": {},
   "outputs": [
    {
     "data": {
      "text/plain": [
       "'h'"
      ]
     },
     "execution_count": 7,
     "metadata": {},
     "output_type": "execute_result"
    }
   ],
   "source": [
    "c[0]"
   ]
  },
  {
   "cell_type": "code",
   "execution_count": 8,
   "id": "1fbc83a2-6335-4da1-b5bb-67309b5c8eec",
   "metadata": {},
   "outputs": [
    {
     "data": {
      "text/plain": [
       "'e'"
      ]
     },
     "execution_count": 8,
     "metadata": {},
     "output_type": "execute_result"
    }
   ],
   "source": [
    "c[1]"
   ]
  },
  {
   "cell_type": "code",
   "execution_count": 9,
   "id": "145e72ef-e821-4194-8d03-345ed8c7af09",
   "metadata": {},
   "outputs": [
    {
     "data": {
      "text/plain": [
       "'ello'"
      ]
     },
     "execution_count": 9,
     "metadata": {},
     "output_type": "execute_result"
    }
   ],
   "source": [
    "c[1:5]"
   ]
  },
  {
   "cell_type": "code",
   "execution_count": 10,
   "id": "fe294f69-850b-4c38-98b8-779723a1b128",
   "metadata": {},
   "outputs": [
    {
     "data": {
      "text/plain": [
       "'ello'"
      ]
     },
     "execution_count": 10,
     "metadata": {},
     "output_type": "execute_result"
    }
   ],
   "source": [
    "c[1:]"
   ]
  },
  {
   "cell_type": "markdown",
   "id": "51b5e051-bdd4-43c7-a369-5a4388feaf74",
   "metadata": {},
   "source": [
    "格式化输出"
   ]
  },
  {
   "cell_type": "code",
   "execution_count": 11,
   "id": "da54411b-17c7-4fa4-b833-42f31b492785",
   "metadata": {},
   "outputs": [
    {
     "name": "stdout",
     "output_type": "stream",
     "text": [
      "我叫 小明 今年 10 岁!\n"
     ]
    }
   ],
   "source": [
    "print (\"我叫 %s 今年 %d 岁!\" % ('小明', 10))"
   ]
  },
  {
   "attachments": {},
   "cell_type": "markdown",
   "id": "2ebac906-f78f-42c3-88ea-49ec2213d0f6",
   "metadata": {},
   "source": [
    "在需要在字符中使用特殊字符时，python 用反斜杠 \\ 转义字符"
   ]
  },
  {
   "cell_type": "code",
   "execution_count": 15,
   "id": "26bc5ae0-262d-4130-a070-44f3159a4406",
   "metadata": {},
   "outputs": [
    {
     "name": "stdout",
     "output_type": "stream",
     "text": [
      "'\n"
     ]
    }
   ],
   "source": [
    "print('\\'')"
   ]
  },
  {
   "cell_type": "code",
   "execution_count": 14,
   "id": "7e040b7f-5e7f-4094-9b81-167b9ac520d8",
   "metadata": {},
   "outputs": [
    {
     "name": "stdout",
     "output_type": "stream",
     "text": [
      "\\\n"
     ]
    }
   ],
   "source": [
    "print('\\\\')"
   ]
  },
  {
   "cell_type": "code",
   "execution_count": 16,
   "id": "30d147e1-13d6-4c14-98e8-0df884531b60",
   "metadata": {},
   "outputs": [
    {
     "data": {
      "text/plain": [
       "True"
      ]
     },
     "execution_count": 16,
     "metadata": {},
     "output_type": "execute_result"
    }
   ],
   "source": [
    "\"ab\".isalnum()"
   ]
  },
  {
   "cell_type": "code",
   "execution_count": 18,
   "id": "e2ca6de5-ebb2-46d5-8787-1bcf68309bfa",
   "metadata": {},
   "outputs": [
    {
     "data": {
      "text/plain": [
       "False"
      ]
     },
     "execution_count": 18,
     "metadata": {},
     "output_type": "execute_result"
    }
   ],
   "source": [
    "\"ab\".isdigit()"
   ]
  },
  {
   "cell_type": "code",
   "execution_count": 19,
   "id": "bb22f7ed-e910-4c6f-8fd0-ffc73565d71a",
   "metadata": {},
   "outputs": [
    {
     "data": {
      "text/plain": [
       "True"
      ]
     },
     "execution_count": 19,
     "metadata": {},
     "output_type": "execute_result"
    }
   ],
   "source": [
    "\"123\".isdigit()"
   ]
  },
  {
   "cell_type": "code",
   "execution_count": null,
   "id": "69a43bf3-88a5-4cb8-b056-6fdee7314296",
   "metadata": {},
   "outputs": [],
   "source": []
  }
 ],
 "metadata": {
  "kernelspec": {
   "display_name": "math",
   "language": "python",
   "name": "math"
  },
  "language_info": {
   "codemirror_mode": {
    "name": "ipython",
    "version": 3
   },
   "file_extension": ".py",
   "mimetype": "text/x-python",
   "name": "python",
   "nbconvert_exporter": "python",
   "pygments_lexer": "ipython3",
   "version": "3.12.2"
  }
 },
 "nbformat": 4,
 "nbformat_minor": 5
}
