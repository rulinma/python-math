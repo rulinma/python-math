{
 "cells": [
  {
   "cell_type": "markdown",
   "id": "af0f158d-5bdb-41db-bfa7-ae2a02610bb5",
   "metadata": {},
   "source": [
    "# while语句"
   ]
  },
  {
   "cell_type": "code",
   "execution_count": null,
   "id": "02d4b3f8-094c-4cd4-b160-32692d13d2dc",
   "metadata": {},
   "outputs": [],
   "source": []
  }
 ],
 "metadata": {
  "kernelspec": {
   "display_name": "math",
   "language": "python",
   "name": "math"
  },
  "language_info": {
   "codemirror_mode": {
    "name": "ipython",
    "version": 3
   },
   "file_extension": ".py",
   "mimetype": "text/x-python",
   "name": "python",
   "nbconvert_exporter": "python",
   "pygments_lexer": "ipython3",
   "version": "3.12.2"
  }
 },
 "nbformat": 4,
 "nbformat_minor": 5
}
