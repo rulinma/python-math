{
 "cells": [
  {
   "cell_type": "markdown",
   "id": "34d69878-f4d9-4dc9-a27e-f040941243c7",
   "metadata": {
    "editable": true,
    "slideshow": {
     "slide_type": ""
    },
    "tags": []
   },
   "source": [
    "# 类"
   ]
  },
  {
   "cell_type": "code",
   "execution_count": 44,
   "id": "492d60f8-2236-4793-8a6e-ba6975490b3c",
   "metadata": {},
   "outputs": [],
   "source": [
    "class Student:\n",
    "    # 全局变量\n",
    "    stu_count = 0\n",
    "\n",
    "    # 初始化对象\n",
    "    def __init__(self, name, grade):\n",
    "        self.name = name\n",
    "        self.grade = grade\n",
    "        Student.stu_count += 1\n",
    "        print(\"init object\", name, grade)\n",
    "\n",
    "    def display_count(self):\n",
    "        print(\"total student %d\" %Student.stu_count)\n",
    "\n",
    "    def display_student(self):\n",
    "        print(\"Name : \" + self.name + \" Grade \" + str(self.grade))"
   ]
  },
  {
   "cell_type": "code",
   "execution_count": 45,
   "id": "7138385d-5392-4734-9318-84fefbb72b0e",
   "metadata": {},
   "outputs": [
    {
     "name": "stdout",
     "output_type": "stream",
     "text": [
      "init object zhangsan 5\n"
     ]
    }
   ],
   "source": [
    "stu1 = Student(\"zhangsan\", 5)"
   ]
  },
  {
   "cell_type": "code",
   "execution_count": 46,
   "id": "a89da03d-96b6-4ab5-8c12-c70568701e8e",
   "metadata": {},
   "outputs": [
    {
     "name": "stdout",
     "output_type": "stream",
     "text": [
      "Name : zhangsan Grade 5\n"
     ]
    }
   ],
   "source": [
    "stu1.display_student()"
   ]
  },
  {
   "cell_type": "code",
   "execution_count": 47,
   "id": "55f74fc2-e2af-438e-9a4d-d5bec402e946",
   "metadata": {},
   "outputs": [
    {
     "name": "stdout",
     "output_type": "stream",
     "text": [
      "total student 1\n"
     ]
    }
   ],
   "source": [
    "stu1.display_count()"
   ]
  },
  {
   "cell_type": "code",
   "execution_count": 48,
   "id": "9da1eafe-77f5-4dac-9605-95aef75c4fab",
   "metadata": {},
   "outputs": [
    {
     "name": "stdout",
     "output_type": "stream",
     "text": [
      "init object lisi 6\n"
     ]
    }
   ],
   "source": [
    "stu2 = Student(\"lisi\", 6)"
   ]
  },
  {
   "cell_type": "code",
   "execution_count": 49,
   "id": "9e7ee699-f9af-4fb7-a303-69dffec0231b",
   "metadata": {},
   "outputs": [
    {
     "name": "stdout",
     "output_type": "stream",
     "text": [
      "Name : lisi Grade 6\n"
     ]
    }
   ],
   "source": [
    "stu2.display_student()"
   ]
  },
  {
   "cell_type": "code",
   "execution_count": 50,
   "id": "be8f3fec-c480-4337-b922-a221dfc8ba66",
   "metadata": {},
   "outputs": [
    {
     "name": "stdout",
     "output_type": "stream",
     "text": [
      "total student 2\n"
     ]
    }
   ],
   "source": [
    "stu2.display_count()"
   ]
  },
  {
   "cell_type": "code",
   "execution_count": 51,
   "id": "194768dd-8aec-4054-962d-8a22c5d5f1c1",
   "metadata": {},
   "outputs": [
    {
     "data": {
      "text/plain": [
       "2"
      ]
     },
     "execution_count": 51,
     "metadata": {},
     "output_type": "execute_result"
    }
   ],
   "source": [
    "Student.stu_count"
   ]
  },
  {
   "cell_type": "code",
   "execution_count": 52,
   "id": "32ec34cb-65a2-4570-9a39-13b4e08b50d4",
   "metadata": {},
   "outputs": [
    {
     "name": "stdout",
     "output_type": "stream",
     "text": [
      "Name : lisi Grade 7\n"
     ]
    }
   ],
   "source": [
    "stu2.grade = 7\n",
    "stu2.display_student()"
   ]
  },
  {
   "cell_type": "code",
   "execution_count": 53,
   "id": "25d377ca-4b48-48d7-acc1-190c704e4a0a",
   "metadata": {},
   "outputs": [
    {
     "data": {
      "text/plain": [
       "2"
      ]
     },
     "execution_count": 53,
     "metadata": {},
     "output_type": "execute_result"
    }
   ],
   "source": [
    "Student.stu_count"
   ]
  },
  {
   "cell_type": "code",
   "execution_count": null,
   "id": "596f6dc2-7040-4053-b291-3a96954b7a93",
   "metadata": {},
   "outputs": [],
   "source": []
  }
 ],
 "metadata": {
  "kernelspec": {
   "display_name": "math",
   "language": "python",
   "name": "math"
  },
  "language_info": {
   "codemirror_mode": {
    "name": "ipython",
    "version": 3
   },
   "file_extension": ".py",
   "mimetype": "text/x-python",
   "name": "python",
   "nbconvert_exporter": "python",
   "pygments_lexer": "ipython3",
   "version": "3.12.2"
  }
 },
 "nbformat": 4,
 "nbformat_minor": 5
}
