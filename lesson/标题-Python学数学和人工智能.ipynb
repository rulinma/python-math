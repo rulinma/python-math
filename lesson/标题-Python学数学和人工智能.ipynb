{
 "cells": [
  {
   "cell_type": "markdown",
   "id": "ca4cb41b-8c73-48e7-bc39-5867bde55996",
   "metadata": {},
   "source": [
    "# Python学数学和人工智能"
   ]
  },
  {
   "cell_type": "code",
   "execution_count": null,
   "id": "1f7b60f2-1bc2-4e64-a53b-91757fad9a94",
   "metadata": {},
   "outputs": [],
   "source": []
  },
  {
   "cell_type": "code",
   "execution_count": null,
   "id": "61e421c9-bf00-4a5f-92eb-0b1a00963a96",
   "metadata": {},
   "outputs": [],
   "source": []
  }
 ],
 "metadata": {
  "kernelspec": {
   "display_name": "math",
   "language": "python",
   "name": "math"
  },
  "language_info": {
   "codemirror_mode": {
    "name": "ipython",
    "version": 3
   },
   "file_extension": ".py",
   "mimetype": "text/x-python",
   "name": "python",
   "nbconvert_exporter": "python",
   "pygments_lexer": "ipython3",
   "version": "3.12.2"
  }
 },
 "nbformat": 4,
 "nbformat_minor": 5
}
