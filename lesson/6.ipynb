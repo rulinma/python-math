{
 "cells": [
  {
   "cell_type": "markdown",
   "id": "89cf3b75-e058-471b-8e5f-bef622e332bc",
   "metadata": {},
   "source": [
    "# for 语句\n"
   ]
  },
  {
   "cell_type": "code",
   "execution_count": null,
   "id": "bc04fb07-6796-430d-88f6-e56dbd0ae0e6",
   "metadata": {},
   "outputs": [],
   "source": []
  }
 ],
 "metadata": {
  "kernelspec": {
   "display_name": "math",
   "language": "python",
   "name": "math"
  },
  "language_info": {
   "codemirror_mode": {
    "name": "ipython",
    "version": 3
   },
   "file_extension": ".py",
   "mimetype": "text/x-python",
   "name": "python",
   "nbconvert_exporter": "python",
   "pygments_lexer": "ipython3",
   "version": "3.12.2"
  }
 },
 "nbformat": 4,
 "nbformat_minor": 5
}
