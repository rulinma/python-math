{
 "cells": [
  {
   "cell_type": "markdown",
   "id": "e23e8db7-a858-415a-a6e2-a3b3367bbe2c",
   "metadata": {},
   "source": [
    "# 开发工具"
   ]
  },
  {
   "cell_type": "markdown",
   "id": "cca4f3be-a60b-4c1f-8838-4efaece9d0eb",
   "metadata": {},
   "source": [
    "PyCharm"
   ]
  },
  {
   "cell_type": "markdown",
   "id": "ed5e5847-2010-4703-b797-56ef303e032c",
   "metadata": {},
   "source": [
    "JupterLab - Jupter Notebook"
   ]
  },
  {
   "cell_type": "code",
   "execution_count": null,
   "id": "b7ec3aa3-9da7-4b46-a19e-bb115dab26dc",
   "metadata": {},
   "outputs": [],
   "source": []
  }
 ],
 "metadata": {
  "kernelspec": {
   "display_name": "math",
   "language": "python",
   "name": "math"
  },
  "language_info": {
   "codemirror_mode": {
    "name": "ipython",
    "version": 3
   },
   "file_extension": ".py",
   "mimetype": "text/x-python",
   "name": "python",
   "nbconvert_exporter": "python",
   "pygments_lexer": "ipython3",
   "version": "3.12.2"
  }
 },
 "nbformat": 4,
 "nbformat_minor": 5
}
