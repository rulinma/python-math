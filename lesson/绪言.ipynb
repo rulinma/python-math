{
 "cells": [
  {
   "cell_type": "markdown",
   "id": "0ef56b5d-783b-41d5-bc53-fbbe32894af5",
   "metadata": {},
   "source": [
    "# 绪言"
   ]
  },
  {
   "cell_type": "markdown",
   "id": "dc273b4b-af40-4005-8f3e-b9fd33cd4c17",
   "metadata": {},
   "source": [
    "背景\n",
    "* 我想理解ChatGPT的原理\n",
    "* 我希望孩子能学好数学、学会编程和对人工智能有切身的认识\n",
    "* 我希望孩子知道数学的意义，并能够理解的学并应用到实际生活中"
   ]
  },
  {
   "cell_type": "markdown",
   "id": "332c989a-e9d3-437d-9e4f-6d272f7b4b2b",
   "metadata": {},
   "source": [
    "目的\n",
    "* 学会编程\n",
    "* 学好数学\n",
    "* 认识人工智能"
   ]
  },
  {
   "attachments": {},
   "cell_type": "markdown",
   "id": "357cf14d-c493-4f49-bb61-bb784399562f",
   "metadata": {},
   "source": [
    "方法\n",
    "* 通过Python进行编程和数学的学习，并通过案例或项目实战认识人工智能如何应用。"
   ]
  },
  {
   "cell_type": "markdown",
   "id": "601db4c3-404f-4ec1-90f3-5c7f824a647f",
   "metadata": {},
   "source": [
    "说明\n",
    "* 课程主要是数学和编程，但是也会涉及到其它相关学科，比如英语，历史，哲学等，希望培养孩子的综合素养。\n"
   ]
  },
  {
   "cell_type": "code",
   "execution_count": null,
   "id": "e2b32b34-b80d-4182-993d-95084aaa9bd8",
   "metadata": {},
   "outputs": [],
   "source": []
  }
 ],
 "metadata": {
  "kernelspec": {
   "display_name": "math",
   "language": "python",
   "name": "math"
  },
  "language_info": {
   "codemirror_mode": {
    "name": "ipython",
    "version": 3
   },
   "file_extension": ".py",
   "mimetype": "text/x-python",
   "name": "python",
   "nbconvert_exporter": "python",
   "pygments_lexer": "ipython3",
   "version": "3.12.2"
  }
 },
 "nbformat": 4,
 "nbformat_minor": 5
}
