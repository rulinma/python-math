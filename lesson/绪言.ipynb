{
 "cells": [
  {
   "cell_type": "markdown",
   "id": "0ef56b5d-783b-41d5-bc53-fbbe32894af5",
   "metadata": {},
   "source": [
    "# 绪言"
   ]
  },
  {
   "cell_type": "markdown",
   "id": "332c989a-e9d3-437d-9e4f-6d272f7b4b2b",
   "metadata": {},
   "source": [
    "本文目的\n",
    "* 学会编程\n",
    "* 学好数学\n",
    "* 认识人工智能"
   ]
  },
  {
   "cell_type": "markdown",
   "id": "dc273b4b-af40-4005-8f3e-b9fd33cd4c17",
   "metadata": {},
   "source": [
    "背景\n",
    "* 我想理解ChatGPT的原理\n",
    "* 我希望孩子能学好数学、学会编程和对人工智能有切身的认识\n",
    "* 我希望孩子知道数学的意义，并能够理解的学并应用到实际生活中"
   ]
  },
  {
   "cell_type": "code",
   "execution_count": null,
   "id": "2c6995ff-158a-4821-b8d7-1b2742468e03",
   "metadata": {},
   "outputs": [],
   "source": []
  }
 ],
 "metadata": {
  "kernelspec": {
   "display_name": "math",
   "language": "python",
   "name": "math"
  },
  "language_info": {
   "codemirror_mode": {
    "name": "ipython",
    "version": 3
   },
   "file_extension": ".py",
   "mimetype": "text/x-python",
   "name": "python",
   "nbconvert_exporter": "python",
   "pygments_lexer": "ipython3",
   "version": "3.12.2"
  }
 },
 "nbformat": 4,
 "nbformat_minor": 5
}
