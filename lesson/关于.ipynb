{
 "cells": [
  {
   "cell_type": "markdown",
   "id": "7edc98bc-5445-4125-b279-4c1641d253c4",
   "metadata": {},
   "source": [
    "# 关于"
   ]
  },
  {
   "cell_type": "markdown",
   "id": "f894856a-b67d-4f27-9b92-ccfe51bf6aea",
   "metadata": {},
   "source": [
    "## 作者：马如林"
   ]
  },
  {
   "cell_type": "markdown",
   "id": "b9731f09-f86d-4c9b-acd9-09e7af42df60",
   "metadata": {},
   "source": [
    "软件工程师，桂林电子科技大学计算机主要本硕，CET6，PMP证书，通过软件设计师和项目管理师认证。有超过15+年的大中型企业互联网架构、设计、研发和管理经验。"
   ]
  },
  {
   "cell_type": "code",
   "execution_count": null,
   "id": "d5b97824-429e-4840-9f43-10be5bfe2a55",
   "metadata": {},
   "outputs": [],
   "source": []
  }
 ],
 "metadata": {
  "kernelspec": {
   "display_name": "math",
   "language": "python",
   "name": "math"
  },
  "language_info": {
   "codemirror_mode": {
    "name": "ipython",
    "version": 3
   },
   "file_extension": ".py",
   "mimetype": "text/x-python",
   "name": "python",
   "nbconvert_exporter": "python",
   "pygments_lexer": "ipython3",
   "version": "3.12.2"
  }
 },
 "nbformat": 4,
 "nbformat_minor": 5
}
