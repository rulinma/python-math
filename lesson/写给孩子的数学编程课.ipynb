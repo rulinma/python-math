{
 "cells": [
  {
   "cell_type": "markdown",
   "id": "ca4cb41b-8c73-48e7-bc39-5867bde55996",
   "metadata": {},
   "source": [
    "# 写给孩子的数学编程课（人工智能时代学习）"
   ]
  },
  {
   "cell_type": "markdown",
   "id": "762b0216-a8b6-4fe0-90f7-2ebe6eb1cc04",
   "metadata": {},
   "source": [
    "## Python、数学和人工智能"
   ]
  },
  {
   "cell_type": "code",
   "execution_count": null,
   "id": "61e421c9-bf00-4a5f-92eb-0b1a00963a96",
   "metadata": {},
   "outputs": [],
   "source": []
  }
 ],
 "metadata": {
  "kernelspec": {
   "display_name": "math",
   "language": "python",
   "name": "math"
  },
  "language_info": {
   "codemirror_mode": {
    "name": "ipython",
    "version": 3
   },
   "file_extension": ".py",
   "mimetype": "text/x-python",
   "name": "python",
   "nbconvert_exporter": "python",
   "pygments_lexer": "ipython3",
   "version": "3.12.2"
  }
 },
 "nbformat": 4,
 "nbformat_minor": 5
}
