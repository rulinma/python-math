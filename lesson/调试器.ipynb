{
 "cells": [
  {
   "cell_type": "markdown",
   "id": "405ab169-5195-4a0f-88bf-330a8ed0b6c0",
   "metadata": {
    "editable": true,
    "slideshow": {
     "slide_type": ""
    },
    "tags": []
   },
   "source": [
    "# 调试器"
   ]
  },
  {
   "cell_type": "markdown",
   "id": "eac29a12-30be-456f-8665-4360ac724f9a",
   "metadata": {},
   "source": [
    "程序是七分写，三分调。"
   ]
  },
  {
   "cell_type": "code",
   "execution_count": 13,
   "id": "a8e8a9ae-035e-4d42-9d77-2aa22bd1de82",
   "metadata": {},
   "outputs": [
    {
     "name": "stdout",
     "output_type": "stream",
     "text": [
      "1\n",
      "2\n",
      "3\n"
     ]
    }
   ],
   "source": [
    "i = 0\n",
    "while i < 5:\n",
    "    i = i + 1\n",
    "    print(i)\n",
    "    if i==3:\n",
    "        break\n"
   ]
  },
  {
   "cell_type": "code",
   "execution_count": 14,
   "id": "efc848a7-14e7-4c40-98ca-2dfcfe01fe9f",
   "metadata": {},
   "outputs": [
    {
     "name": "stdout",
     "output_type": "stream",
     "text": [
      "C\n",
      "A\n"
     ]
    }
   ],
   "source": [
    "def get_level(score : int):\n",
    "    if score > 50 and score <= 60:\n",
    "        print('D')\n",
    "    elif score > 60 and score <= 70:\n",
    "        print('C')\n",
    "    elif score > 70 and score <= 80:\n",
    "        print('B')\n",
    "    elif score > 80 and score <= 90:\n",
    "        print('A')\n",
    "    else:\n",
    "        print('A+')\n",
    "\n",
    "get_level(65)\n",
    "get_level(85)"
   ]
  },
  {
   "cell_type": "code",
   "execution_count": 12,
   "id": "d6495eda-eada-4fbd-9b68-7c6cd9502e18",
   "metadata": {},
   "outputs": [
    {
     "name": "stdout",
     "output_type": "stream",
     "text": [
      "C\n",
      "A\n"
     ]
    }
   ],
   "source": [
    "def get_level(score : int):\n",
    "    if score > 90:\n",
    "        print('A+')\n",
    "    elif score > 80 :\n",
    "        print('A')\n",
    "    elif score > 70:\n",
    "        print('B')\n",
    "    elif score > 60:\n",
    "        print('C')\n",
    "    else:\n",
    "        print('D')\n",
    "\n",
    "get_level(65)\n",
    "get_level(85)"
   ]
  },
  {
   "cell_type": "code",
   "execution_count": null,
   "id": "976e9cf2-e1f6-4da2-b42f-5c4966b23cf6",
   "metadata": {},
   "outputs": [],
   "source": []
  }
 ],
 "metadata": {
  "kernelspec": {
   "display_name": "math",
   "language": "python",
   "name": "math"
  },
  "language_info": {
   "codemirror_mode": {
    "name": "ipython",
    "version": 3
   },
   "file_extension": ".py",
   "mimetype": "text/x-python",
   "name": "python",
   "nbconvert_exporter": "python",
   "pygments_lexer": "ipython3",
   "version": "3.12.2"
  }
 },
 "nbformat": 4,
 "nbformat_minor": 5
}
