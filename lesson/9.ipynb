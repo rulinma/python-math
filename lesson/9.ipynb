{
 "cells": [
  {
   "cell_type": "markdown",
   "id": "d44c8749-8987-43ac-b435-ade89447cefe",
   "metadata": {},
   "source": [
    "# break和continue语句"
   ]
  },
  {
   "cell_type": "code",
   "execution_count": null,
   "id": "06654350-9109-4f17-aa33-7b6eaad8847f",
   "metadata": {},
   "outputs": [],
   "source": []
  }
 ],
 "metadata": {
  "kernelspec": {
   "display_name": "math",
   "language": "python",
   "name": "math"
  },
  "language_info": {
   "codemirror_mode": {
    "name": "ipython",
    "version": 3
   },
   "file_extension": ".py",
   "mimetype": "text/x-python",
   "name": "python",
   "nbconvert_exporter": "python",
   "pygments_lexer": "ipython3",
   "version": "3.12.2"
  }
 },
 "nbformat": 4,
 "nbformat_minor": 5
}
