{
 "cells": [
  {
   "cell_type": "markdown",
   "id": "11ed5fbd-d9a6-4d47-972d-f7c7ce89e0fd",
   "metadata": {},
   "source": [
    "# 函数"
   ]
  },
  {
   "cell_type": "markdown",
   "id": "ffda02ae-037d-4ca6-a667-14d7c78f4e95",
   "metadata": {},
   "source": [
    "函数的英文是function，就是功能的意思。有一种形象的说法，函数就是转换装置，把输入进行加工后再输出。"
   ]
  },
  {
   "cell_type": "markdown",
   "id": "e400efb0-7296-4a71-9ced-14c29815bb9f",
   "metadata": {
    "editable": true,
    "slideshow": {
     "slide_type": ""
    },
    "tags": []
   },
   "source": [
    "简单函数"
   ]
  },
  {
   "cell_type": "code",
   "execution_count": 11,
   "id": "0c8799b9-5a0b-43a1-bbad-c7e79b928e91",
   "metadata": {},
   "outputs": [
    {
     "data": {
      "text/plain": [
       "'pong'"
      ]
     },
     "execution_count": 11,
     "metadata": {},
     "output_type": "execute_result"
    }
   ],
   "source": [
    "def ping():\n",
    "    return \"pong\"\n",
    "\n",
    "ping()"
   ]
  },
  {
   "cell_type": "markdown",
   "id": "71c14b31-4d8e-45bd-bfe3-f1f9c2e3800e",
   "metadata": {},
   "source": [
    "传递参数"
   ]
  },
  {
   "cell_type": "code",
   "execution_count": 8,
   "id": "77279c00-89d4-491a-92fb-f8b767a4bb15",
   "metadata": {},
   "outputs": [
    {
     "data": {
      "text/plain": [
       "'hello python'"
      ]
     },
     "execution_count": 8,
     "metadata": {},
     "output_type": "execute_result"
    }
   ],
   "source": [
    "def say_hello(name):\n",
    "    return \"hello \" + name\n",
    "\n",
    "say_hello(\"python\")"
   ]
  },
  {
   "cell_type": "markdown",
   "id": "00a8eb82-34e0-4f9e-9a8c-7f2e65f7c1a3",
   "metadata": {},
   "source": [
    "多个参数"
   ]
  },
  {
   "cell_type": "code",
   "execution_count": 10,
   "id": "5b36cfca-fa58-4abf-b2ce-e629a0e5978d",
   "metadata": {},
   "outputs": [
    {
     "data": {
      "text/plain": [
       "3"
      ]
     },
     "execution_count": 10,
     "metadata": {},
     "output_type": "execute_result"
    }
   ],
   "source": [
    "def add_number(a, b):\n",
    "    return a + b\n",
    "\n",
    "add_number(1, 2)"
   ]
  },
  {
   "cell_type": "markdown",
   "id": "53586e4c-1749-497f-bed5-20c74c2831ab",
   "metadata": {},
   "source": [
    "复杂点的-斐波那契数列"
   ]
  },
  {
   "cell_type": "code",
   "execution_count": 7,
   "id": "f5285e3f-7754-45d0-a6f7-22267af6f019",
   "metadata": {},
   "outputs": [],
   "source": [
    "def fib(n):    # write Fibonacci series up to n / 斐波那契数列\n",
    "    \"\"\"Print a Fibonacci series up to n.\"\"\"\n",
    "    a, b = 0, 1\n",
    "    while a < n:\n",
    "        print(a, end=' ')\n",
    "        a, b = b, a+b\n",
    "    print()"
   ]
  },
  {
   "cell_type": "code",
   "execution_count": 4,
   "id": "4bb3e3fc-d682-4306-86b8-e2a7574c5d6a",
   "metadata": {},
   "outputs": [
    {
     "name": "stdout",
     "output_type": "stream",
     "text": [
      "0 1 1 2 3 5 8 \n"
     ]
    }
   ],
   "source": [
    "fib(10)"
   ]
  },
  {
   "cell_type": "code",
   "execution_count": 6,
   "id": "260f736c-8616-4eab-9b79-58896e51357c",
   "metadata": {},
   "outputs": [
    {
     "name": "stdout",
     "output_type": "stream",
     "text": [
      "0 1 1 2 3 5 8 13 21 34 55 89 \n"
     ]
    }
   ],
   "source": [
    "fib(100)"
   ]
  },
  {
   "cell_type": "markdown",
   "id": "aba82d6b-2139-435b-97c4-e12f1d6337e5",
   "metadata": {},
   "source": [
    "函数标记"
   ]
  },
  {
   "cell_type": "code",
   "execution_count": 18,
   "id": "06880669-d701-4f81-97b3-1303d76f01d3",
   "metadata": {},
   "outputs": [
    {
     "data": {
      "text/plain": [
       "'李明 年龄：20'"
      ]
     },
     "execution_count": 18,
     "metadata": {},
     "output_type": "execute_result"
    }
   ],
   "source": [
    "def f(name: str, age: int):\n",
    "    return name + \" 年龄：\" + str(age)\n",
    "\n",
    "f(\"李明\", 20)"
   ]
  },
  {
   "cell_type": "markdown",
   "id": "0e5bbc97-61a6-40ea-8060-fcef606fdbc3",
   "metadata": {},
   "source": [
    "注：\n",
    "\n",
    "Python3 中常见的数据类型有：\n",
    "\n",
    "Number（数字）\n",
    "String（字符串）\n",
    "bool（布尔类型）\n",
    "List（列表）\n",
    "Tuple（元组）\n",
    "Set（集合）\n",
    "Dictionary（字典）\n",
    "Python3 的六个标准数据类型中：\n",
    "\n",
    "不可变数据（3 个）：Number（数字）、String（字符串）、Tuple（元组）；\n",
    "\n",
    "可变数据（3 个）：List（列表）、Dictionary（字典）、Set（集合）。\n",
    "\n",
    "此外还有一些高级的数据类型，如: 字节数组类型(bytes)。"
   ]
  },
  {
   "cell_type": "code",
   "execution_count": null,
   "id": "e00d76a6-2c64-4c46-aa4b-3b751a0576ba",
   "metadata": {},
   "outputs": [],
   "source": []
  }
 ],
 "metadata": {
  "kernelspec": {
   "display_name": "math",
   "language": "python",
   "name": "math"
  },
  "language_info": {
   "codemirror_mode": {
    "name": "ipython",
    "version": 3
   },
   "file_extension": ".py",
   "mimetype": "text/x-python",
   "name": "python",
   "nbconvert_exporter": "python",
   "pygments_lexer": "ipython3",
   "version": "3.12.2"
  }
 },
 "nbformat": 4,
 "nbformat_minor": 5
}
