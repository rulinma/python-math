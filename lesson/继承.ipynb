{
 "cells": [
  {
   "cell_type": "markdown",
   "id": "64f0ec67-259b-4357-a93e-401033ef59f0",
   "metadata": {
    "editable": true,
    "slideshow": {
     "slide_type": ""
    },
    "tags": []
   },
   "source": [
    "# 继承"
   ]
  },
  {
   "cell_type": "markdown",
   "id": "e845edd1-4383-48fe-9ee2-5020c880d38c",
   "metadata": {},
   "source": [
    "继承（Inheritance）允许我们定义一个类（子类）来继承另一个类（父类）的属性和方法。"
   ]
  },
  {
   "cell_type": "code",
   "execution_count": 1,
   "id": "368c5b9d-4238-4119-9809-fd1f9ad18c75",
   "metadata": {},
   "outputs": [
    {
     "name": "stdout",
     "output_type": "stream",
     "text": [
      "Buddy says Woof!\n",
      "Kitty says Meow!\n"
     ]
    }
   ],
   "source": [
    "class Animal:  \n",
    "    def __init__(self, name):  \n",
    "        self.name = name  \n",
    "  \n",
    "    def speak(self):  \n",
    "        raise NotImplementedError(\"子类必须实现这个方法\")  \n",
    "  \n",
    "class Dog(Animal):  \n",
    "    def speak(self):  \n",
    "        return f\"{self.name} says Woof!\"  \n",
    "  \n",
    "class Cat(Animal):  \n",
    "    def speak(self):  \n",
    "        return f\"{self.name} says Meow!\"  \n",
    "  \n",
    "# 使用  \n",
    "dog = Dog(\"Buddy\")  \n",
    "print(dog.speak())  # Buddy says Woof!  \n",
    "  \n",
    "cat = Cat(\"Kitty\")  \n",
    "print(cat.speak())  # Kitty says Meow!"
   ]
  },
  {
   "cell_type": "code",
   "execution_count": null,
   "id": "be1b1473-d8cd-4657-b889-d3fe051e8d54",
   "metadata": {},
   "outputs": [],
   "source": []
  }
 ],
 "metadata": {
  "kernelspec": {
   "display_name": "Python [conda env:math]",
   "language": "python",
   "name": "conda-env-math-py"
  },
  "language_info": {
   "codemirror_mode": {
    "name": "ipython",
    "version": 3
   },
   "file_extension": ".py",
   "mimetype": "text/x-python",
   "name": "python",
   "nbconvert_exporter": "python",
   "pygments_lexer": "ipython3",
   "version": "3.12.2"
  }
 },
 "nbformat": 4,
 "nbformat_minor": 5
}
