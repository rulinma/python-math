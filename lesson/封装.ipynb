{
 "cells": [
  {
   "cell_type": "markdown",
   "id": "9f9edc26-f314-47c7-9e23-b8c705fc2a8b",
   "metadata": {
    "editable": true,
    "slideshow": {
     "slide_type": ""
    },
    "tags": []
   },
   "source": [
    "# 封装"
   ]
  },
  {
   "cell_type": "markdown",
   "id": "f70cccec-d76f-4411-a9ad-b667522aa425",
   "metadata": {},
   "source": [
    "封装（Encapsulation）是指将数据（属性）和操作数据的方法（行为）组合在一起，形成一个对象，并对对象的属性和方法进行访问限制的过程。"
   ]
  },
  {
   "cell_type": "code",
   "execution_count": 1,
   "id": "ddf54a8b-5268-46d3-b4e5-588edcb859ae",
   "metadata": {
    "editable": true,
    "slideshow": {
     "slide_type": ""
    },
    "tags": []
   },
   "outputs": [
    {
     "name": "stdout",
     "output_type": "stream",
     "text": [
      "张三\n",
      "25\n",
      "年龄必须大于0\n"
     ]
    }
   ],
   "source": [
    "class Person:  \n",
    "    def __init__(self, name, age):  \n",
    "        self.__name = name  # 私有属性  \n",
    "        self.__age = age  \n",
    "  \n",
    "    def get_name(self):  \n",
    "        return self.__name  \n",
    "  \n",
    "    def get_age(self):  \n",
    "        return self.__age  \n",
    "  \n",
    "    def set_age(self, age):  \n",
    "        if age > 0:  \n",
    "            self.__age = age  \n",
    "        else:  \n",
    "            print(\"年龄必须大于0\")  \n",
    "  \n",
    "# 使用  \n",
    "person = Person(\"张三\", 25)  \n",
    "print(person.get_name())  # 张三  \n",
    "print(person.get_age())   # 25  \n",
    "person.set_age(-5)        # 年龄必须大于0"
   ]
  },
  {
   "cell_type": "code",
   "execution_count": null,
   "id": "0493f4f0-cab1-4b67-89e2-62c8f2075045",
   "metadata": {},
   "outputs": [],
   "source": []
  }
 ],
 "metadata": {
  "kernelspec": {
   "display_name": "Python [conda env:math]",
   "language": "python",
   "name": "conda-env-math-py"
  },
  "language_info": {
   "codemirror_mode": {
    "name": "ipython",
    "version": 3
   },
   "file_extension": ".py",
   "mimetype": "text/x-python",
   "name": "python",
   "nbconvert_exporter": "python",
   "pygments_lexer": "ipython3",
   "version": "3.12.2"
  }
 },
 "nbformat": 4,
 "nbformat_minor": 5
}
