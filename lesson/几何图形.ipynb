{
 "cells": [
  {
   "cell_type": "markdown",
   "id": "8e705cc1-ea70-4a52-89cf-a0dd11e5ebda",
   "metadata": {},
   "source": [
    "# 几何图形"
   ]
  },
  {
   "cell_type": "markdown",
   "id": "dea7f2bb-f4b2-40c3-9ea5-7a0254f625a8",
   "metadata": {},
   "source": [
    "## 长方形和正方形"
   ]
  },
  {
   "cell_type": "code",
   "execution_count": 1,
   "id": "450d703b-59ea-4842-b3f9-7967f69490cd",
   "metadata": {},
   "outputs": [],
   "source": [
    "from turtle import *\n",
    "shape('turtle')\n",
    "for i in range(4):\n",
    "    forward(100)\n",
    "    right(90)"
   ]
  },
  {
   "cell_type": "markdown",
   "id": "56215d77-4349-444e-b82b-4e6cb73d6ed3",
   "metadata": {},
   "source": [
    "## 三角形"
   ]
  },
  {
   "cell_type": "code",
   "execution_count": 1,
   "id": "4f1d48eb-4ff3-4768-837d-7c27ffbe752b",
   "metadata": {},
   "outputs": [],
   "source": [
    "import turtle\n",
    "import time\n",
    "\n",
    "def turtle_triangle():\n",
    "    t = turtle.Turtle()\n",
    " \n",
    "    t.shape(\"turtle\")\n",
    "    t.color(\"blue\")\n",
    "    t.speed(1) # 速度大小，0-10之间的整型值，\"fastest\": 0 最快 \"fast\": 10 快 \"normal\": 6 正常 \"slow\": 3 慢 \"slowest\": 1 最慢\n",
    "\n",
    "    time.sleep(3) # 休息3秒\n",
    "    \n",
    "    for _ in range(3): # 是一个循环语句，用于重复执行一段代码块三次。这里的 _ 是一个常用的占位符变量名，它表明在循环体中我们并不打算使用这个循环变量（即range(3)生成的序列中的值）。\n",
    "                       # range(3) 生成一个从0开始到2的整数序列（即0, 1, 2），因为range函数的结束值是开区间，不包含在内。\n",
    "        t.right(60) # 右转60度\n",
    "        time.sleep(3)\n",
    "        t.forward(200)  # 向前移动200个单位\n",
    "        time.sleep(3)\n",
    "        t.right(60)\n",
    "        time.sleep(3)\n",
    " \n",
    "    turtle.exitonclick() # 点击退出\n",
    "\n",
    "turtle_triangle() # 调用函数"
   ]
  },
  {
   "cell_type": "markdown",
   "id": "30bc08d5-0cd7-486b-b664-9c75fd91e0ad",
   "metadata": {},
   "source": [
    "## 圆形"
   ]
  },
  {
   "cell_type": "code",
   "execution_count": 4,
   "id": "0510df2f-9b92-4935-858a-6a0f83dcc7e8",
   "metadata": {},
   "outputs": [],
   "source": [
    "import turtle  \n",
    "  \n",
    "# 设置画布和画笔  \n",
    "screen = turtle.Screen()  # 创建一个画布  \n",
    "screen.bgcolor(\"white\")  # 设置画布背景颜色为白色  \n",
    "\n",
    "pen = turtle.Turtle()  # 创建一个画笔（海龟）  \n",
    "pen.speed(\"slowest\")  # 设置画笔速度，0表示最快  \n",
    "  \n",
    "# 画圆  \n",
    "pen.circle(100)  # 画一个半径为50的圆  \n",
    "  \n",
    "# 结束绘图  \n",
    "turtle.done()  # 保持窗口打开，直到用户关闭"
   ]
  },
  {
   "cell_type": "markdown",
   "id": "d1648998-18f2-4df3-90fe-d14e52091d09",
   "metadata": {},
   "source": [
    "## 周长"
   ]
  },
  {
   "cell_type": "markdown",
   "id": "2adfb98d-e3fe-4063-9ab1-8e66b6a89d18",
   "metadata": {},
   "source": [
    "### 正方形周长"
   ]
  },
  {
   "cell_type": "code",
   "execution_count": 3,
   "id": "8221f13f-be8f-4e57-9eb1-34a3ca570d36",
   "metadata": {},
   "outputs": [
    {
     "data": {
      "text/plain": [
       "12"
      ]
     },
     "execution_count": 3,
     "metadata": {},
     "output_type": "execute_result"
    }
   ],
   "source": [
    "def long(x):\n",
    "    return x * 4;\n",
    "\n",
    "long(3)"
   ]
  },
  {
   "cell_type": "markdown",
   "id": "ec8116ca-1fe9-45bc-b9e2-6e8186eb8fc0",
   "metadata": {},
   "source": [
    "## 面积"
   ]
  },
  {
   "cell_type": "code",
   "execution_count": 1,
   "id": "7597d74b-89d9-423c-8024-2cf0741b6322",
   "metadata": {},
   "outputs": [
    {
     "data": {
      "text/plain": [
       "9"
      ]
     },
     "execution_count": 1,
     "metadata": {},
     "output_type": "execute_result"
    }
   ],
   "source": [
    "def square(x):\n",
    "    return x * x;\n",
    "\n",
    "square(3)"
   ]
  },
  {
   "cell_type": "code",
   "execution_count": 2,
   "id": "e6dd14e6-33f5-4244-a579-28603e70e41c",
   "metadata": {},
   "outputs": [
    {
     "data": {
      "text/plain": [
       "16"
      ]
     },
     "execution_count": 2,
     "metadata": {},
     "output_type": "execute_result"
    }
   ],
   "source": [
    "square(4)"
   ]
  },
  {
   "cell_type": "code",
   "execution_count": null,
   "id": "c48f531e-ec97-468f-a218-b45d9facce87",
   "metadata": {},
   "outputs": [],
   "source": []
  }
 ],
 "metadata": {
  "kernelspec": {
   "display_name": "math",
   "language": "python",
   "name": "math"
  },
  "language_info": {
   "codemirror_mode": {
    "name": "ipython",
    "version": 3
   },
   "file_extension": ".py",
   "mimetype": "text/x-python",
   "name": "python",
   "nbconvert_exporter": "python",
   "pygments_lexer": "ipython3",
   "version": "3.12.2"
  }
 },
 "nbformat": 4,
 "nbformat_minor": 5
}
