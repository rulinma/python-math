{
 "cells": [
  {
   "cell_type": "markdown",
   "id": "d44c8749-8987-43ac-b435-ade89447cefe",
   "metadata": {
    "editable": true,
    "slideshow": {
     "slide_type": ""
    },
    "tags": []
   },
   "source": [
    "# break语句"
   ]
  },
  {
   "cell_type": "markdown",
   "id": "ecd7ab66-e399-466e-9d8f-a31b6c6ce673",
   "metadata": {},
   "source": [
    "在Python中，break语句用于立即退出循环体，无论是for循环还是while循环。当执行到break语句时，程序跳出最近的包围它的循环体，并开始执行循环之后的下一条语句。"
   ]
  },
  {
   "cell_type": "code",
   "execution_count": 8,
   "id": "2e038a1c-4789-452a-85d6-b142c8fd59a5",
   "metadata": {
    "editable": true,
    "slideshow": {
     "slide_type": ""
    },
    "tags": []
   },
   "outputs": [
    {
     "name": "stdout",
     "output_type": "stream",
     "text": [
      "1\n",
      "2\n",
      "3\n",
      "4\n"
     ]
    }
   ],
   "source": [
    "for i in range(1, 10):  \n",
    "    if i == 5:  \n",
    "        break  # 当i等于5时，退出循环  \n",
    "    print(i)  \n",
    "# 输出: 1 2 3 4"
   ]
  },
  {
   "cell_type": "code",
   "execution_count": 5,
   "id": "4dc1eb49-2263-43b1-8e93-6f055bc6b72f",
   "metadata": {},
   "outputs": [
    {
     "name": "stdout",
     "output_type": "stream",
     "text": [
      "1\n",
      "2\n",
      "3\n",
      "4\n",
      "5\n",
      "6\n",
      "7\n",
      "8\n",
      "9\n"
     ]
    }
   ],
   "source": [
    "for i in range(1, 10):  \n",
    "    print(i)  \n",
    "# 输出: 1 2 3 4 5 6 7 8 9"
   ]
  },
  {
   "cell_type": "code",
   "execution_count": 2,
   "id": "2ca5942f-76a7-4732-a687-a2ae37e3f779",
   "metadata": {},
   "outputs": [
    {
     "name": "stdout",
     "output_type": "stream",
     "text": [
      "1\n",
      "2\n",
      "3\n",
      "4\n"
     ]
    }
   ],
   "source": [
    "i = 0  \n",
    "while i < 10:  \n",
    "    i = i + 1  \n",
    "    if i == 5:  \n",
    "        break  # 当i等于5时，退出循环  \n",
    "    print(i)  \n",
    "# 输出: 1 2 3 4"
   ]
  },
  {
   "cell_type": "code",
   "execution_count": 7,
   "id": "bc4ef0e7-a87b-49e6-860b-5e084eeaa612",
   "metadata": {},
   "outputs": [
    {
     "name": "stdout",
     "output_type": "stream",
     "text": [
      "1\n",
      "2\n",
      "3\n",
      "4\n",
      "5\n",
      "6\n",
      "7\n",
      "8\n",
      "9\n",
      "10\n"
     ]
    }
   ],
   "source": [
    "i = 0  \n",
    "while i < 10:  # 条件语句\n",
    "    i = i + 1  \n",
    "    print(i)  \n",
    "# 输出: 1 2 3 4 5 6 7 8 9"
   ]
  },
  {
   "cell_type": "markdown",
   "id": "b297c6ed-8186-4ece-bfbc-077518e9423c",
   "metadata": {},
   "source": [
    "## 注意事项"
   ]
  },
  {
   "cell_type": "markdown",
   "id": "ddec96a6-9261-4d6b-a2c9-fe963afe476c",
   "metadata": {},
   "source": [
    "* break语句只能用在循环体中，不能用在循环体之外。\n",
    "* break语句会完全结束循环，不再执行循环中break之后的语句。\n",
    "* 在嵌套循环中，break语句只会结束最近的那一层循环。"
   ]
  },
  {
   "cell_type": "markdown",
   "id": "92f81bc4-04c1-42c0-966d-d1858ec8a133",
   "metadata": {},
   "source": [
    "## 嵌套循环中使用break"
   ]
  },
  {
   "cell_type": "code",
   "execution_count": 4,
   "id": "11e9067c-a4e4-46b9-9dcc-799bbb98c1e7",
   "metadata": {},
   "outputs": [
    {
     "name": "stdout",
     "output_type": "stream",
     "text": [
      "i=1, j=1\n",
      "内层循环结束\n",
      "i=2, j=1\n",
      "内层循环结束\n"
     ]
    }
   ],
   "source": [
    "for i in range(1, 3):  \n",
    "    for j in range(1, 3):  \n",
    "        if j == 2:  \n",
    "            break  # 跳出内层循环  \n",
    "        print(f\"i={i}, j={j}\")  \n",
    "    print(\"内层循环结束\")  \n",
    "# 输出:  \n",
    "# i=1, j=1  \n",
    "# 内层循环结束  \n",
    "# i=2, j=1  \n",
    "# 内层循环结束"
   ]
  },
  {
   "cell_type": "code",
   "execution_count": null,
   "id": "77fd13fb-2dce-4ad1-9040-e26846380f50",
   "metadata": {},
   "outputs": [],
   "source": []
  }
 ],
 "metadata": {
  "kernelspec": {
   "display_name": "math",
   "language": "python",
   "name": "math"
  },
  "language_info": {
   "codemirror_mode": {
    "name": "ipython",
    "version": 3
   },
   "file_extension": ".py",
   "mimetype": "text/x-python",
   "name": "python",
   "nbconvert_exporter": "python",
   "pygments_lexer": "ipython3",
   "version": "3.12.2"
  }
 },
 "nbformat": 4,
 "nbformat_minor": 5
}
