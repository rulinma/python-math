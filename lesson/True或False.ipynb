{
 "cells": [
  {
   "cell_type": "markdown",
   "id": "59c44870-b4d8-41ae-9611-9277c1d436d6",
   "metadata": {},
   "source": [
    "# True或False"
   ]
  },
  {
   "cell_type": "code",
   "execution_count": 1,
   "id": "94917a3c-cf84-45bf-8f71-25b1a5e4fb56",
   "metadata": {
    "editable": true,
    "slideshow": {
     "slide_type": ""
    },
    "tags": []
   },
   "outputs": [
    {
     "name": "stdout",
     "output_type": "stream",
     "text": [
      "False\n",
      "True\n",
      "False\n",
      "False\n",
      "True\n"
     ]
    }
   ],
   "source": [
    "print(11 > 12)\n",
    "print(12 > 11)\n",
    "print(88 > 88)\n",
    "print(88 < 88)\n",
    "print(88 == 88)"
   ]
  },
  {
   "cell_type": "code",
   "execution_count": 2,
   "id": "a7ec70e2-4b5b-41cf-84ea-b9755d085a15",
   "metadata": {
    "editable": true,
    "slideshow": {
     "slide_type": ""
    },
    "tags": []
   },
   "outputs": [
    {
     "name": "stdout",
     "output_type": "stream",
     "text": [
      "False\n",
      "True\n"
     ]
    }
   ],
   "source": [
    "print(3.1 == 3.2)\n",
    "print(3.1 == 3.1)"
   ]
  },
  {
   "cell_type": "code",
   "execution_count": 11,
   "id": "d344fa1c-561d-4a1d-b527-2f45c61774f1",
   "metadata": {},
   "outputs": [
    {
     "name": "stdout",
     "output_type": "stream",
     "text": [
      "True\n",
      "True\n",
      "False\n",
      "False\n"
     ]
    }
   ],
   "source": [
    "print('abc' == 'abc')\n",
    "print(\"abc\" == \"abc\")\n",
    "print('abc' == 'abcd')\n",
    "print(\"abc\" == \"abcd\")"
   ]
  },
  {
   "cell_type": "code",
   "execution_count": 8,
   "id": "d5581e22-c9ad-45de-afa6-00f06ddf736d",
   "metadata": {},
   "outputs": [
    {
     "name": "stdout",
     "output_type": "stream",
     "text": [
      "True\n",
      "True\n",
      "False\n",
      "True\n",
      "True\n"
     ]
    }
   ],
   "source": [
    "print(True == 1)\n",
    "print(False == 0)\n",
    "print(True == False)\n",
    "print(True == True)\n",
    "print(False == False)"
   ]
  },
  {
   "cell_type": "code",
   "execution_count": 9,
   "id": "dcf45243-47d2-4365-b322-896eb98ba2ec",
   "metadata": {},
   "outputs": [
    {
     "name": "stdout",
     "output_type": "stream",
     "text": [
      "True\n"
     ]
    }
   ],
   "source": [
    "a = 'abc'\n",
    "b = 'abc'\n",
    "print(a == b)"
   ]
  },
  {
   "cell_type": "code",
   "execution_count": 10,
   "id": "c9863fd0-7a47-46ec-a063-7dd47ef3c9a8",
   "metadata": {},
   "outputs": [
    {
     "name": "stdout",
     "output_type": "stream",
     "text": [
      "False\n"
     ]
    }
   ],
   "source": [
    "a = 'abc'\n",
    "b = 'abcd'\n",
    "print(a == b)"
   ]
  },
  {
   "cell_type": "code",
   "execution_count": 17,
   "id": "7da7ee8c-c7e6-42da-b7a8-bb72c93225ca",
   "metadata": {},
   "outputs": [
    {
     "name": "stdout",
     "output_type": "stream",
     "text": [
      "a!=1\n"
     ]
    }
   ],
   "source": [
    "a = 2\n",
    "if (a == 1 ): \n",
    "    print(\"a==1\" )\n",
    "else: \n",
    "    print(\"a!=1\" )"
   ]
  },
  {
   "cell_type": "code",
   "execution_count": 16,
   "id": "d6b2f1d5-19f3-48b3-b117-120b3e4a1775",
   "metadata": {},
   "outputs": [
    {
     "name": "stdout",
     "output_type": "stream",
     "text": [
      "a==1\n"
     ]
    }
   ],
   "source": [
    "a = 1\n",
    "if (a == 1 ): \n",
    "    print(\"a==1\" )\n",
    "else: \n",
    "    print(\"a!=1\" )"
   ]
  },
  {
   "cell_type": "code",
   "execution_count": 19,
   "id": "36ee0cbb-0533-429d-94e5-c544d17222a2",
   "metadata": {},
   "outputs": [
    {
     "name": "stdout",
     "output_type": "stream",
     "text": [
      "1\n",
      "2\n",
      "3\n",
      "4\n"
     ]
    }
   ],
   "source": [
    "a = 1\n",
    "while (a < 5):\n",
    "    print(a)\n",
    "    a = a + 1"
   ]
  },
  {
   "cell_type": "code",
   "execution_count": null,
   "id": "4775e3e7-f807-49ef-a010-49cf6898b7af",
   "metadata": {},
   "outputs": [],
   "source": []
  }
 ],
 "metadata": {
  "kernelspec": {
   "display_name": "math",
   "language": "python",
   "name": "math"
  },
  "language_info": {
   "codemirror_mode": {
    "name": "ipython",
    "version": 3
   },
   "file_extension": ".py",
   "mimetype": "text/x-python",
   "name": "python",
   "nbconvert_exporter": "python",
   "pygments_lexer": "ipython3",
   "version": "3.12.2"
  }
 },
 "nbformat": 4,
 "nbformat_minor": 5
}
