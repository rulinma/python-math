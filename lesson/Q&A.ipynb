{
 "cells": [
  {
   "cell_type": "markdown",
   "id": "4e0810b3-24f8-4a95-879f-210547feeed9",
   "metadata": {},
   "source": [
    "# Q & A"
   ]
  },
  {
   "cell_type": "markdown",
   "id": "fd21a2f6-0734-4489-b23c-5b6ffeb06a2a",
   "metadata": {},
   "source": [
    "<font color=red>个人意见，仅供参考。</font>"
   ]
  },
  {
   "cell_type": "markdown",
   "id": "c2c64496-1ac3-40f1-aa6c-f6ab1fd3d460",
   "metadata": {},
   "source": [
    "## 是否适合学习计算机?"
   ]
  },
  {
   "cell_type": "markdown",
   "id": "84d520f1-87ef-4650-a264-f58e57142bd2",
   "metadata": {},
   "source": [
    "* 如果数学高考能够到120及以上，基本都可以，哪怕90及以上也可以，普通人的计算机主要看逻辑思维能力。\n",
    "* 如果不是正规大学本科及以上，不推荐学习，现在出来找工作估计很难。\n",
    "\n",
    "注：如果能学数学，可以选择数学，我认为数学要比计算机强，计算机毕业的比不了数学专业的。当然数学要求也就高了，相对高考估计要140左右才行，并且对数学有兴趣，不然估计会比较痛苦。<font color=blue>数学专业的搞计算机程序不难，而计算机的去搞数学则很难。</font>"
   ]
  },
  {
   "cell_type": "markdown",
   "id": "5f2096f0-a6ac-450a-bd06-172f90396055",
   "metadata": {},
   "source": [
    "## 计算机专业大学生如何学习计算机？"
   ]
  },
  {
   "cell_type": "markdown",
   "id": "8a7d6dad-e834-450e-b7c4-e84311714fff",
   "metadata": {},
   "source": [
    "核心课程：\n",
    "* C语言编程\n",
    "* 数据结构和算法\n",
    "* 面向对象编程\n",
    "\n",
    "次核心课程：\n",
    "* 操作系统\n",
    "* 计算机网络\n",
    "* 数据库\n",
    "\n",
    "再次核心课程：\n",
    "* 计算机组成原理\n",
    "* 汇编语言\n",
    "* 编译原理\n",
    "\n",
    "注：从我的实际软件工程师经验来看是这样的，如果搞学术或其他方面，根据自身情况判断。<font color=blue>编程课很重要，但最重要的应该是数据结构和算法。</font>"
   ]
  },
  {
   "cell_type": "markdown",
   "id": "d657c0c4-7b6e-42ae-b9ae-95b221d2f1ba",
   "metadata": {},
   "source": [
    "## 考研和工作选择哪个？"
   ]
  },
  {
   "cell_type": "markdown",
   "id": "55a28b40-73bc-41c1-8411-430f131b6422",
   "metadata": {},
   "source": [
    "我不推荐考研，我认为普通考研和本科的区别就是一篇论文，网上找几篇看看就能体会，不如工作。当然如果想从事科研的需要去考，<font color=blue>普通工程师等没必要</font>。"
   ]
  },
  {
   "cell_type": "markdown",
   "id": "db393ac4-72a8-4cda-9d28-ab5b1fe9bdc0",
   "metadata": {},
   "source": [
    "## 如何找工作？"
   ]
  },
  {
   "cell_type": "markdown",
   "id": "ee684baf-a594-458c-8138-f3cf43872623",
   "metadata": {},
   "source": [
    "普通人可能最有效的办法是<font color=blue>刷题或参加竞赛拿奖</font>。比较好的面试我认为就是弄2题LeetCode中等题和附加1道难题，其它的都是无关重要的。"
   ]
  },
  {
   "cell_type": "markdown",
   "id": "5dadc321-807f-4b4c-891d-e6da7b0a34ff",
   "metadata": {},
   "source": [
    "## 英语重要吗？"
   ]
  },
  {
   "cell_type": "markdown",
   "id": "42005094-b2f5-4ab5-a024-164bc6c925c4",
   "metadata": {},
   "source": [
    "<font color=blue>计算机文献基本还是英文的</font>，至少要有个四级吧，六级更好些，如果有国外经历肯定加分。"
   ]
  },
  {
   "cell_type": "markdown",
   "id": "f59a7290-7d1c-4497-a4e8-f13a53f3022d",
   "metadata": {},
   "source": [
    "## 项目经验重要吗？"
   ]
  },
  {
   "cell_type": "markdown",
   "id": "2978f11a-aa99-476c-98ec-190351cb6eff",
   "metadata": {},
   "source": [
    "毕业生找工作，有没有这个，从我来说不是太看重，更看重的是算法题，如果算法很好，其他也都正常，企业会要的。而且就是所谓的有些项目经验，不是名企实习的也就是个说法，不太重要的。企业对毕业生的主要期望还是聪明，项目跟着师傅做3-6个月基本也就没啥问题了。当然你跟着网上的教程能学习一下也可以，没必要太上心，可以的话<font color=blue>多刷题，早实习</font>。"
   ]
  },
  {
   "cell_type": "markdown",
   "id": "8dd021ef-13dd-481c-8487-14e124359c58",
   "metadata": {},
   "source": [
    "## 如何应对实习？"
   ]
  },
  {
   "cell_type": "markdown",
   "id": "1d664bb1-685f-47da-82b5-02d3182ada3a",
   "metadata": {},
   "source": [
    "这个就是<font color=blue>提前准备和申请</font>，所以最好报大城市，机会多。很多人找工作是实习生转正的，企业也喜欢，实习几个月相当于试用了，可以比较好的考核一个人了，好的自然会让你留下来。"
   ]
  },
  {
   "cell_type": "markdown",
   "id": "279c1050-dcda-4011-aa65-e0f9a5537e26",
   "metadata": {},
   "source": [
    "## 如何看待ChatGPT等人工智能？"
   ]
  },
  {
   "cell_type": "markdown",
   "id": "8f3e4dab-5c32-4465-bce3-cfd95ba4546c",
   "metadata": {},
   "source": [
    "<font color=blue>人工智能是趋势，对数学和计算机来说应该是利好。</font>人工智能在未来能取代绝大部分的人类劳动是可以预期的。"
   ]
  },
  {
   "cell_type": "markdown",
   "id": "c00136ce-0dc4-4640-8a82-7daef9409eb1",
   "metadata": {},
   "source": [
    "## 如何看到程序员35+失业？"
   ]
  },
  {
   "cell_type": "markdown",
   "id": "16412e88-94c7-45b4-9536-35ccae2fba96",
   "metadata": {},
   "source": [
    "<font color=blue>对比其他行业，可能计算机还是比较好的选择，对比着看</font>\n",
    "* 至少年轻的时候赚到钱了\n",
    "* 找工作只要能做题，不要托关系，求哥哥拜姐姐的\n",
    "* 能去大城市，见多识广，哪怕失业了，机会或者想法也会多些\n",
    "* 也不是100%，做的好的有行业经验的可能一直做下去"
   ]
  },
  {
   "cell_type": "markdown",
   "id": "335b2667-4843-4ea4-922d-faa401f51809",
   "metadata": {},
   "source": [
    "## 其他建议"
   ]
  },
  {
   "attachments": {},
   "cell_type": "markdown",
   "id": "3e367ab1-2a13-4ffb-8801-614f3676ee6f",
   "metadata": {},
   "source": [
    "* 不要只看教科书，多看看相关的国外图书，写的比我们好很多很多\n",
    "* github等源码学习会很有价值，创造从模仿开始\n",
    "* 数学、英语很重要，这个看各人发展的高度\n",
    "* 可以的话，多向前人请教，少走弯路\n",
    "* <font color=red>没有认识的大佬，咨询我也可以，商业社会，付费即可。</font>"
   ]
  },
  {
   "cell_type": "code",
   "execution_count": null,
   "id": "ebe4bdb7-0615-4065-b174-7f95f517ddc4",
   "metadata": {},
   "outputs": [],
   "source": []
  }
 ],
 "metadata": {
  "kernelspec": {
   "display_name": "math",
   "language": "python",
   "name": "math"
  },
  "language_info": {
   "codemirror_mode": {
    "name": "ipython",
    "version": 3
   },
   "file_extension": ".py",
   "mimetype": "text/x-python",
   "name": "python",
   "nbconvert_exporter": "python",
   "pygments_lexer": "ipython3",
   "version": "3.12.2"
  }
 },
 "nbformat": 4,
 "nbformat_minor": 5
}
