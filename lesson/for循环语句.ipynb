{
 "cells": [
  {
   "cell_type": "markdown",
   "id": "89cf3b75-e058-471b-8e5f-bef622e332bc",
   "metadata": {},
   "source": [
    "# for循环语句\n"
   ]
  },
  {
   "cell_type": "markdown",
   "id": "9a5940c5-0d18-45ca-b0c1-6e956dc254d4",
   "metadata": {},
   "source": [
    "语句格式\n",
    "```注意句末的冒号```\n",
    "for 变量 in 可迭代对象(序列):\n",
    "    # 注意循环体缩进\n",
    "    循环体"
   ]
  },
  {
   "cell_type": "code",
   "execution_count": 2,
   "id": "270a9267-a355-41be-b1f9-169450345603",
   "metadata": {},
   "outputs": [
    {
     "name": "stdout",
     "output_type": "stream",
     "text": [
      "apple\n",
      "banana\n",
      "orange\n"
     ]
    }
   ],
   "source": [
    "fruits = [\"apple\", \"banana\", \"orange\"]\n",
    "for x in fruits:\n",
    "  print(x)"
   ]
  },
  {
   "cell_type": "code",
   "execution_count": 3,
   "id": "005e934d-3031-425b-a306-a707be4cd19d",
   "metadata": {},
   "outputs": [
    {
     "name": "stdout",
     "output_type": "stream",
     "text": [
      "a\n",
      "p\n",
      "p\n",
      "l\n",
      "e\n"
     ]
    }
   ],
   "source": [
    "for x in \"apple\":\n",
    "  print(x)"
   ]
  },
  {
   "cell_type": "markdown",
   "id": "5435d995-85ea-4c54-8a2f-7a9163a58877",
   "metadata": {},
   "source": [
    "打印1-100数字"
   ]
  },
  {
   "cell_type": "code",
   "execution_count": 10,
   "id": "2def2577-108c-40b0-858e-600cb5ae9a43",
   "metadata": {},
   "outputs": [
    {
     "name": "stdout",
     "output_type": "stream",
     "text": [
      "1,2,3,4,5,6,7,8,9,10,11,12,13,14,15,16,17,18,19,20,21,22,23,24,25,26,27,28,29,30,31,32,33,34,35,36,37,38,39,40,41,42,43,44,45,46,47,48,49,50,51,52,53,54,55,56,57,58,59,60,61,62,63,64,65,66,67,68,69,70,71,72,73,74,75,76,77,78,79,80,81,82,83,84,85,86,87,88,89,90,91,92,93,94,95,96,97,98,99,100\n"
     ]
    }
   ],
   "source": [
    "for i in range(1, 101):  \n",
    "    # 打印当前数，并在其后添加逗号（除了最后一个数）  \n",
    "    if i < 100:  \n",
    "        print(i, end=',')  \n",
    "    else:  \n",
    "        # 如果是最后一个数，则正常打印（不带逗号）  \n",
    "        print(i)"
   ]
  },
  {
   "cell_type": "code",
   "execution_count": 11,
   "id": "61aa1264-bbc1-4657-aeb0-191ebf5f6a6b",
   "metadata": {},
   "outputs": [
    {
     "name": "stdout",
     "output_type": "stream",
     "text": [
      "1 2 3 4 5 6 7 8 9 10 \n",
      "11 12 13 14 15 16 17 18 19 20 \n",
      "21 22 23 24 25 26 27 28 29 30 \n",
      "31 32 33 34 35 36 37 38 39 40 \n",
      "41 42 43 44 45 46 47 48 49 50 \n",
      "51 52 53 54 55 56 57 58 59 60 \n",
      "61 62 63 64 65 66 67 68 69 70 \n",
      "71 72 73 74 75 76 77 78 79 80 \n",
      "81 82 83 84 85 86 87 88 89 90 \n",
      "91 92 93 94 95 96 97 98 99 100 \n"
     ]
    }
   ],
   "source": [
    "# 打印1到100的数字，每10个数字换一次行  \n",
    "for i in range(1, 101):  # 遍历1到100的数字  \n",
    "    print(i, end=' ')  # 打印数字，并设置end参数为空格，这样数字之间会用空格分隔  \n",
    "    if (i % 10) == 0:  # 如果i是10的倍数，说明已经打印了10个数字  \n",
    "        print()  # 打印一个空行，实现换行效果"
   ]
  },
  {
   "cell_type": "markdown",
   "id": "213fba77-0e2f-488f-ad99-484272270d0e",
   "metadata": {},
   "source": [
    "计算1-100的数字和"
   ]
  },
  {
   "cell_type": "code",
   "execution_count": 14,
   "id": "1f61d887-5647-4ec1-b460-4f97cbb63f5c",
   "metadata": {},
   "outputs": [
    {
     "name": "stdout",
     "output_type": "stream",
     "text": [
      "5050\n"
     ]
    }
   ],
   "source": [
    "sum = 0\n",
    "for i in range(1, 101):\n",
    "    sum += i\n",
    "print(sum)"
   ]
  },
  {
   "cell_type": "markdown",
   "id": "5ba4af52-a5ae-4e08-93e0-3b187e982862",
   "metadata": {},
   "source": [
    "公式计算"
   ]
  },
  {
   "cell_type": "code",
   "execution_count": 17,
   "id": "185b6dfa-d009-441d-baca-ca3b97936068",
   "metadata": {},
   "outputs": [
    {
     "name": "stdout",
     "output_type": "stream",
     "text": [
      "5050.0\n"
     ]
    }
   ],
   "source": [
    "sum = (1 + 100) * 100 /2\n",
    "print(sum)\n",
    "# 梯形公式"
   ]
  },
  {
   "cell_type": "markdown",
   "id": "b62b5213-2b44-430c-a6f7-1ef74c7056a7",
   "metadata": {},
   "source": [
    "<font color=blue>上面2个计算1-100和的实例，可以看到算法的好处，下面的计算效率大大的提高了。</font>"
   ]
  },
  {
   "cell_type": "markdown",
   "id": "90d25386-7631-452a-b702-37f580719140",
   "metadata": {},
   "source": [
    "range实例"
   ]
  },
  {
   "cell_type": "code",
   "execution_count": 20,
   "id": "e70fe391-3d39-4622-a507-0a03e1592aed",
   "metadata": {},
   "outputs": [
    {
     "name": "stdout",
     "output_type": "stream",
     "text": [
      "0\n",
      "1\n",
      "2\n",
      "3\n",
      "4\n",
      "5\n"
     ]
    }
   ],
   "source": [
    "for x in range(6):\n",
    "  print(x)"
   ]
  },
  {
   "cell_type": "markdown",
   "id": "ecd6611d-1ffe-4ac7-8642-8cbec1bba99b",
   "metadata": {},
   "source": [
    "range实例"
   ]
  },
  {
   "cell_type": "code",
   "execution_count": 21,
   "id": "c546f380-d456-477f-8d84-b02dcbd3fbc0",
   "metadata": {},
   "outputs": [
    {
     "name": "stdout",
     "output_type": "stream",
     "text": [
      "2\n",
      "3\n",
      "4\n",
      "5\n"
     ]
    }
   ],
   "source": [
    "for x in range(2, 6):\n",
    "  print(x)"
   ]
  },
  {
   "cell_type": "markdown",
   "id": "bd0eba24-3d3a-4942-8c08-254ad651d526",
   "metadata": {},
   "source": [
    "range实例"
   ]
  },
  {
   "cell_type": "code",
   "execution_count": 22,
   "id": "12f7c904-200a-4747-8146-ab7151793953",
   "metadata": {},
   "outputs": [
    {
     "name": "stdout",
     "output_type": "stream",
     "text": [
      "2\n",
      "5\n",
      "8\n",
      "11\n",
      "14\n",
      "17\n",
      "20\n",
      "23\n",
      "26\n",
      "29\n"
     ]
    }
   ],
   "source": [
    "for x in range(2, 30, 3):\n",
    "  print(x)"
   ]
  },
  {
   "cell_type": "markdown",
   "id": "89a91459-a689-4164-bd38-6d3a7bcce41a",
   "metadata": {},
   "source": [
    "双重循环"
   ]
  },
  {
   "cell_type": "code",
   "execution_count": 4,
   "id": "9e196d20-234f-48a9-bdb0-a0deafb62485",
   "metadata": {},
   "outputs": [
    {
     "name": "stdout",
     "output_type": "stream",
     "text": [
      "red apple\n",
      "red banana\n",
      "red orange\n",
      "big apple\n",
      "big banana\n",
      "big orange\n",
      "tasty apple\n",
      "tasty banana\n",
      "tasty orange\n"
     ]
    }
   ],
   "source": [
    "adj = [\"red\", \"big\", \"tasty\"]\n",
    "fruits = [\"apple\", \"banana\", \"orange\"]\n",
    "\n",
    "for x in adj:\n",
    "  for y in fruits:\n",
    "    print(x, y)"
   ]
  },
  {
   "attachments": {},
   "cell_type": "markdown",
   "id": "249d578e-dc29-44e0-b490-7fd8293a98ef",
   "metadata": {},
   "source": [
    "循环结束的时候"
   ]
  },
  {
   "cell_type": "code",
   "execution_count": 27,
   "id": "c1e8ca38-77c5-4873-90eb-cafbec12be65",
   "metadata": {},
   "outputs": [
    {
     "name": "stdout",
     "output_type": "stream",
     "text": [
      "0\n",
      "1\n",
      "2\n",
      "3\n",
      "4\n",
      "5\n",
      "5\n",
      "Finally finished!\n"
     ]
    }
   ],
   "source": [
    "for x in range(6):\n",
    "  print(x)\n",
    "else:\n",
    "  print(x)\n",
    "  print(\"Finally finished!\")"
   ]
  },
  {
   "cell_type": "markdown",
   "id": "ece2844b-4bbc-4798-a6fc-40e223860ad7",
   "metadata": {},
   "source": [
    "这个应该是python特有的，注意一下。"
   ]
  },
  {
   "cell_type": "markdown",
   "id": "8e8b01ce-95b1-48cc-9b43-11b8816c9dc5",
   "metadata": {},
   "source": [
    "## 小结\n",
    "* 循环通过简单的语句，可执行无限操作，特别显示出了计算机的优势。"
   ]
  }
 ],
 "metadata": {
  "kernelspec": {
   "display_name": "math",
   "language": "python",
   "name": "math"
  },
  "language_info": {
   "codemirror_mode": {
    "name": "ipython",
    "version": 3
   },
   "file_extension": ".py",
   "mimetype": "text/x-python",
   "name": "python",
   "nbconvert_exporter": "python",
   "pygments_lexer": "ipython3",
   "version": "3.12.2"
  }
 },
 "nbformat": 4,
 "nbformat_minor": 5
}
