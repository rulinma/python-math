{
 "cells": [
  {
   "cell_type": "markdown",
   "id": "eee4c98a-d07f-4d92-a6c8-abdef5f6692d",
   "metadata": {},
   "source": [
    "# 多态"
   ]
  },
  {
   "cell_type": "code",
   "execution_count": null,
   "id": "90ee9044-c384-48e0-a301-42a8d469db67",
   "metadata": {},
   "outputs": [],
   "source": [
    "多态（Polymorphism）性意味着允许不同类的对象对同一消息做出响应，或者说，允许一个接口使用不同的实例而执行不同操作。"
   ]
  },
  {
   "cell_type": "code",
   "execution_count": 1,
   "id": "fd727be6-cf5c-410b-9a8a-7af553917c83",
   "metadata": {},
   "outputs": [
    {
     "name": "stdout",
     "output_type": "stream",
     "text": [
      "Buddy says Woof!\n",
      "Kitty says Meow!\n"
     ]
    }
   ],
   "source": [
    "class Animal:  \n",
    "    def __init__(self, name):  \n",
    "        self.name = name  \n",
    "  \n",
    "    def speak(self):  \n",
    "        raise NotImplementedError(\"子类必须实现这个方法\")  \n",
    "  \n",
    "class Dog(Animal):  \n",
    "    def speak(self):  \n",
    "        return self.name + ' says Woof!'  \n",
    "  \n",
    "class Cat(Animal):  \n",
    "    def speak(self):  \n",
    "        return self.name + ' says Meow!'  \n",
    "  \n",
    "def animal_speak(animal):  \n",
    "    print(animal.speak())  \n",
    "  \n",
    "# 使用  \n",
    "dog = Dog(\"Buddy\")  \n",
    "cat = Cat(\"Kitty\")  \n",
    "  \n",
    "animal_speak(dog)  # Buddy says Woof!  \n",
    "animal_speak(cat)  # Kitty says Meow!"
   ]
  },
  {
   "cell_type": "code",
   "execution_count": null,
   "id": "2e063fd0-8ba9-42ad-8d8b-d34dbc7e790e",
   "metadata": {},
   "outputs": [],
   "source": []
  }
 ],
 "metadata": {
  "kernelspec": {
   "display_name": "Python [conda env:math]",
   "language": "python",
   "name": "conda-env-math-py"
  },
  "language_info": {
   "codemirror_mode": {
    "name": "ipython",
    "version": 3
   },
   "file_extension": ".py",
   "mimetype": "text/x-python",
   "name": "python",
   "nbconvert_exporter": "python",
   "pygments_lexer": "ipython3",
   "version": "3.12.2"
  }
 },
 "nbformat": 4,
 "nbformat_minor": 5
}
