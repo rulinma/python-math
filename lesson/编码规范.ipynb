{
 "cells": [
  {
   "cell_type": "markdown",
   "id": "e46c8755-2029-4314-a54a-159b2700ae36",
   "metadata": {},
   "source": [
    "## 编码规范"
   ]
  },
  {
   "cell_type": "markdown",
   "id": "6cbf1b1c-8992-4779-8057-c677aee4c3b9",
   "metadata": {},
   "source": [
    "## 参考规范"
   ]
  },
  {
   "cell_type": "markdown",
   "id": "144ed860-f82d-4ad4-bf9e-c0ed553a02cf",
   "metadata": {
    "editable": true,
    "slideshow": {
     "slide_type": ""
    },
    "tags": []
   },
   "source": [
    "https://google.github.io/styleguide/pyguide.html"
   ]
  },
  {
   "cell_type": "markdown",
   "id": "3f20a8b0-66fb-49e6-ae1b-42acd7d4a91b",
   "metadata": {},
   "source": [
    "https://zh-google-styleguide.readthedocs.io/en/latest/google-python-styleguide"
   ]
  },
  {
   "cell_type": "markdown",
   "id": "10c37577-860e-450a-be6a-0e0492433cc9",
   "metadata": {},
   "source": [
    "<font color=blue>遵循统一的编码规范，可以让人阅读源码时心旷神怡，体现一个人的职业素养和公司的管理技术水平。</font>"
   ]
  },
  {
   "cell_type": "markdown",
   "id": "fc3c76e8-fcf7-4c60-ab38-188068aa9ce5",
   "metadata": {},
   "source": [
    "目前，一般的集成开发工具（IDE）都支持规范设定和检查提示，也可以安装pylint进行检查。"
   ]
  },
  {
   "cell_type": "code",
   "execution_count": null,
   "id": "c2efb896-a69b-4fd0-a2e6-c56fa737de90",
   "metadata": {},
   "outputs": [],
   "source": []
  }
 ],
 "metadata": {
  "kernelspec": {
   "display_name": "math",
   "language": "python",
   "name": "math"
  },
  "language_info": {
   "codemirror_mode": {
    "name": "ipython",
    "version": 3
   },
   "file_extension": ".py",
   "mimetype": "text/x-python",
   "name": "python",
   "nbconvert_exporter": "python",
   "pygments_lexer": "ipython3",
   "version": "3.12.2"
  }
 },
 "nbformat": 4,
 "nbformat_minor": 5
}
