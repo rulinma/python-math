{
 "cells": [
  {
   "cell_type": "markdown",
   "id": "994c10cc-ec91-4731-b647-2b826cd37554",
   "metadata": {},
   "source": [
    "# pass语句"
   ]
  },
  {
   "cell_type": "markdown",
   "id": "200d3020-24a2-485d-9422-5cb8b25cc774",
   "metadata": {},
   "source": [
    "The pass statement does nothing. It can be used when a statement is required syntactically but the program requires no action.\n",
    "\n",
    "pass 语句不执行任何操作。当语法上需要语句但程序不需要任何操作时，可以使用它。"
   ]
  },
  {
   "cell_type": "code",
   "execution_count": 2,
   "id": "7c621db6-06a7-4c48-aa6e-37bc29f2cfa8",
   "metadata": {},
   "outputs": [
    {
     "name": "stdout",
     "output_type": "stream",
     "text": [
      "funcation invoked\n"
     ]
    }
   ],
   "source": [
    "def func1():\n",
    "    print(\"funcation invoked\")\n",
    "    pass\n",
    "\n",
    "func1()"
   ]
  },
  {
   "cell_type": "code",
   "execution_count": 5,
   "id": "b5b72b78-e0a5-4376-8c09-89347b12cf62",
   "metadata": {},
   "outputs": [],
   "source": [
    "def func1():\n",
    "    pass\n",
    "\n",
    "func1()"
   ]
  },
  {
   "cell_type": "code",
   "execution_count": 4,
   "id": "48ab80b0-3f84-4ecf-8170-2a1f89114fe4",
   "metadata": {},
   "outputs": [
    {
     "name": "stdout",
     "output_type": "stream",
     "text": [
      "funcation invoked\n"
     ]
    }
   ],
   "source": [
    "def func1():\n",
    "    pass\n",
    "    print(\"funcation invoked\")\n",
    "\n",
    "func1()"
   ]
  },
  {
   "cell_type": "code",
   "execution_count": null,
   "id": "33b1ce12-6f86-4fca-9745-20f42397ca9b",
   "metadata": {},
   "outputs": [],
   "source": []
  },
  {
   "cell_type": "code",
   "execution_count": null,
   "id": "11fd18ba-eae5-412b-b6ac-27ce212f0887",
   "metadata": {},
   "outputs": [],
   "source": []
  }
 ],
 "metadata": {
  "kernelspec": {
   "display_name": "math",
   "language": "python",
   "name": "math"
  },
  "language_info": {
   "codemirror_mode": {
    "name": "ipython",
    "version": 3
   },
   "file_extension": ".py",
   "mimetype": "text/x-python",
   "name": "python",
   "nbconvert_exporter": "python",
   "pygments_lexer": "ipython3",
   "version": "3.12.2"
  }
 },
 "nbformat": 4,
 "nbformat_minor": 5
}
