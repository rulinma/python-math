{
 "cells": [
  {
   "cell_type": "markdown",
   "id": "659d6716-48e8-402e-9913-1182e1213f5b",
   "metadata": {},
   "source": [
    "# 目录"
   ]
  },
  {
   "cell_type": "markdown",
   "id": "9b974afb-6bec-4b3c-8a20-7ded06ab140a",
   "metadata": {},
   "source": [
    "# 绪言"
   ]
  },
  {
   "cell_type": "markdown",
   "id": "ccd17c82-bea7-4d0c-b2f3-dbe056e1235f",
   "metadata": {},
   "source": [
    "## 第一章 基础知识"
   ]
  },
  {
   "cell_type": "markdown",
   "id": "52481552-ac2f-4eaf-b5ea-b0e30f0d1ee5",
   "metadata": {},
   "source": [
    "### 第一个程序"
   ]
  },
  {
   "cell_type": "markdown",
   "id": "12fba122-56f0-4f18-be04-2ffd078b1fbc",
   "metadata": {},
   "source": [
    "### 基础运算"
   ]
  },
  {
   "cell_type": "markdown",
   "id": "83831059-2ed7-4e88-9876-67bf369a49d6",
   "metadata": {},
   "source": [
    "### 几何图形"
   ]
  },
  {
   "cell_type": "markdown",
   "id": "bff0159e-0da0-42d6-9a7e-734c346f579d",
   "metadata": {},
   "source": [
    "### 常用函数"
   ]
  },
  {
   "cell_type": "markdown",
   "id": "ce9d4f4d-a024-4edc-be28-79a43d46cbc7",
   "metadata": {},
   "source": [
    "### 字符串"
   ]
  },
  {
   "cell_type": "markdown",
   "id": "41fd7898-f377-449f-b567-7fc263b54ae2",
   "metadata": {},
   "source": [
    "### if else 条件语句"
   ]
  },
  {
   "cell_type": "markdown",
   "id": "d04689a0-d996-4f6f-a52d-a67133e50648",
   "metadata": {},
   "source": [
    "### for语句"
   ]
  },
  {
   "cell_type": "markdown",
   "id": "a99c3068-3f94-47d9-88fb-baba6e0b1306",
   "metadata": {},
   "source": [
    "### while语句"
   ]
  },
  {
   "cell_type": "markdown",
   "id": "cf53e98d-7742-4cd8-8a49-77824c2947d2",
   "metadata": {},
   "source": [
    "### break语句"
   ]
  },
  {
   "cell_type": "markdown",
   "id": "a97ff736-c139-4267-be89-1c2da220051c",
   "metadata": {},
   "source": [
    "### continue语句"
   ]
  },
  {
   "cell_type": "markdown",
   "id": "8a9255bf-ee49-484f-b661-525518150998",
   "metadata": {},
   "source": [
    "### switch语句"
   ]
  },
  {
   "cell_type": "markdown",
   "id": "14da6520-f221-4593-8e30-92b849f1ee72",
   "metadata": {},
   "source": [
    "### 函数"
   ]
  },
  {
   "cell_type": "markdown",
   "id": "ccb17ced-99a5-498e-aa9a-d19ee7c4f1be",
   "metadata": {},
   "source": [
    "## 第二章 基础数学"
   ]
  },
  {
   "cell_type": "markdown",
   "id": "b7473e2c-f890-4701-a429-1c22feb700fd",
   "metadata": {},
   "source": [
    "## 第三章 项目实战"
   ]
  },
  {
   "cell_type": "markdown",
   "id": "ad31710a-26e6-473a-b498-a0d5b3bef8a5",
   "metadata": {},
   "source": [
    "## 附录"
   ]
  },
  {
   "cell_type": "markdown",
   "id": "45dfe94f-7dfb-402d-8396-4cd325f62a55",
   "metadata": {},
   "source": [
    "### 参考文献"
   ]
  },
  {
   "cell_type": "code",
   "execution_count": null,
   "id": "a007598e-5e6e-4b17-b751-c2f372a5bec2",
   "metadata": {},
   "outputs": [],
   "source": []
  }
 ],
 "metadata": {
  "kernelspec": {
   "display_name": "math",
   "language": "python",
   "name": "math"
  },
  "language_info": {
   "codemirror_mode": {
    "name": "ipython",
    "version": 3
   },
   "file_extension": ".py",
   "mimetype": "text/x-python",
   "name": "python",
   "nbconvert_exporter": "python",
   "pygments_lexer": "ipython3",
   "version": "3.12.2"
  }
 },
 "nbformat": 4,
 "nbformat_minor": 5
}
