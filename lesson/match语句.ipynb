{
 "cells": [
  {
   "cell_type": "markdown",
   "id": "854ae704-c6c6-42ea-8076-2b0c0d45b92f",
   "metadata": {},
   "source": [
    "# match语句"
   ]
  },
  {
   "cell_type": "markdown",
   "id": "7f75e278-8a6a-40a2-adfb-ebf5158fc9c9",
   "metadata": {},
   "source": [
    "A match statement takes an expression and compares its value to successive patterns given as one or more case blocks. \n",
    "\n",
    "match 语句采用表达式并将其值与以一个或多个 case 块给出的连续模式进行比较。"
   ]
  },
  {
   "cell_type": "code",
   "execution_count": 2,
   "id": "4233599f-bfae-46a5-ab7c-fd63e2497013",
   "metadata": {},
   "outputs": [
    {
     "data": {
      "text/plain": [
       "'Bad request'"
      ]
     },
     "execution_count": 2,
     "metadata": {},
     "output_type": "execute_result"
    }
   ],
   "source": [
    "def http_error(status):\n",
    "    match status:\n",
    "        case 400:\n",
    "            return \"Bad request\"\n",
    "        case 404:\n",
    "            return \"Not found\"\n",
    "        case 418:\n",
    "            return \"I'm a teapot\"\n",
    "        case _:\n",
    "            return \"Something's wrong with the internet\"\n",
    "\n",
    "http_error(400)"
   ]
  },
  {
   "cell_type": "code",
   "execution_count": 3,
   "id": "f8aad122-45a0-4f1d-aa3a-b3ef34e78e95",
   "metadata": {},
   "outputs": [
    {
     "data": {
      "text/plain": [
       "\"Something's wrong with the internet\""
      ]
     },
     "execution_count": 3,
     "metadata": {},
     "output_type": "execute_result"
    }
   ],
   "source": [
    "def http_error(status):\n",
    "    match status:\n",
    "        case 400:\n",
    "            return \"Bad request\"\n",
    "        case 404:\n",
    "            return \"Not found\"\n",
    "        case 418:\n",
    "            return \"I'm a teapot\"\n",
    "        case _:\n",
    "            return \"Something's wrong with the internet\"\n",
    "\n",
    "http_error(403)"
   ]
  },
  {
   "cell_type": "code",
   "execution_count": null,
   "id": "62d7b3fb-7aee-4d8c-afda-429509915611",
   "metadata": {},
   "outputs": [],
   "source": []
  }
 ],
 "metadata": {
  "kernelspec": {
   "display_name": "math",
   "language": "python",
   "name": "math"
  },
  "language_info": {
   "codemirror_mode": {
    "name": "ipython",
    "version": 3
   },
   "file_extension": ".py",
   "mimetype": "text/x-python",
   "name": "python",
   "nbconvert_exporter": "python",
   "pygments_lexer": "ipython3",
   "version": "3.12.2"
  }
 },
 "nbformat": 4,
 "nbformat_minor": 5
}
