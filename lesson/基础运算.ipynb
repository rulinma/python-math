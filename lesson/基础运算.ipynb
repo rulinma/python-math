{
 "cells": [
  {
   "attachments": {},
   "cell_type": "markdown",
   "id": "a981bbe7-df36-46f1-bb6d-8ace904c2d72",
   "metadata": {},
   "source": [
    "# 基础运算\n",
    "\n",
    "\n"
   ]
  },
  {
   "cell_type": "markdown",
   "id": "09d5b7dc-35d2-47d8-8ea4-34c1eeea4bd6",
   "metadata": {},
   "source": [
    "## 加减乘除(+、-、$\\times$、$\\div$）等基础运算"
   ]
  },
  {
   "cell_type": "markdown",
   "id": "bd219af8-7e3a-4cfc-b9a3-f2b435cb71e8",
   "metadata": {},
   "source": [
    "加法+"
   ]
  },
  {
   "cell_type": "code",
   "execution_count": 1,
   "id": "383251dc-8156-4d12-a38e-70b74a686f65",
   "metadata": {},
   "outputs": [
    {
     "data": {
      "text/plain": [
       "30"
      ]
     },
     "execution_count": 1,
     "metadata": {},
     "output_type": "execute_result"
    }
   ],
   "source": [
    "10 + 20"
   ]
  },
  {
   "cell_type": "markdown",
   "id": "0f0fe513-d7a9-4124-9206-8811b817b271",
   "metadata": {},
   "source": [
    "减法-"
   ]
  },
  {
   "cell_type": "code",
   "execution_count": 2,
   "id": "0649119f-10be-4b49-96d4-1d62db1727ac",
   "metadata": {},
   "outputs": [
    {
     "data": {
      "text/plain": [
       "10"
      ]
     },
     "execution_count": 2,
     "metadata": {},
     "output_type": "execute_result"
    }
   ],
   "source": [
    "30 - 20"
   ]
  },
  {
   "cell_type": "markdown",
   "id": "16838d46-a56a-4165-8fc3-a1618c43294a",
   "metadata": {},
   "source": [
    "乘法$\\times$"
   ]
  },
  {
   "cell_type": "code",
   "execution_count": 3,
   "id": "064bd925-5c7a-4f1c-b936-fb329b0f1112",
   "metadata": {},
   "outputs": [
    {
     "data": {
      "text/plain": [
       "96"
      ]
     },
     "execution_count": 3,
     "metadata": {},
     "output_type": "execute_result"
    }
   ],
   "source": [
    "12 * 8 "
   ]
  },
  {
   "cell_type": "markdown",
   "id": "0444c1f5-63dd-47fb-acbe-8c9ae9f6cc9b",
   "metadata": {},
   "source": [
    "除法$\\div$"
   ]
  },
  {
   "cell_type": "code",
   "execution_count": 4,
   "id": "344170fa-a7a1-4639-914f-b6127e12a382",
   "metadata": {},
   "outputs": [
    {
     "data": {
      "text/plain": [
       "1.5"
      ]
     },
     "execution_count": 4,
     "metadata": {},
     "output_type": "execute_result"
    }
   ],
   "source": [
    "12 / 8"
   ]
  },
  {
   "cell_type": "markdown",
   "id": "c89a69c7-6e74-41bb-b393-d19d9611f339",
   "metadata": {},
   "source": [
    "取余"
   ]
  },
  {
   "cell_type": "code",
   "execution_count": 5,
   "id": "51a83c99-3178-451e-8dad-db255d831ceb",
   "metadata": {},
   "outputs": [
    {
     "data": {
      "text/plain": [
       "4"
      ]
     },
     "execution_count": 5,
     "metadata": {},
     "output_type": "execute_result"
    }
   ],
   "source": [
    "12 % 8"
   ]
  },
  {
   "cell_type": "code",
   "execution_count": 6,
   "id": "8d5c6070-135b-4660-b903-dd46765c0d20",
   "metadata": {},
   "outputs": [
    {
     "data": {
      "text/plain": [
       "3"
      ]
     },
     "execution_count": 6,
     "metadata": {},
     "output_type": "execute_result"
    }
   ],
   "source": [
    "12 % 9"
   ]
  },
  {
   "cell_type": "markdown",
   "id": "76c52d08-194b-4dc1-9f34-0a66f3049cdd",
   "metadata": {},
   "source": [
    "负数的加法"
   ]
  },
  {
   "cell_type": "code",
   "execution_count": 7,
   "id": "2bd242ef-c704-40af-be2e-da2e21cc1617",
   "metadata": {},
   "outputs": [
    {
     "data": {
      "text/plain": [
       "-7"
      ]
     },
     "execution_count": 7,
     "metadata": {},
     "output_type": "execute_result"
    }
   ],
   "source": [
    "-10 + 3 "
   ]
  },
  {
   "cell_type": "markdown",
   "id": "92895cf7-c59b-4d4f-89d9-22fa9d6e429e",
   "metadata": {},
   "source": [
    "连加"
   ]
  },
  {
   "cell_type": "code",
   "execution_count": 8,
   "id": "e8f0fd21-3cf0-442d-b23c-932a8d1e5683",
   "metadata": {},
   "outputs": [
    {
     "data": {
      "text/plain": [
       "23"
      ]
     },
     "execution_count": 8,
     "metadata": {},
     "output_type": "execute_result"
    }
   ],
   "source": [
    "10 + 10 + 3"
   ]
  },
  {
   "cell_type": "markdown",
   "id": "cf021e4f-9be2-4a02-b729-d341de286953",
   "metadata": {},
   "source": [
    "复合运算"
   ]
  },
  {
   "cell_type": "code",
   "execution_count": 9,
   "id": "e0a3e943-2891-49b6-b648-99a45b758f34",
   "metadata": {},
   "outputs": [
    {
     "data": {
      "text/plain": [
       "43"
      ]
     },
     "execution_count": 9,
     "metadata": {},
     "output_type": "execute_result"
    }
   ],
   "source": [
    "10 * 4 + 3"
   ]
  },
  {
   "cell_type": "markdown",
   "id": "2a2250c9-b816-40ea-8ec9-e31b353250a6",
   "metadata": {},
   "source": [
    "四则运算"
   ]
  },
  {
   "cell_type": "code",
   "execution_count": 10,
   "id": "5a0bfe8d-e91a-419b-8de2-1f3e71707b08",
   "metadata": {},
   "outputs": [
    {
     "data": {
      "text/plain": [
       "24.0"
      ]
     },
     "execution_count": 10,
     "metadata": {},
     "output_type": "execute_result"
    }
   ],
   "source": [
    "10 + 4 * 4 - 10 / 5"
   ]
  },
  {
   "cell_type": "markdown",
   "id": "e00b9077-a32f-4e3d-b3a9-d0ff277ce252",
   "metadata": {},
   "source": [
    "括号的使用"
   ]
  },
  {
   "cell_type": "code",
   "execution_count": 11,
   "id": "16a3d7b8-aa9a-4f7d-8223-0be34ea77165",
   "metadata": {},
   "outputs": [
    {
     "data": {
      "text/plain": [
       "14"
      ]
     },
     "execution_count": 11,
     "metadata": {},
     "output_type": "execute_result"
    }
   ],
   "source": [
    "(4 + 3) * 2"
   ]
  },
  {
   "cell_type": "markdown",
   "id": "528feff8-2ec1-47cf-b704-67adb20bab26",
   "metadata": {},
   "source": [
    "大数运算"
   ]
  },
  {
   "cell_type": "code",
   "execution_count": 12,
   "id": "547a8970-9bd2-4a82-81a1-3a5dd943333e",
   "metadata": {},
   "outputs": [
    {
     "data": {
      "text/plain": [
       "12345678910111213141517"
      ]
     },
     "execution_count": 12,
     "metadata": {},
     "output_type": "execute_result"
    }
   ],
   "source": [
    "12345678910111213141516 + 1"
   ]
  },
  {
   "cell_type": "markdown",
   "id": "401fcd2e-73d2-4c3d-95a0-2196c1475950",
   "metadata": {},
   "source": [
    "<font color=blue>python有特殊性，普通语言不能计算这么大的数，python可以。</font>"
   ]
  },
  {
   "cell_type": "markdown",
   "id": "9aee6a49-c725-4a9c-b15d-bda3fe075fbf",
   "metadata": {},
   "source": [
    "## print中使用"
   ]
  },
  {
   "cell_type": "code",
   "execution_count": 13,
   "id": "83741181-3b05-4014-b9f7-56d052a6d949",
   "metadata": {},
   "outputs": [
    {
     "name": "stdout",
     "output_type": "stream",
     "text": [
      "44\n"
     ]
    }
   ],
   "source": [
    "print(12 + 32)"
   ]
  },
  {
   "cell_type": "code",
   "execution_count": 14,
   "id": "bc3ef1eb-4b13-4338-bf3f-06d5be9d6eca",
   "metadata": {},
   "outputs": [
    {
     "name": "stdout",
     "output_type": "stream",
     "text": [
      "17\n"
     ]
    }
   ],
   "source": [
    "print(12 + 3 + 2)"
   ]
  },
  {
   "cell_type": "code",
   "execution_count": 15,
   "id": "fcb95a1d-7aa6-4921-9fc2-7ca399c5122c",
   "metadata": {},
   "outputs": [
    {
     "name": "stdout",
     "output_type": "stream",
     "text": [
      "24.0\n"
     ]
    }
   ],
   "source": [
    "print(10 + 4 * 4 - 10 / 5)"
   ]
  },
  {
   "cell_type": "code",
   "execution_count": null,
   "id": "f31cd57c-9b2c-40d3-9376-b07e154f6a1d",
   "metadata": {},
   "outputs": [],
   "source": []
  }
 ],
 "metadata": {
  "kernelspec": {
   "display_name": "Python [conda env:math]",
   "language": "python",
   "name": "conda-env-math-py"
  },
  "language_info": {
   "codemirror_mode": {
    "name": "ipython",
    "version": 3
   },
   "file_extension": ".py",
   "mimetype": "text/x-python",
   "name": "python",
   "nbconvert_exporter": "python",
   "pygments_lexer": "ipython3",
   "version": "3.12.2"
  }
 },
 "nbformat": 4,
 "nbformat_minor": 5
}
