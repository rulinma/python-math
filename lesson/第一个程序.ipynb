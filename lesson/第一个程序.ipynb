{
 "cells": [
  {
   "cell_type": "markdown",
   "id": "7dbe9542-26fc-458a-b041-69f23ca81909",
   "metadata": {
    "editable": true,
    "slideshow": {
     "slide_type": ""
    },
    "tags": []
   },
   "source": [
    "# 第一个程序 - Hello World"
   ]
  },
  {
   "cell_type": "markdown",
   "id": "c8081ebe-f105-420a-86d2-6dbe95dbd9b3",
   "metadata": {},
   "source": [
    "## 环境的搭建"
   ]
  },
  {
   "cell_type": "markdown",
   "id": "ee6773a0-41f1-4520-a8ae-7109a578f626",
   "metadata": {},
   "source": [
    "基础工具\n",
    "* Python\n",
    "    * 相对于其它语言，Python对人更友好些，学习起来更容易些，另外是人工智能使用Python也多些。\n",
    "* 数学\n",
    "    * 编程的基础。 \n",
    "* JupyterLab\n",
    "    * 容易学习和交互友好。"
   ]
  },
  {
   "cell_type": "markdown",
   "id": "37234cd3-484b-4fdc-8007-c1c1e7640d28",
   "metadata": {},
   "source": [
    "<font color=blue>默认环境已经搭建完整。使用[python](https://www.python.org)和[jupyter](https://jupyter.org)以及相关第三方库（使用时安装和导入）。</font> \n"
   ]
  },
  {
   "cell_type": "markdown",
   "id": "e6b171f7-2779-4d44-acda-657a19d6c5e5",
   "metadata": {},
   "source": [
    "## 第一个程序：Hello World"
   ]
  },
  {
   "cell_type": "markdown",
   "id": "654e5bf1-267b-4fa8-81bc-931b471810c7",
   "metadata": {},
   "source": [
    "* 让计算机输出Hello World一般是学习编程的第一任务，目的是帮助学习者理解基本的程序结构、输出控制以及如何将代码转换为可运行的程序。\n",
    "\n",
    "* 能够正确进行输入和输出也是我们编写、调试和测试程序的基础。\n",
    "\n",
    "* 最早的 \"Hello, World!\" 据说是加拿大人Brian Kernighan在1972年使用。\n",
    "\n",
    "    * 1972: The phrase \"Hello, World!\" was first used in a tutorial written by Brian Kernighan, a Canadian computer scientist and author.\n",
    "    \n",
    "        * 1972 年：短语“Hello, World!”首次出现在加拿大计算机科学家兼作家 Brian Kernighan 编写的教程中。\n",
    "    \n",
    "    * Kernighan was working at Bell Labs at the time, and he was tasked with writing a beginner's guide to the C programming language. He chose the phrase \"Hello, World!\" as a simple example of how to print a message to the console.\n",
    "    \n",
    "        *  Kernighan 当时在贝尔实验室工作，他的任务是编写 C 编程语言的初学者指南。他选择了短语“Hello, World!”作为如何将消息打印到控制台的简单示例。\n",
    "    \n",
    "    * The tutorial was published in 1972 as part of the book \"The C Programming Language\" by Kernighan and Dennis Ritchie (another famous computer scientist).\n",
    "    \n",
    "        * 该教程于 1972 年出版，是 Kernighan 和 Dennis Ritchie（另一位著名的计算机科学家）合著的《C 编程语言》一书的一部分。\n",
    "    \n",
    "    * Over time, the \"Hello, World!\" program became a standard practice among programmers, especially for beginners. It's a simple way to introduce oneself to the world of programming.\n",
    "    \n",
    "        * 随着时间的推移，“Hello, World!”程序成为程序员的标准做法，尤其是对于初学者而言。这是一种向编程世界介绍自己的简单方法。\n",
    "    \n",
    "    * Today, the \"Hello, World!\" program is widely recognized as a classic example of how to start programming in any language.\n",
    "    \n",
    "        * 如今，“Hello, World!”程序被广泛认为是如何开始使用任何语言进行编程的经典示例。"
   ]
  },
  {
   "cell_type": "code",
   "execution_count": 10,
   "id": "265646ba-367a-4c1b-b064-c3bcb4b3561e",
   "metadata": {},
   "outputs": [
    {
     "name": "stdout",
     "output_type": "stream",
     "text": [
      "Hello World\n"
     ]
    }
   ],
   "source": [
    "print(\"Hello World\")\n",
    "# 以#开头的为注释\n",
    "# print是打印的英文"
   ]
  },
  {
   "cell_type": "code",
   "execution_count": 11,
   "id": "b326a16d-2b5b-4a90-9b0d-afd813c87be7",
   "metadata": {},
   "outputs": [
    {
     "name": "stdout",
     "output_type": "stream",
     "text": [
      "你好 世界\n"
     ]
    }
   ],
   "source": [
    "print(\"你好 世界\")"
   ]
  },
  {
   "cell_type": "code",
   "execution_count": null,
   "id": "3b632b7a-238f-4269-88ce-dbc7580eba68",
   "metadata": {},
   "outputs": [],
   "source": []
  }
 ],
 "metadata": {
  "kernelspec": {
   "display_name": "math",
   "language": "python",
   "name": "math"
  },
  "language_info": {
   "codemirror_mode": {
    "name": "ipython",
    "version": 3
   },
   "file_extension": ".py",
   "mimetype": "text/x-python",
   "name": "python",
   "nbconvert_exporter": "python",
   "pygments_lexer": "ipython3",
   "version": "3.12.2"
  }
 },
 "nbformat": 4,
 "nbformat_minor": 5
}
