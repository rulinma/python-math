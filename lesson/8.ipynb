{
 "cells": [
  {
   "cell_type": "markdown",
   "id": "854ae704-c6c6-42ea-8076-2b0c0d45b92f",
   "metadata": {},
   "source": [
    "swich语句"
   ]
  },
  {
   "cell_type": "code",
   "execution_count": null,
   "id": "41f27829-9bd4-44f9-bf5d-0d7e30b4320a",
   "metadata": {},
   "outputs": [],
   "source": []
  }
 ],
 "metadata": {
  "kernelspec": {
   "display_name": "math",
   "language": "python",
   "name": "math"
  },
  "language_info": {
   "codemirror_mode": {
    "name": "ipython",
    "version": 3
   },
   "file_extension": ".py",
   "mimetype": "text/x-python",
   "name": "python",
   "nbconvert_exporter": "python",
   "pygments_lexer": "ipython3",
   "version": "3.12.2"
  }
 },
 "nbformat": 4,
 "nbformat_minor": 5
}
