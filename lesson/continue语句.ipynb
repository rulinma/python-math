{
 "cells": [
  {
   "cell_type": "markdown",
   "id": "8cacf530-f4c6-40c7-ac9c-53533ee3e1a4",
   "metadata": {},
   "source": [
    "# continue语句"
   ]
  },
  {
   "cell_type": "markdown",
   "id": "af823f30-6235-4f0f-9d3b-cb22d02630d6",
   "metadata": {},
   "source": [
    "在编程中，continue 语句是一种控制流语句，它用于跳过当前循环迭代中 continue 语句之后的代码，并继续执行下一次循环迭代（如果有的话）。continue 语句仅影响它所在的循环体（for 循环、while 循环或 do-while 循环），并且只能在这些循环内部使用。"
   ]
  },
  {
   "cell_type": "code",
   "execution_count": 2,
   "id": "d094ffb2-b874-4a1c-920c-f9d2d9de4201",
   "metadata": {},
   "outputs": [
    {
     "name": "stdout",
     "output_type": "stream",
     "text": [
      "1\n",
      "2\n",
      "4\n",
      "5\n"
     ]
    }
   ],
   "source": [
    "i = 0\n",
    "while i < 5:\n",
    "  i += 1\n",
    "  if i == 3:\n",
    "    continue\n",
    "  print(i)"
   ]
  },
  {
   "cell_type": "code",
   "execution_count": 3,
   "id": "ed8161fa-22cc-4b0f-ae54-752f164abf21",
   "metadata": {},
   "outputs": [
    {
     "name": "stdout",
     "output_type": "stream",
     "text": [
      "1\n",
      "2\n",
      "4\n",
      "5\n",
      "7\n",
      "8\n"
     ]
    }
   ],
   "source": [
    "for i in range(9):\n",
    "  if i%3 == 0:\n",
    "    continue\n",
    "  print(i)"
   ]
  },
  {
   "cell_type": "code",
   "execution_count": null,
   "id": "a209d592-2a16-48e7-8146-3ebd21a8510a",
   "metadata": {},
   "outputs": [],
   "source": []
  }
 ],
 "metadata": {
  "kernelspec": {
   "display_name": "math",
   "language": "python",
   "name": "math"
  },
  "language_info": {
   "codemirror_mode": {
    "name": "ipython",
    "version": 3
   },
   "file_extension": ".py",
   "mimetype": "text/x-python",
   "name": "python",
   "nbconvert_exporter": "python",
   "pygments_lexer": "ipython3",
   "version": "3.12.2"
  }
 },
 "nbformat": 4,
 "nbformat_minor": 5
}
