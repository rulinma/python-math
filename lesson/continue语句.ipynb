{
 "cells": [
  {
   "cell_type": "markdown",
   "id": "8cacf530-f4c6-40c7-ac9c-53533ee3e1a4",
   "metadata": {},
   "source": [
    "# continue语句"
   ]
  },
  {
   "cell_type": "code",
   "execution_count": null,
   "id": "d094ffb2-b874-4a1c-920c-f9d2d9de4201",
   "metadata": {},
   "outputs": [],
   "source": []
  }
 ],
 "metadata": {
  "kernelspec": {
   "display_name": "math",
   "language": "python",
   "name": "math"
  },
  "language_info": {
   "codemirror_mode": {
    "name": "ipython",
    "version": 3
   },
   "file_extension": ".py",
   "mimetype": "text/x-python",
   "name": "python",
   "nbconvert_exporter": "python",
   "pygments_lexer": "ipython3",
   "version": "3.12.2"
  }
 },
 "nbformat": 4,
 "nbformat_minor": 5
}
