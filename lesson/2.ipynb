{
 "cells": [
  {
   "cell_type": "markdown",
   "id": "8e705cc1-ea70-4a52-89cf-a0dd11e5ebda",
   "metadata": {},
   "source": [
    "# 几何图形"
   ]
  },
  {
   "cell_type": "markdown",
   "id": "dea7f2bb-f4b2-40c3-9ea5-7a0254f625a8",
   "metadata": {},
   "source": [
    "## 长方形和正方形"
   ]
  },
  {
   "cell_type": "markdown",
   "id": "30bc08d5-0cd7-486b-b664-9c75fd91e0ad",
   "metadata": {},
   "source": [
    "## 圆形"
   ]
  },
  {
   "cell_type": "markdown",
   "id": "56215d77-4349-444e-b82b-4e6cb73d6ed3",
   "metadata": {},
   "source": [
    "## 三角形"
   ]
  },
  {
   "cell_type": "markdown",
   "id": "d1648998-18f2-4df3-90fe-d14e52091d09",
   "metadata": {},
   "source": [
    "## 周长"
   ]
  },
  {
   "cell_type": "markdown",
   "id": "ec8116ca-1fe9-45bc-b9e2-6e8186eb8fc0",
   "metadata": {},
   "source": [
    "## 面积"
   ]
  },
  {
   "cell_type": "code",
   "execution_count": null,
   "id": "0610590f-eb08-4d8a-9c98-3abce39a2c45",
   "metadata": {},
   "outputs": [],
   "source": []
  }
 ],
 "metadata": {
  "kernelspec": {
   "display_name": "math",
   "language": "python",
   "name": "math"
  },
  "language_info": {
   "codemirror_mode": {
    "name": "ipython",
    "version": 3
   },
   "file_extension": ".py",
   "mimetype": "text/x-python",
   "name": "python",
   "nbconvert_exporter": "python",
   "pygments_lexer": "ipython3",
   "version": "3.12.2"
  }
 },
 "nbformat": 4,
 "nbformat_minor": 5
}
