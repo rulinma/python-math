{
 "cells": [
  {
   "cell_type": "markdown",
   "id": "8e705cc1-ea70-4a52-89cf-a0dd11e5ebda",
   "metadata": {},
   "source": [
    "# 几何图形"
   ]
  },
  {
   "cell_type": "markdown",
   "id": "dea7f2bb-f4b2-40c3-9ea5-7a0254f625a8",
   "metadata": {},
   "source": [
    "## 长方形和正方形"
   ]
  },
  {
   "cell_type": "code",
   "execution_count": 1,
   "id": "450d703b-59ea-4842-b3f9-7967f69490cd",
   "metadata": {},
   "outputs": [],
   "source": [
    "from turtle import *\n",
    "shape('turtle')\n",
    "for i in range(4):\n",
    "    forward(100)\n",
    "    right(90)"
   ]
  },
  {
   "cell_type": "markdown",
   "id": "56215d77-4349-444e-b82b-4e6cb73d6ed3",
   "metadata": {},
   "source": [
    "## 三角形"
   ]
  },
  {
   "cell_type": "code",
   "execution_count": 1,
   "id": "4f1d48eb-4ff3-4768-837d-7c27ffbe752b",
   "metadata": {},
   "outputs": [],
   "source": [
    "import turtle\n",
    "import time\n",
    "\n",
    "def turtle_triangle():\n",
    "    t = turtle.Turtle()\n",
    " \n",
    "    t.shape(\"turtle\")\n",
    "    t.color(\"blue\")\n",
    "    t.speed(1) # 速度大小，0-10之间的整型值，\"fastest\": 0 最快 \"fast\": 10 快 \"normal\": 6 正常 \"slow\": 3 慢 \"slowest\": 1 最慢\n",
    "\n",
    "    time.sleep(3) # 休息3秒\n",
    "    \n",
    "    for _ in range(3): # 是一个循环语句，用于重复执行一段代码块三次。这里的 _ 是一个常用的占位符变量名，它表明在循环体中我们并不打算使用这个循环变量（即range(3)生成的序列中的值）。\n",
    "                       # range(3) 生成一个从0开始到2的整数序列（即0, 1, 2），因为range函数的结束值是开区间，不包含在内。\n",
    "        t.right(60) # 右转60度\n",
    "        time.sleep(3)\n",
    "        t.forward(200)  # 向前移动200个单位\n",
    "        time.sleep(3)\n",
    "        t.right(60)\n",
    "        time.sleep(3)\n",
    " \n",
    "    turtle.exitonclick() # 点击退出\n",
    "\n",
    "turtle_triangle() # 调用函数"
   ]
  },
  {
   "cell_type": "markdown",
   "id": "30bc08d5-0cd7-486b-b664-9c75fd91e0ad",
   "metadata": {},
   "source": [
    "## 圆形"
   ]
  },
  {
   "cell_type": "code",
   "execution_count": null,
   "id": "0510df2f-9b92-4935-858a-6a0f83dcc7e8",
   "metadata": {},
   "outputs": [],
   "source": []
  },
  {
   "cell_type": "markdown",
   "id": "d1648998-18f2-4df3-90fe-d14e52091d09",
   "metadata": {},
   "source": [
    "## 周长"
   ]
  },
  {
   "cell_type": "markdown",
   "id": "2adfb98d-e3fe-4063-9ab1-8e66b6a89d18",
   "metadata": {},
   "source": [
    "### 正方形周长"
   ]
  },
  {
   "cell_type": "code",
   "execution_count": 3,
   "id": "8221f13f-be8f-4e57-9eb1-34a3ca570d36",
   "metadata": {},
   "outputs": [
    {
     "data": {
      "text/plain": [
       "12"
      ]
     },
     "execution_count": 3,
     "metadata": {},
     "output_type": "execute_result"
    }
   ],
   "source": [
    "def long(x):\n",
    "    return x * 4;\n",
    "\n",
    "long(3)"
   ]
  },
  {
   "cell_type": "markdown",
   "id": "ec8116ca-1fe9-45bc-b9e2-6e8186eb8fc0",
   "metadata": {},
   "source": [
    "## 面积"
   ]
  },
  {
   "cell_type": "code",
   "execution_count": 1,
   "id": "7597d74b-89d9-423c-8024-2cf0741b6322",
   "metadata": {},
   "outputs": [
    {
     "data": {
      "text/plain": [
       "9"
      ]
     },
     "execution_count": 1,
     "metadata": {},
     "output_type": "execute_result"
    }
   ],
   "source": [
    "def square(x):\n",
    "    return x * x;\n",
    "\n",
    "square(3)"
   ]
  },
  {
   "cell_type": "code",
   "execution_count": 2,
   "id": "e6dd14e6-33f5-4244-a579-28603e70e41c",
   "metadata": {},
   "outputs": [
    {
     "data": {
      "text/plain": [
       "16"
      ]
     },
     "execution_count": 2,
     "metadata": {},
     "output_type": "execute_result"
    }
   ],
   "source": [
    "square(4)"
   ]
  },
  {
   "cell_type": "code",
   "execution_count": 4,
   "id": "0610590f-eb08-4d8a-9c98-3abce39a2c45",
   "metadata": {},
   "outputs": [
    {
     "name": "stdout",
     "output_type": "stream",
     "text": [
      "1,2,3,4,5,6,7,8,9,10,11,12,13,14,15,16,17,18,19,20,21,22,23,24,25,26,27,28,29,30,31,32,33,34,35,36,37,38,39,40,41,42,43,44,45,46,47,48,49,50,51,52,53,54,55,56,57,58,59,60,61,62,63,64,65,66,67,68,69,70,71,72,73,74,75,76,77,78,79,80,81,82,83,84,85,86,87,88,89,90,91,92,93,94,95,96,97,98,99,100\n"
     ]
    }
   ],
   "source": [
    "for i in range(1, 101):  \n",
    "    # 打印当前数，并在其后添加逗号（除了最后一个数）  \n",
    "    if i < 100:  \n",
    "        print(i, end=',')  \n",
    "    else:  \n",
    "        # 如果是最后一个数，则正常打印（不带逗号）  \n",
    "        print(i)"
   ]
  },
  {
   "cell_type": "code",
   "execution_count": 5,
   "id": "a73172d0-9a88-40d0-917a-aae8eb210ae9",
   "metadata": {},
   "outputs": [
    {
     "name": "stdout",
     "output_type": "stream",
     "text": [
      "False\n",
      "True\n",
      "False\n",
      "False\n",
      "True\n"
     ]
    }
   ],
   "source": [
    "print(11 > 12)\n",
    "print(12 > 11)\n",
    "print(88 > 88)\n",
    "print(88 < 88)\n",
    "print(88 == 88)"
   ]
  },
  {
   "cell_type": "code",
   "execution_count": null,
   "id": "c48f531e-ec97-468f-a218-b45d9facce87",
   "metadata": {},
   "outputs": [],
   "source": []
  }
 ],
 "metadata": {
  "kernelspec": {
   "display_name": "math",
   "language": "python",
   "name": "math"
  },
  "language_info": {
   "codemirror_mode": {
    "name": "ipython",
    "version": 3
   },
   "file_extension": ".py",
   "mimetype": "text/x-python",
   "name": "python",
   "nbconvert_exporter": "python",
   "pygments_lexer": "ipython3",
   "version": "3.12.2"
  }
 },
 "nbformat": 4,
 "nbformat_minor": 5
}
