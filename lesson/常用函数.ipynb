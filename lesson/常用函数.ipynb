{
 "cells": [
  {
   "cell_type": "markdown",
   "id": "4bcfb243-1a37-4e44-9333-03c0a903ecfe",
   "metadata": {},
   "source": [
    "# 常用函数"
   ]
  },
  {
   "cell_type": "markdown",
   "id": "030ad08e-0adb-4605-8963-fa32412ff99e",
   "metadata": {},
   "source": [
    "## 函数示例"
   ]
  },
  {
   "cell_type": "markdown",
   "id": "a5a3f0e3-e0b5-49f4-b27a-6ef2a8baa502",
   "metadata": {},
   "source": [
    "圆周率&pi;"
   ]
  },
  {
   "cell_type": "code",
   "execution_count": 8,
   "id": "908baa35-345c-4900-87a0-1c5c0b9cf238",
   "metadata": {},
   "outputs": [
    {
     "data": {
      "text/plain": [
       "3.141592653589793"
      ]
     },
     "execution_count": 8,
     "metadata": {},
     "output_type": "execute_result"
    }
   ],
   "source": [
    "import math\n",
    "math.pi\n",
    "# pi是已经定义好的常量"
   ]
  },
  {
   "cell_type": "markdown",
   "id": "22624298-b09f-437a-92d9-bcefd3e9a9f3",
   "metadata": {},
   "source": [
    "四舍五入"
   ]
  },
  {
   "cell_type": "code",
   "execution_count": 25,
   "id": "b39f57d3-5fa8-4a47-afd0-96c9a867a801",
   "metadata": {},
   "outputs": [
    {
     "data": {
      "text/plain": [
       "2"
      ]
     },
     "execution_count": 25,
     "metadata": {},
     "output_type": "execute_result"
    }
   ],
   "source": [
    "round(2.46789)"
   ]
  },
  {
   "cell_type": "code",
   "execution_count": 24,
   "id": "05dba611-e865-4427-b292-250eae1db08e",
   "metadata": {},
   "outputs": [
    {
     "data": {
      "text/plain": [
       "3"
      ]
     },
     "execution_count": 24,
     "metadata": {},
     "output_type": "execute_result"
    }
   ],
   "source": [
    "round(2.56789)"
   ]
  },
  {
   "cell_type": "code",
   "execution_count": 28,
   "id": "eeb4f042-4b86-4f85-87e6-fade4e18ef11",
   "metadata": {},
   "outputs": [
    {
     "data": {
      "text/plain": [
       "-3"
      ]
     },
     "execution_count": 28,
     "metadata": {},
     "output_type": "execute_result"
    }
   ],
   "source": [
    "round(-2.6)"
   ]
  },
  {
   "cell_type": "code",
   "execution_count": 29,
   "id": "43b6f9a9-0b5e-44cc-871d-b2eda9bbb1ef",
   "metadata": {},
   "outputs": [
    {
     "data": {
      "text/plain": [
       "-2"
      ]
     },
     "execution_count": 29,
     "metadata": {},
     "output_type": "execute_result"
    }
   ],
   "source": [
    "round(-2.4)"
   ]
  },
  {
   "cell_type": "markdown",
   "id": "ac1f93b0-9ae2-4c0f-bccd-608a6517b93e",
   "metadata": {},
   "source": [
    "向下取整"
   ]
  },
  {
   "cell_type": "code",
   "execution_count": 22,
   "id": "991deb6e-150e-4301-9f9e-b1a1967f612f",
   "metadata": {},
   "outputs": [
    {
     "data": {
      "text/plain": [
       "2"
      ]
     },
     "execution_count": 22,
     "metadata": {},
     "output_type": "execute_result"
    }
   ],
   "source": [
    "math.floor(2.4)"
   ]
  },
  {
   "cell_type": "code",
   "execution_count": 23,
   "id": "98bd5ac6-94ac-440b-9fe3-d4bb9e511ced",
   "metadata": {},
   "outputs": [
    {
     "data": {
      "text/plain": [
       "2"
      ]
     },
     "execution_count": 23,
     "metadata": {},
     "output_type": "execute_result"
    }
   ],
   "source": [
    "math.floor(2.6)"
   ]
  },
  {
   "cell_type": "code",
   "execution_count": 27,
   "id": "1c38f2cc-41c3-42f9-8c0a-0ee9317e534e",
   "metadata": {
    "scrolled": true
   },
   "outputs": [
    {
     "data": {
      "text/plain": [
       "-3"
      ]
     },
     "execution_count": 27,
     "metadata": {},
     "output_type": "execute_result"
    }
   ],
   "source": [
    "math.floor(-2.6)"
   ]
  },
  {
   "cell_type": "markdown",
   "id": "48fb1af8-b1f5-4329-accd-a79efd5dc685",
   "metadata": {},
   "source": [
    "绝对值"
   ]
  },
  {
   "cell_type": "code",
   "execution_count": 20,
   "id": "56464dd8-46b6-4f59-ae7f-714df2661bc6",
   "metadata": {},
   "outputs": [
    {
     "data": {
      "text/plain": [
       "2.0"
      ]
     },
     "execution_count": 20,
     "metadata": {},
     "output_type": "execute_result"
    }
   ],
   "source": [
    "math.fabs(2)"
   ]
  },
  {
   "cell_type": "code",
   "execution_count": 19,
   "id": "0d5d6574-5c57-4019-8bf9-99ce6b627c67",
   "metadata": {},
   "outputs": [
    {
     "data": {
      "text/plain": [
       "2.0"
      ]
     },
     "execution_count": 19,
     "metadata": {},
     "output_type": "execute_result"
    }
   ],
   "source": [
    "math.fabs(-2)"
   ]
  },
  {
   "cell_type": "markdown",
   "id": "ccc45719-f4e3-4fef-8307-493909a3b9c1",
   "metadata": {},
   "source": [
    "幂"
   ]
  },
  {
   "cell_type": "code",
   "execution_count": 17,
   "id": "abc298aa-cf9c-4d37-a9c4-4ec8f5399a75",
   "metadata": {},
   "outputs": [
    {
     "data": {
      "text/plain": [
       "8.0"
      ]
     },
     "execution_count": 17,
     "metadata": {},
     "output_type": "execute_result"
    }
   ],
   "source": [
    "math.pow(2,3)"
   ]
  },
  {
   "cell_type": "code",
   "execution_count": 18,
   "id": "e3b7cf4b-7dbe-4f7a-bbbd-2d8c0dd6f29e",
   "metadata": {},
   "outputs": [
    {
     "data": {
      "text/plain": [
       "9.0"
      ]
     },
     "execution_count": 18,
     "metadata": {},
     "output_type": "execute_result"
    }
   ],
   "source": [
    "math.pow(3,2)"
   ]
  },
  {
   "cell_type": "code",
   "execution_count": 33,
   "id": "1cf0f0ed-2f60-4716-8eae-bde67f1e4a62",
   "metadata": {},
   "outputs": [
    {
     "data": {
      "text/plain": [
       "10000000000000000000000000000000000000000000000000000000000000000000000000000000000000000000000000000"
      ]
     },
     "execution_count": 33,
     "metadata": {},
     "output_type": "execute_result"
    }
   ],
   "source": [
    "pow(10,100)"
   ]
  },
  {
   "cell_type": "markdown",
   "id": "5d701cf4-205c-48b0-bc80-c2abf3f66745",
   "metadata": {},
   "source": [
    "<font color=blue>Python特殊之处就是能处理非常大的数，一般其他语言做不到这一点，所以在科学分析等上使用就比较多。</font>"
   ]
  },
  {
   "cell_type": "code",
   "execution_count": 32,
   "id": "fb032eab-a302-4d73-80d9-e5539ba685d9",
   "metadata": {},
   "outputs": [
    {
     "data": {
      "text/plain": [
       "10000000000000000000000000000000000000000000000000000000000000000000000000000000000000000000000000000000000000000000000000000000000000000000000000000000000000000000000000000000000000000000000000000000000000000000000000000000000000000000000000000000000000000000000000000000000000000000000000000000000000000000000000000000000000000000000000000000000000000000000000000000000000000000000000000000000000000000000000000000000000000000000000000000000000000000000000000000000000000000000000000000000000000000000000000000000000000000000000000000000000000000000000000000000000000000000000000000000000000000000000000000000000000000000000000000000000000000000000000000000000000000000000000000000000000000000000000000000000000000000000000000000000000000000000000000000000000000000000000000000000000000000000000000000000000000000000000000000000000000000000000000000000000000000000000000000000000000000000000000000000000000000000000000000000000000000000000000000000000000000000000000000000000000000000000000000000000"
      ]
     },
     "execution_count": 32,
     "metadata": {},
     "output_type": "execute_result"
    }
   ],
   "source": [
    "pow(10,1000)"
   ]
  },
  {
   "cell_type": "markdown",
   "id": "dace9243-3be7-4d49-a4ff-b0bf784034fe",
   "metadata": {},
   "source": [
    "根号"
   ]
  },
  {
   "cell_type": "code",
   "execution_count": 6,
   "id": "e7dab931-a1a8-44cb-95ed-cade1b373755",
   "metadata": {},
   "outputs": [
    {
     "data": {
      "text/plain": [
       "2.0"
      ]
     },
     "execution_count": 6,
     "metadata": {},
     "output_type": "execute_result"
    }
   ],
   "source": [
    "math.sqrt(4)"
   ]
  },
  {
   "cell_type": "code",
   "execution_count": 4,
   "id": "ccc40f17-e209-40e6-a95f-7aee727fdc78",
   "metadata": {},
   "outputs": [
    {
     "data": {
      "text/plain": [
       "1.4142135623730951"
      ]
     },
     "execution_count": 4,
     "metadata": {},
     "output_type": "execute_result"
    }
   ],
   "source": [
    "math.sqrt(2)"
   ]
  },
  {
   "cell_type": "code",
   "execution_count": 7,
   "id": "6df00edf-6e4b-455d-9df7-4164083ee570",
   "metadata": {},
   "outputs": [
    {
     "ename": "ValueError",
     "evalue": "math domain error",
     "output_type": "error",
     "traceback": [
      "\u001b[0;31m---------------------------------------------------------------------------\u001b[0m",
      "\u001b[0;31mValueError\u001b[0m                                Traceback (most recent call last)",
      "Cell \u001b[0;32mIn[7], line 1\u001b[0m\n\u001b[0;32m----> 1\u001b[0m math\u001b[38;5;241m.\u001b[39msqrt(\u001b[38;5;241m-\u001b[39m\u001b[38;5;241m2\u001b[39m)\n",
      "\u001b[0;31mValueError\u001b[0m: math domain error"
     ]
    }
   ],
   "source": [
    "math.sqrt(-2)\n",
    "# 负数无法开根号，系统会报错。"
   ]
  },
  {
   "cell_type": "code",
   "execution_count": 21,
   "id": "484b4597-475c-4e5f-9c22-3a3953de33fc",
   "metadata": {},
   "outputs": [
    {
     "data": {
      "text/plain": [
       "8.0"
      ]
     },
     "execution_count": 21,
     "metadata": {},
     "output_type": "execute_result"
    }
   ],
   "source": [
    "math.pow(2, 3)"
   ]
  },
  {
   "cell_type": "markdown",
   "id": "b57169a0-19b8-42db-af8d-d9278d63dbd2",
   "metadata": {},
   "source": [
    "a的r次方则pow(a, 1.0/r)"
   ]
  },
  {
   "cell_type": "code",
   "execution_count": 22,
   "id": "7e9cdae6-11c5-405f-a5ef-ba81bfef3a55",
   "metadata": {},
   "outputs": [
    {
     "data": {
      "text/plain": [
       "2.0"
      ]
     },
     "execution_count": 22,
     "metadata": {},
     "output_type": "execute_result"
    }
   ],
   "source": [
    "math.pow(8, 1/3)"
   ]
  },
  {
   "cell_type": "code",
   "execution_count": 24,
   "id": "6c814e17-6faa-41f1-8a2a-83c7f08cf231",
   "metadata": {},
   "outputs": [
    {
     "data": {
      "text/plain": [
       "0.5"
      ]
     },
     "execution_count": 24,
     "metadata": {},
     "output_type": "execute_result"
    }
   ],
   "source": [
    "math.pow(8, -1/3)"
   ]
  },
  {
   "cell_type": "code",
   "execution_count": 26,
   "id": "fe05f37f-c958-4d9d-8304-c7e2315cc238",
   "metadata": {},
   "outputs": [
    {
     "data": {
      "text/plain": [
       "2.0"
      ]
     },
     "execution_count": 26,
     "metadata": {},
     "output_type": "execute_result"
    }
   ],
   "source": [
    "math.pow(16, 1/4)"
   ]
  },
  {
   "cell_type": "code",
   "execution_count": 27,
   "id": "c76d38df-1053-4afc-961a-807501921ce0",
   "metadata": {},
   "outputs": [
    {
     "data": {
      "text/plain": [
       "0.5"
      ]
     },
     "execution_count": 27,
     "metadata": {},
     "output_type": "execute_result"
    }
   ],
   "source": [
    "math.pow(16, -1/4)"
   ]
  },
  {
   "cell_type": "markdown",
   "id": "fe6dda97-aedf-4622-be55-510d86a3f445",
   "metadata": {},
   "source": [
    "自然常数e"
   ]
  },
  {
   "cell_type": "code",
   "execution_count": 3,
   "id": "fa0aecf4-360c-43a9-acac-55c4d4a5fc97",
   "metadata": {},
   "outputs": [
    {
     "data": {
      "text/plain": [
       "2.718281828459045"
      ]
     },
     "execution_count": 3,
     "metadata": {},
     "output_type": "execute_result"
    }
   ],
   "source": [
    "math.e"
   ]
  },
  {
   "cell_type": "markdown",
   "id": "59763cc9-b6e9-4d25-a47e-ae5ec565cc88",
   "metadata": {},
   "source": [
    "10为底对数"
   ]
  },
  {
   "cell_type": "code",
   "execution_count": 7,
   "id": "d3fea824-b706-4d63-8cd6-7fcbec18d72e",
   "metadata": {},
   "outputs": [
    {
     "data": {
      "text/plain": [
       "0.0"
      ]
     },
     "execution_count": 7,
     "metadata": {},
     "output_type": "execute_result"
    }
   ],
   "source": [
    "math.log10(1)"
   ]
  },
  {
   "cell_type": "code",
   "execution_count": 8,
   "id": "02588b15-2380-4804-996e-29b553b9c272",
   "metadata": {},
   "outputs": [
    {
     "data": {
      "text/plain": [
       "1.0"
      ]
     },
     "execution_count": 8,
     "metadata": {},
     "output_type": "execute_result"
    }
   ],
   "source": [
    "math.log10(10)"
   ]
  },
  {
   "cell_type": "code",
   "execution_count": 9,
   "id": "1d0e8ecb-b17e-4711-9426-e8e19fdde101",
   "metadata": {},
   "outputs": [
    {
     "data": {
      "text/plain": [
       "2.0"
      ]
     },
     "execution_count": 9,
     "metadata": {},
     "output_type": "execute_result"
    }
   ],
   "source": [
    "math.log10(100)"
   ]
  },
  {
   "cell_type": "markdown",
   "id": "72e28863-3395-406e-a372-e86e1693ffea",
   "metadata": {},
   "source": [
    "2为底的对数"
   ]
  },
  {
   "cell_type": "code",
   "execution_count": 10,
   "id": "0a3a0d05-7a19-4ea9-985b-58a583033ca8",
   "metadata": {},
   "outputs": [
    {
     "data": {
      "text/plain": [
       "2.0"
      ]
     },
     "execution_count": 10,
     "metadata": {},
     "output_type": "execute_result"
    }
   ],
   "source": [
    "math.log2(4)"
   ]
  },
  {
   "cell_type": "markdown",
   "id": "d7221e08-46c8-44ba-8235-6ac624a74e63",
   "metadata": {},
   "source": [
    "自然常数e为底的对数"
   ]
  },
  {
   "cell_type": "code",
   "execution_count": 13,
   "id": "7c16c0dc-bdaf-491a-92aa-30990d78778d",
   "metadata": {},
   "outputs": [
    {
     "data": {
      "text/plain": [
       "0.0"
      ]
     },
     "execution_count": 13,
     "metadata": {},
     "output_type": "execute_result"
    }
   ],
   "source": [
    "math.log(1)"
   ]
  },
  {
   "cell_type": "code",
   "execution_count": 15,
   "id": "8cd77e9c-1fcf-4fe9-a2aa-65fc9b8ef077",
   "metadata": {},
   "outputs": [
    {
     "data": {
      "text/plain": [
       "1.0"
      ]
     },
     "execution_count": 15,
     "metadata": {},
     "output_type": "execute_result"
    }
   ],
   "source": [
    "math.log(math.e)"
   ]
  },
  {
   "cell_type": "code",
   "execution_count": 16,
   "id": "5f5681bb-c9b4-4f6f-8208-3f477a099d8b",
   "metadata": {},
   "outputs": [
    {
     "data": {
      "text/plain": [
       "0.6931471805599453"
      ]
     },
     "execution_count": 16,
     "metadata": {},
     "output_type": "execute_result"
    }
   ],
   "source": [
    "math.log(2)"
   ]
  },
  {
   "cell_type": "markdown",
   "id": "6690a105-a578-474d-a524-c70b534872e2",
   "metadata": {},
   "source": [
    "## 小结\n",
    "\n",
    "* 基础函数往往已经有人帮你写好了，并经过测试和验证的，直接使用即可。\n",
    "* 千万不要重复发明轮子，费力不讨好。（你写的还不一定正确）\n",
    "* 站在巨人的肩膀上"
   ]
  },
  {
   "cell_type": "markdown",
   "id": "9f70fb04-c145-42ee-a85a-3dae8606a2f6",
   "metadata": {},
   "source": []
  }
 ],
 "metadata": {
  "kernelspec": {
   "display_name": "math",
   "language": "python",
   "name": "math"
  },
  "language_info": {
   "codemirror_mode": {
    "name": "ipython",
    "version": 3
   },
   "file_extension": ".py",
   "mimetype": "text/x-python",
   "name": "python",
   "nbconvert_exporter": "python",
   "pygments_lexer": "ipython3",
   "version": "3.12.2"
  }
 },
 "nbformat": 4,
 "nbformat_minor": 5
}
