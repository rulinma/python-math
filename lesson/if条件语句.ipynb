{
 "cells": [
  {
   "cell_type": "markdown",
   "id": "5470880c-2a17-4d90-8ea8-2610c2001234",
   "metadata": {},
   "source": [
    "# if条件语句"
   ]
  },
  {
   "cell_type": "markdown",
   "id": "72093146-2e5d-4f7c-adf2-4fa5d86ecf5b",
   "metadata": {},
   "source": [
    "二分法，可以解决一切逻辑问题。"
   ]
  },
  {
   "cell_type": "markdown",
   "id": "fc0ce5a0-b168-4c65-8c2c-a20008e73fee",
   "metadata": {},
   "source": [
    "## 最简条件语句"
   ]
  },
  {
   "cell_type": "code",
   "execution_count": null,
   "id": "f2f0b0a0-efce-48ed-8c4d-fcf55ba784be",
   "metadata": {},
   "outputs": [],
   "source": [
    "score = 70\n",
    "\n",
    "if score >= 60:\n",
    "    print(\"pass\")\n",
    "else:\n",
    "    print(\"not pass\")\n"
   ]
  },
  {
   "cell_type": "code",
   "execution_count": null,
   "id": "161ef075-f1b8-44f3-9cee-e5e64f94c784",
   "metadata": {},
   "outputs": [],
   "source": [
    "score = 50\n",
    "\n",
    "if score >= 60:\n",
    "    print(\"pass\")\n",
    "else:\n",
    "    print(\"not pass\")"
   ]
  },
  {
   "cell_type": "markdown",
   "id": "d9145943-9bfa-4c4c-86ea-1cf12ffbabfa",
   "metadata": {},
   "source": [
    "## 多条件语句"
   ]
  },
  {
   "cell_type": "code",
   "execution_count": null,
   "id": "4c392b95-16e5-4423-8ce4-05acc4d7f10c",
   "metadata": {},
   "outputs": [],
   "source": [
    "score = 83\n",
    "\n",
    "if  60 <= score < 70:\n",
    "    print(\"pass \")\n",
    "elif 70 <= score <80:\n",
    "    print(\"中等\")\n",
    "elif 80 <= score <90:\n",
    "    print(\"良好\")\n",
    "elif 90 <= score <=100:\n",
    "    print(\"优秀\")\n",
    "else:\n",
    "    print(\"not pass\")"
   ]
  },
  {
   "cell_type": "code",
   "execution_count": 17,
   "id": "40b012b4-b9b9-441b-8d6b-a35a8bea0516",
   "metadata": {},
   "outputs": [
    {
     "name": "stdout",
     "output_type": "stream",
     "text": [
      "优秀\n"
     ]
    }
   ],
   "source": [
    "score = 99\n",
    "\n",
    "if  60 <= score < 70:\n",
    "    print(\"pass \")\n",
    "elif 70 <= score <80:\n",
    "    print(\"中等\")\n",
    "elif 80 <= score <90:\n",
    "    print(\"良好\")\n",
    "elif 90 <= score <=100:\n",
    "    print(\"优秀\")\n",
    "else:\n",
    "    print(\"not pass\")"
   ]
  },
  {
   "cell_type": "markdown",
   "id": "291f14a2-ee43-42d6-8c4d-142352c1e260",
   "metadata": {},
   "source": [
    "## 小结"
   ]
  },
  {
   "cell_type": "markdown",
   "id": "1d70cd2e-de33-4eff-b73d-fb134bb6704c",
   "metadata": {},
   "source": [
    "if 一般和 else 同时使用。"
   ]
  }
 ],
 "metadata": {
  "kernelspec": {
   "display_name": "math",
   "language": "python",
   "name": "math"
  },
  "language_info": {
   "codemirror_mode": {
    "name": "ipython",
    "version": 3
   },
   "file_extension": ".py",
   "mimetype": "text/x-python",
   "name": "python",
   "nbconvert_exporter": "python",
   "pygments_lexer": "ipython3",
   "version": "3.12.2"
  }
 },
 "nbformat": 4,
 "nbformat_minor": 5
}
