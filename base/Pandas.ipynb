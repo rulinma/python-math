{
 "cells": [
  {
   "cell_type": "markdown",
   "id": "f9b277bb-c12c-43ea-9847-79faa5faf5b4",
   "metadata": {},
   "source": [
    "# Pandas"
   ]
  },
  {
   "cell_type": "markdown",
   "id": "1dad9aa7-29ca-4001-a2e0-dcf2eb21210a",
   "metadata": {},
   "source": [
    "Panel data的缩写"
   ]
  },
  {
   "attachments": {},
   "cell_type": "markdown",
   "id": "0b685c17-567a-43fe-acd7-b3a9140d5a6e",
   "metadata": {},
   "source": [
    "## Series"
   ]
  },
  {
   "cell_type": "code",
   "execution_count": null,
   "id": "632efdce-af79-480c-a860-00dbc0f36dbc",
   "metadata": {},
   "outputs": [],
   "source": [
    "import pandas as pd\n",
    " \n",
    "scores = pd.Series([85, 90, 75, 80])"
   ]
  },
  {
   "cell_type": "code",
   "execution_count": 2,
   "id": "3370f785-d571-4e9a-b427-255ef7712b5e",
   "metadata": {},
   "outputs": [
    {
     "name": "stdout",
     "output_type": "stream",
     "text": [
      "0    85\n",
      "1    90\n",
      "2    75\n",
      "3    80\n",
      "dtype: int64\n"
     ]
    }
   ],
   "source": [
    "print(scores)"
   ]
  },
  {
   "cell_type": "code",
   "execution_count": 3,
   "id": "ea55ec6e-9958-4a99-8274-3bac532fe302",
   "metadata": {},
   "outputs": [],
   "source": [
    "scores = pd.Series([85, 90, 75, 80], index=['Alice', 'Bob', 'Charlie', 'Dave'])"
   ]
  },
  {
   "cell_type": "code",
   "execution_count": 4,
   "id": "5d47c077-a7ca-4319-8383-b9d2cca0f2b8",
   "metadata": {},
   "outputs": [
    {
     "name": "stdout",
     "output_type": "stream",
     "text": [
      "Alice      85\n",
      "Bob        90\n",
      "Charlie    75\n",
      "Dave       80\n",
      "dtype: int64\n"
     ]
    }
   ],
   "source": [
    "print(scores)"
   ]
  },
  {
   "cell_type": "markdown",
   "id": "1b3b4965-c69b-47df-a9b8-d8b51d781bad",
   "metadata": {},
   "source": [
    "## DataFrame"
   ]
  },
  {
   "cell_type": "code",
   "execution_count": 6,
   "id": "2d2efc2a-93fe-4a95-accf-b834688a15fa",
   "metadata": {},
   "outputs": [
    {
     "name": "stdout",
     "output_type": "stream",
     "text": [
      "      Name  Age      City\n",
      "0    Alice   25  New York\n",
      "1      Bob   30    London\n",
      "2  Charlie   35     Paris\n",
      "3     Dave   40     Tokyo\n"
     ]
    }
   ],
   "source": [
    "data = {'Name': ['Alice', 'Bob', 'Charlie', 'Dave'],\n",
    "        'Age': [25, 30, 35, 40],\n",
    "        'City': ['New York', 'London', 'Paris', 'Tokyo']}\n",
    " \n",
    "df = pd.DataFrame(data)\n",
    "\n",
    "print(df)"
   ]
  },
  {
   "cell_type": "code",
   "execution_count": null,
   "id": "d81ee5a9-bbb8-4d9d-9cee-adace4a343b2",
   "metadata": {},
   "outputs": [],
   "source": []
  }
 ],
 "metadata": {
  "kernelspec": {
   "display_name": "Python 3 (ipykernel)",
   "language": "python",
   "name": "python3"
  },
  "language_info": {
   "codemirror_mode": {
    "name": "ipython",
    "version": 3
   },
   "file_extension": ".py",
   "mimetype": "text/x-python",
   "name": "python",
   "nbconvert_exporter": "python",
   "pygments_lexer": "ipython3",
   "version": "3.12.4"
  }
 },
 "nbformat": 4,
 "nbformat_minor": 5
}
