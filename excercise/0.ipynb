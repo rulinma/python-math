{
 "cells": [
  {
   "cell_type": "markdown",
   "id": "7dbe9542-26fc-458a-b041-69f23ca81909",
   "metadata": {},
   "source": [
    "# 编程入门（Python）"
   ]
  },
  {
   "cell_type": "markdown",
   "id": "c8081ebe-f105-420a-86d2-6dbe95dbd9b3",
   "metadata": {},
   "source": [
    "## 环境的搭建"
   ]
  },
  {
   "cell_type": "markdown",
   "id": "37234cd3-484b-4fdc-8007-c1c1e7640d28",
   "metadata": {},
   "source": [
    "<font color=red>默认环境已经搭建完整，如果有计算机基础的可以自行搭建，没有基础的找人帮忙搭建</font>\n"
   ]
  },
  {
   "cell_type": "markdown",
   "id": "e6b171f7-2779-4d44-acda-657a19d6c5e5",
   "metadata": {},
   "source": [
    "## 第一个程序：Hello World"
   ]
  },
  {
   "cell_type": "markdown",
   "id": "654e5bf1-267b-4fa8-81bc-931b471810c7",
   "metadata": {},
   "source": [
    "1、让计算机输出<mark>Hello World</mark>一般是学习编程的第一任务，目的是帮助学习者理解基本的程序结构、输出控制以及如何将代码转换为可运行的程序。\n",
    "\n",
    "2、能够正确进行<mark>输入</mark>和<mark>输出</mark>也是我们编写、调试和测试程序的基础。\n",
    "\n",
    "3、最早的 \"Hello, World!\" 据说是加拿大人Brian Kernighan在1972年使用。"
   ]
  },
  {
   "cell_type": "markdown",
   "id": "bb6e2ad3-c405-4721-896c-be15d7dbdf97",
   "metadata": {},
   "source": [
    "1972: The phrase \"Hello, World!\" was first used in a tutorial written by Brian Kernighan, a Canadian computer scientist and author.\n",
    "\n",
    "Kernighan was working at Bell Labs at the time, and he was tasked with writing a beginner's guide to the C programming language. He chose the phrase \"Hello, World!\" as a simple example of how to print a message to the console.\n",
    "\n",
    "The tutorial was published in 1972 as part of the book \"The C Programming Language\" by Kernighan and Dennis Ritchie (another famous computer scientist).\n",
    "\n",
    "Over time, the \"Hello, World!\" program became a standard practice among programmers, especially for beginners. It's a simple way to introduce oneself to the world of programming.\n",
    "\n",
    "Today, the \"Hello, World!\" program is widely recognized as a classic example of how to start programming in any language."
   ]
  },
  {
   "cell_type": "code",
   "execution_count": 6,
   "id": "265646ba-367a-4c1b-b064-c3bcb4b3561e",
   "metadata": {},
   "outputs": [
    {
     "name": "stdout",
     "output_type": "stream",
     "text": [
      "Hello World\n"
     ]
    }
   ],
   "source": [
    "print(\"Hello World\")"
   ]
  },
  {
   "cell_type": "code",
   "execution_count": 7,
   "id": "b326a16d-2b5b-4a90-9b0d-afd813c87be7",
   "metadata": {},
   "outputs": [
    {
     "name": "stdout",
     "output_type": "stream",
     "text": [
      "中国\n"
     ]
    }
   ],
   "source": [
    "print(\"中国\")"
   ]
  },
  {
   "cell_type": "code",
   "execution_count": null,
   "id": "9ccbdb0b-0462-40b7-b857-047120b2aed2",
   "metadata": {},
   "outputs": [],
   "source": []
  }
 ],
 "metadata": {
  "kernelspec": {
   "display_name": "math",
   "language": "python",
   "name": "math"
  },
  "language_info": {
   "codemirror_mode": {
    "name": "ipython",
    "version": 3
   },
   "file_extension": ".py",
   "mimetype": "text/x-python",
   "name": "python",
   "nbconvert_exporter": "python",
   "pygments_lexer": "ipython3",
   "version": "3.12.2"
  }
 },
 "nbformat": 4,
 "nbformat_minor": 5
}
