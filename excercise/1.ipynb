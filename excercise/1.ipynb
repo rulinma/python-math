{
 "cells": [
  {
   "cell_type": "markdown",
   "id": "260ce5cb-dcc7-4143-9695-bab46d857e96",
   "metadata": {},
   "source": [
    "# 编程基础"
   ]
  },
  {
   "cell_type": "markdown",
   "id": "fc24d60c-ca54-418b-906c-8330fb6d559e",
   "metadata": {},
   "source": [
    "## 加减乘除\n",
    "\n"
   ]
  },
  {
   "cell_type": "code",
   "execution_count": 4,
   "id": "383251dc-8156-4d12-a38e-70b74a686f65",
   "metadata": {},
   "outputs": [
    {
     "data": {
      "text/plain": [
       "30"
      ]
     },
     "execution_count": 4,
     "metadata": {},
     "output_type": "execute_result"
    }
   ],
   "source": [
    "10 + 20"
   ]
  },
  {
   "cell_type": "code",
   "execution_count": 5,
   "id": "0649119f-10be-4b49-96d4-1d62db1727ac",
   "metadata": {},
   "outputs": [
    {
     "data": {
      "text/plain": [
       "10"
      ]
     },
     "execution_count": 5,
     "metadata": {},
     "output_type": "execute_result"
    }
   ],
   "source": [
    "30 - 20"
   ]
  },
  {
   "cell_type": "code",
   "execution_count": 6,
   "id": "064bd925-5c7a-4f1c-b936-fb329b0f1112",
   "metadata": {},
   "outputs": [
    {
     "data": {
      "text/plain": [
       "96"
      ]
     },
     "execution_count": 6,
     "metadata": {},
     "output_type": "execute_result"
    }
   ],
   "source": [
    "12 * 8 "
   ]
  },
  {
   "cell_type": "code",
   "execution_count": 8,
   "id": "344170fa-a7a1-4639-914f-b6127e12a382",
   "metadata": {},
   "outputs": [
    {
     "data": {
      "text/plain": [
       "1.5"
      ]
     },
     "execution_count": 8,
     "metadata": {},
     "output_type": "execute_result"
    }
   ],
   "source": [
    "12 / 8"
   ]
  },
  {
   "cell_type": "code",
   "execution_count": 10,
   "id": "51a83c99-3178-451e-8dad-db255d831ceb",
   "metadata": {},
   "outputs": [
    {
     "data": {
      "text/plain": [
       "4"
      ]
     },
     "execution_count": 10,
     "metadata": {},
     "output_type": "execute_result"
    }
   ],
   "source": [
    "12 % 8"
   ]
  },
  {
   "cell_type": "code",
   "execution_count": 9,
   "id": "8d5c6070-135b-4660-b903-dd46765c0d20",
   "metadata": {},
   "outputs": [
    {
     "data": {
      "text/plain": [
       "3"
      ]
     },
     "execution_count": 9,
     "metadata": {},
     "output_type": "execute_result"
    }
   ],
   "source": [
    "12 % 9"
   ]
  },
  {
   "cell_type": "code",
   "execution_count": 11,
   "id": "2bd242ef-c704-40af-be2e-da2e21cc1617",
   "metadata": {},
   "outputs": [
    {
     "data": {
      "text/plain": [
       "-7"
      ]
     },
     "execution_count": 11,
     "metadata": {},
     "output_type": "execute_result"
    }
   ],
   "source": [
    "-10 + 3 "
   ]
  },
  {
   "cell_type": "code",
   "execution_count": 12,
   "id": "e8f0fd21-3cf0-442d-b23c-932a8d1e5683",
   "metadata": {},
   "outputs": [
    {
     "data": {
      "text/plain": [
       "23"
      ]
     },
     "execution_count": 12,
     "metadata": {},
     "output_type": "execute_result"
    }
   ],
   "source": [
    "10 + 10 + 3"
   ]
  },
  {
   "cell_type": "code",
   "execution_count": 13,
   "id": "e0a3e943-2891-49b6-b648-99a45b758f34",
   "metadata": {},
   "outputs": [
    {
     "data": {
      "text/plain": [
       "43"
      ]
     },
     "execution_count": 13,
     "metadata": {},
     "output_type": "execute_result"
    }
   ],
   "source": [
    "10 * 4 + 3"
   ]
  },
  {
   "cell_type": "code",
   "execution_count": 14,
   "id": "5a0bfe8d-e91a-419b-8de2-1f3e71707b08",
   "metadata": {},
   "outputs": [
    {
     "data": {
      "text/plain": [
       "26"
      ]
     },
     "execution_count": 14,
     "metadata": {},
     "output_type": "execute_result"
    }
   ],
   "source": [
    "10 + 4 * 4 "
   ]
  },
  {
   "cell_type": "code",
   "execution_count": 15,
   "id": "16a3d7b8-aa9a-4f7d-8223-0be34ea77165",
   "metadata": {},
   "outputs": [
    {
     "data": {
      "text/plain": [
       "14"
      ]
     },
     "execution_count": 15,
     "metadata": {},
     "output_type": "execute_result"
    }
   ],
   "source": [
    "(4 + 3) * 2"
   ]
  },
  {
   "cell_type": "code",
   "execution_count": 16,
   "id": "547a8970-9bd2-4a82-81a1-3a5dd943333e",
   "metadata": {},
   "outputs": [
    {
     "data": {
      "text/plain": [
       "12345678910111213141517"
      ]
     },
     "execution_count": 16,
     "metadata": {},
     "output_type": "execute_result"
    }
   ],
   "source": [
    "12345678910111213141516 + 1"
   ]
  },
  {
   "cell_type": "markdown",
   "id": "401fcd2e-73d2-4c3d-95a0-2196c1475950",
   "metadata": {},
   "source": [
    "**python有特殊性，普通语言不能计算这么大的数，python可以。**"
   ]
  },
  {
   "cell_type": "code",
   "execution_count": 17,
   "id": "83741181-3b05-4014-b9f7-56d052a6d949",
   "metadata": {},
   "outputs": [
    {
     "name": "stdout",
     "output_type": "stream",
     "text": [
      "44\n"
     ]
    }
   ],
   "source": [
    "print(12 + 32)"
   ]
  },
  {
   "cell_type": "code",
   "execution_count": 18,
   "id": "bc3ef1eb-4b13-4338-bf3f-06d5be9d6eca",
   "metadata": {},
   "outputs": [
    {
     "name": "stdout",
     "output_type": "stream",
     "text": [
      "17\n"
     ]
    }
   ],
   "source": [
    "print(12 + 3 + 2)"
   ]
  },
  {
   "cell_type": "code",
   "execution_count": null,
   "id": "fcb95a1d-7aa6-4921-9fc2-7ca399c5122c",
   "metadata": {},
   "outputs": [],
   "source": []
  }
 ],
 "metadata": {
  "kernelspec": {
   "display_name": "Python [conda env:math]",
   "language": "python",
   "name": "conda-env-math-py"
  },
  "language_info": {
   "codemirror_mode": {
    "name": "ipython",
    "version": 3
   },
   "file_extension": ".py",
   "mimetype": "text/x-python",
   "name": "python",
   "nbconvert_exporter": "python",
   "pygments_lexer": "ipython3",
   "version": "3.12.2"
  }
 },
 "nbformat": 4,
 "nbformat_minor": 5
}
