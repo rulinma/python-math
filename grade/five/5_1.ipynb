{
 "cells": [
  {
   "cell_type": "markdown",
   "id": "a3c3879f-4894-424e-ae8e-ffd9b7b67dc4",
   "metadata": {},
   "source": [
    "# 五年级上"
   ]
  },
  {
   "cell_type": "code",
   "execution_count": null,
   "id": "5f4389c8-d4ae-4000-8496-55bece80a3bc",
   "metadata": {},
   "outputs": [],
   "source": []
  }
 ],
 "metadata": {
  "kernelspec": {
   "display_name": "Python 3 (ipykernel)",
   "language": "python",
   "name": "python3"
  },
  "language_info": {
   "codemirror_mode": {
    "name": "ipython",
    "version": 3
   },
   "file_extension": ".py",
   "mimetype": "text/x-python",
   "name": "python",
   "nbconvert_exporter": "python",
   "pygments_lexer": "ipython3",
   "version": "3.12.4"
  }
 },
 "nbformat": 4,
 "nbformat_minor": 5
}
