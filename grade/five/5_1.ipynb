{
 "cells": [
  {
   "cell_type": "markdown",
   "id": "a3c3879f-4894-424e-ae8e-ffd9b7b67dc4",
   "metadata": {},
   "source": [
    "# 五年级上"
   ]
  },
  {
   "cell_type": "markdown",
   "id": "02c4afaa-4fe3-4253-810e-c2d43434634c",
   "metadata": {},
   "source": [
    "## 小数乘除法"
   ]
  },
  {
   "cell_type": "markdown",
   "id": "61fee6d7-c63b-446b-ba2c-246bf57b8cb3",
   "metadata": {},
   "source": [
    "### 循环小数"
   ]
  },
  {
   "cell_type": "code",
   "execution_count": 1,
   "id": "5fb354d0-41f2-4d2d-9135-2a16ffed730f",
   "metadata": {},
   "outputs": [
    {
     "data": {
      "text/plain": [
       "0.3333333333333333"
      ]
     },
     "execution_count": 1,
     "metadata": {},
     "output_type": "execute_result"
    }
   ],
   "source": [
    "1/3"
   ]
  },
  {
   "cell_type": "markdown",
   "id": "ecfbdb86-6db9-4a32-ba4f-7b869e42dbb7",
   "metadata": {},
   "source": [
    "## 统计"
   ]
  },
  {
   "cell_type": "code",
   "execution_count": null,
   "id": "e2b81fd5-1ba4-4e60-b36e-44afa814db48",
   "metadata": {},
   "outputs": [],
   "source": []
  },
  {
   "cell_type": "markdown",
   "id": "6ba2cba0-5b75-4d83-9716-f34620070c86",
   "metadata": {},
   "source": [
    "### 平均数"
   ]
  },
  {
   "cell_type": "code",
   "execution_count": 4,
   "id": "eedc6c31-4c2b-43a7-84ff-809bebdc1487",
   "metadata": {},
   "outputs": [
    {
     "data": {
      "text/plain": [
       "3.0"
      ]
     },
     "execution_count": 4,
     "metadata": {},
     "output_type": "execute_result"
    }
   ],
   "source": [
    "(1 + 3 + 5 ) /3"
   ]
  },
  {
   "cell_type": "code",
   "execution_count": 3,
   "id": "247f3832-99f7-436d-9e10-211a17b4e582",
   "metadata": {},
   "outputs": [
    {
     "data": {
      "text/plain": [
       "2.5"
      ]
     },
     "execution_count": 3,
     "metadata": {},
     "output_type": "execute_result"
    }
   ],
   "source": [
    "(1 + 2 + 3 + 4) /4"
   ]
  },
  {
   "cell_type": "markdown",
   "id": "2b6e013b-00b0-459b-a36c-abd1c3e581df",
   "metadata": {},
   "source": [
    "### 平均数的计算"
   ]
  },
  {
   "cell_type": "code",
   "execution_count": 5,
   "id": "fc1039e6-8a8c-4ba8-b811-63d56297c249",
   "metadata": {},
   "outputs": [
    {
     "name": "stdout",
     "output_type": "stream",
     "text": [
      "30.0\n"
     ]
    }
   ],
   "source": [
    "data = [10, 20, 30, 40, 50]\n",
    "\n",
    "avg = sum(data) / len(data)\n",
    "\n",
    "print(avg) "
   ]
  },
  {
   "cell_type": "markdown",
   "id": "3bfa027f-db2f-487b-9506-3f2f964b3945",
   "metadata": {},
   "source": [
    "### 平均数的应用"
   ]
  },
  {
   "cell_type": "markdown",
   "id": "1a0d4953-607c-4670-9b51-1b9964a07cc6",
   "metadata": {},
   "source": [
    "## 简易方程"
   ]
  },
  {
   "cell_type": "markdown",
   "id": "1797ec15-7d6f-4af7-a4b4-e0ea66a621f4",
   "metadata": {},
   "source": [
    "### 用字母表示数"
   ]
  },
  {
   "cell_type": "code",
   "execution_count": 2,
   "id": "5520a182-8869-4869-855b-3bec6e97430d",
   "metadata": {},
   "outputs": [
    {
     "name": "stdout",
     "output_type": "stream",
     "text": [
      "3\n",
      "4\n",
      "7\n",
      "-1\n"
     ]
    }
   ],
   "source": [
    "a = 3\n",
    "b = 4\n",
    "print(a)\n",
    "print(b)\n",
    "print(a + b)\n",
    "print(a -b)"
   ]
  },
  {
   "cell_type": "markdown",
   "id": "30f007a5-05c7-4053-9c70-600959bfbfd3",
   "metadata": {},
   "source": [
    "### 方程"
   ]
  },
  {
   "cell_type": "markdown",
   "id": "9ba456e9-ad7d-4c04-885d-48636a2405e4",
   "metadata": {},
   "source": [
    "## 几何小实践"
   ]
  },
  {
   "cell_type": "markdown",
   "id": "6a6a18fa-fe47-4fcc-88b9-c2861fb7de0f",
   "metadata": {},
   "source": [
    "### 平行四边形"
   ]
  },
  {
   "cell_type": "markdown",
   "id": "420cb801-44c8-4f3a-8ad7-991bf9aba6d2",
   "metadata": {},
   "source": [
    "### 平行四边形的面积"
   ]
  },
  {
   "cell_type": "markdown",
   "id": "e40409be-8e4f-4d19-abe2-4c8a28d00d49",
   "metadata": {},
   "source": [
    "### 三角形的面积"
   ]
  },
  {
   "cell_type": "markdown",
   "id": "8af07698-183a-4def-a427-c8b5276296a6",
   "metadata": {},
   "source": [
    "### 梯形"
   ]
  },
  {
   "cell_type": "markdown",
   "id": "4dbe7a64-3aa6-43d9-98ef-f50ac3554843",
   "metadata": {},
   "source": [
    "### 梯形的面积"
   ]
  },
  {
   "cell_type": "markdown",
   "id": "f161f485-25f3-4395-aba0-4d905a838527",
   "metadata": {},
   "source": [
    "## 整理与提高"
   ]
  },
  {
   "cell_type": "markdown",
   "id": "94b8c2fc-97ff-4c88-93af-8fffb6996b2d",
   "metadata": {},
   "source": [
    "### 小数的四则混合运算"
   ]
  },
  {
   "cell_type": "markdown",
   "id": "d0f562fd-52a9-4267-8ab7-bf063fc54801",
   "metadata": {},
   "source": [
    "### 图形的面积"
   ]
  },
  {
   "cell_type": "markdown",
   "id": "38e32fa0-ff8e-4844-a509-40cb27189cec",
   "metadata": {},
   "source": [
    "### 时间的计算"
   ]
  },
  {
   "cell_type": "markdown",
   "id": "1f5940e0-fb51-4a72-87aa-fda380f1923e",
   "metadata": {},
   "source": [
    "### 编码"
   ]
  },
  {
   "cell_type": "code",
   "execution_count": null,
   "id": "3febe470-0194-423e-a26e-729b9784de2f",
   "metadata": {},
   "outputs": [],
   "source": []
  }
 ],
 "metadata": {
  "kernelspec": {
   "display_name": "Python 3 (ipykernel)",
   "language": "python",
   "name": "python3"
  },
  "language_info": {
   "codemirror_mode": {
    "name": "ipython",
    "version": 3
   },
   "file_extension": ".py",
   "mimetype": "text/x-python",
   "name": "python",
   "nbconvert_exporter": "python",
   "pygments_lexer": "ipython3",
   "version": "3.12.4"
  }
 },
 "nbformat": 4,
 "nbformat_minor": 5
}
