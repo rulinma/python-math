{
 "cells": [
  {
   "cell_type": "markdown",
   "id": "a3c3879f-4894-424e-ae8e-ffd9b7b67dc4",
   "metadata": {},
   "source": [
    "# 五年级上"
   ]
  },
  {
   "cell_type": "markdown",
   "id": "02c4afaa-4fe3-4253-810e-c2d43434634c",
   "metadata": {},
   "source": [
    "## 小数乘除法"
   ]
  },
  {
   "cell_type": "markdown",
   "id": "61fee6d7-c63b-446b-ba2c-246bf57b8cb3",
   "metadata": {},
   "source": [
    "### 循环小数"
   ]
  },
  {
   "cell_type": "code",
   "execution_count": 1,
   "id": "5fb354d0-41f2-4d2d-9135-2a16ffed730f",
   "metadata": {},
   "outputs": [
    {
     "data": {
      "text/plain": [
       "0.3333333333333333"
      ]
     },
     "execution_count": 1,
     "metadata": {},
     "output_type": "execute_result"
    }
   ],
   "source": [
    "1/3"
   ]
  },
  {
   "cell_type": "markdown",
   "id": "ecfbdb86-6db9-4a32-ba4f-7b869e42dbb7",
   "metadata": {},
   "source": [
    "## 统计"
   ]
  },
  {
   "cell_type": "markdown",
   "id": "6ba2cba0-5b75-4d83-9716-f34620070c86",
   "metadata": {},
   "source": [
    "### 平均数"
   ]
  },
  {
   "cell_type": "code",
   "execution_count": 4,
   "id": "eedc6c31-4c2b-43a7-84ff-809bebdc1487",
   "metadata": {},
   "outputs": [
    {
     "data": {
      "text/plain": [
       "3.0"
      ]
     },
     "execution_count": 4,
     "metadata": {},
     "output_type": "execute_result"
    }
   ],
   "source": [
    "(1 + 3 + 5 ) /3"
   ]
  },
  {
   "cell_type": "code",
   "execution_count": 3,
   "id": "247f3832-99f7-436d-9e10-211a17b4e582",
   "metadata": {},
   "outputs": [
    {
     "data": {
      "text/plain": [
       "2.5"
      ]
     },
     "execution_count": 3,
     "metadata": {},
     "output_type": "execute_result"
    }
   ],
   "source": [
    "(1 + 2 + 3 + 4) /4"
   ]
  },
  {
   "cell_type": "markdown",
   "id": "2b6e013b-00b0-459b-a36c-abd1c3e581df",
   "metadata": {},
   "source": [
    "### 平均数的计算"
   ]
  },
  {
   "cell_type": "code",
   "execution_count": 5,
   "id": "fc1039e6-8a8c-4ba8-b811-63d56297c249",
   "metadata": {},
   "outputs": [
    {
     "name": "stdout",
     "output_type": "stream",
     "text": [
      "30.0\n"
     ]
    }
   ],
   "source": [
    "data = [10, 20, 30, 40, 50]\n",
    "\n",
    "avg = sum(data) / len(data)\n",
    "\n",
    "print(avg) "
   ]
  },
  {
   "cell_type": "markdown",
   "id": "3bfa027f-db2f-487b-9506-3f2f964b3945",
   "metadata": {},
   "source": [
    "### 平均数的应用"
   ]
  },
  {
   "cell_type": "markdown",
   "id": "1a0d4953-607c-4670-9b51-1b9964a07cc6",
   "metadata": {},
   "source": [
    "## 简易方程"
   ]
  },
  {
   "cell_type": "markdown",
   "id": "1797ec15-7d6f-4af7-a4b4-e0ea66a621f4",
   "metadata": {},
   "source": [
    "### 用字母表示数"
   ]
  },
  {
   "cell_type": "code",
   "execution_count": 2,
   "id": "5520a182-8869-4869-855b-3bec6e97430d",
   "metadata": {},
   "outputs": [
    {
     "name": "stdout",
     "output_type": "stream",
     "text": [
      "3\n",
      "4\n",
      "7\n",
      "-1\n"
     ]
    }
   ],
   "source": [
    "a = 3\n",
    "b = 4\n",
    "print(a)\n",
    "print(b)\n",
    "print(a + b)\n",
    "print(a -b)"
   ]
  },
  {
   "cell_type": "markdown",
   "id": "30f007a5-05c7-4053-9c70-600959bfbfd3",
   "metadata": {},
   "source": [
    "### 方程"
   ]
  },
  {
   "cell_type": "markdown",
   "id": "9ba456e9-ad7d-4c04-885d-48636a2405e4",
   "metadata": {},
   "source": [
    "## 几何小实践"
   ]
  },
  {
   "cell_type": "markdown",
   "id": "6a6a18fa-fe47-4fcc-88b9-c2861fb7de0f",
   "metadata": {},
   "source": [
    "### 平行四边形"
   ]
  },
  {
   "cell_type": "code",
   "execution_count": 6,
   "id": "adb766c1-d43e-461d-b4d7-254c7d339650",
   "metadata": {},
   "outputs": [],
   "source": [
    "import turtle  \n",
    "  \n",
    "# 设置画布和画笔  \n",
    "screen = turtle.Screen()  \n",
    "pen = turtle.Turtle()  \n",
    "pen.speed(1)  # 设置画笔速度  \n",
    "  \n",
    "# 设定边长  \n",
    "side_length = 100  \n",
    "  \n",
    "# 开始绘制  \n",
    "pen.forward(side_length)  # 绘制第一条边  \n",
    "pen.right(60)  # 右转60度  \n",
    "pen.forward(side_length)  # 绘制第二条边  \n",
    "pen.right(120)  # 因为平行四边形的对边平行，所以此处右转120度到达下一条边的起点  \n",
    "pen.forward(side_length)  # 绘制第三条边  \n",
    "pen.right(60)  # 右转60度  \n",
    "pen.forward(side_length)  # 绘制第四条边  \n",
    "  \n",
    "# 结束绘制  \n",
    "pen.hideturtle()  # 隐藏画笔  \n",
    "screen.mainloop()  # 保持窗口打开"
   ]
  },
  {
   "cell_type": "markdown",
   "id": "420cb801-44c8-4f3a-8ad7-991bf9aba6d2",
   "metadata": {},
   "source": [
    "### 平行四边形的面积"
   ]
  },
  {
   "cell_type": "code",
   "execution_count": 12,
   "id": "513e960b-744f-437f-9118-840bddd3039f",
   "metadata": {},
   "outputs": [
    {
     "name": "stdout",
     "output_type": "stream",
     "text": [
      "底边长为5，高为3的平行四边形的面积是: 15\n"
     ]
    }
   ],
   "source": [
    "def calculate_parallelogram_area(base, height):  \n",
    "    \"\"\"  \n",
    "    计算并返回给定底边长和高度的平行四边形的面积。  \n",
    "      \n",
    "    参数:  \n",
    "    base (float): 平行四边形的底边长。  \n",
    "    height (float): 底边上的高。  \n",
    "      \n",
    "    返回:  \n",
    "    float: 平行四边形的面积。  \n",
    "    \"\"\"  \n",
    "    return base * height  \n",
    "  \n",
    "# 示例：计算底边长为5，高为3的平行四边形的面积  \n",
    "base = 5  \n",
    "height = 3  \n",
    "area = calculate_parallelogram_area(base, height)  \n",
    "print(f\"底边长为{base}，高为{height}的平行四边形的面积是: {area}\")"
   ]
  },
  {
   "cell_type": "markdown",
   "id": "e40409be-8e4f-4d19-abe2-4c8a28d00d49",
   "metadata": {},
   "source": [
    "### 三角形的面积"
   ]
  },
  {
   "cell_type": "code",
   "execution_count": 13,
   "id": "7c97c38b-731f-43f1-93e2-ffcea7f80b6a",
   "metadata": {},
   "outputs": [
    {
     "name": "stdout",
     "output_type": "stream",
     "text": [
      "底边长为6，高为4的三角形的面积是: 12.0\n"
     ]
    }
   ],
   "source": [
    "def calculate_triangle_area_by_base_height(base, height):  \n",
    "    \"\"\"  \n",
    "    通过底边和高计算三角形的面积。  \n",
    "      \n",
    "    参数:  \n",
    "    base (float): 三角形的底边长度。  \n",
    "    height (float): 底边上的高。  \n",
    "      \n",
    "    返回:  \n",
    "    float: 三角形的面积。  \n",
    "    \"\"\"  \n",
    "    return 0.5 * base * height  \n",
    "  \n",
    "# 示例：计算底边长为6，高为4的三角形的面积  \n",
    "base = 6  \n",
    "height = 4  \n",
    "area = calculate_triangle_area_by_base_height(base, height)  \n",
    "print(f\"底边长为{base}，高为{height}的三角形的面积是: {area}\")"
   ]
  },
  {
   "cell_type": "code",
   "execution_count": 14,
   "id": "890626a2-8ce7-4413-ab3a-cdc6282b3bd6",
   "metadata": {},
   "outputs": [
    {
     "name": "stdout",
     "output_type": "stream",
     "text": [
      "三边长度为3、4、5的三角形的面积是: 6.0\n"
     ]
    }
   ],
   "source": [
    "import math  \n",
    "  \n",
    "def calculate_triangle_area_by_sides(a, b, c):  \n",
    "    \"\"\"  \n",
    "    通过三边长度使用海伦公式计算三角形的面积。  \n",
    "      \n",
    "    参数:  \n",
    "    a (float): 三角形的一边长度。  \n",
    "    b (float): 三角形的另一边长度。  \n",
    "    c (float): 三角形的第三边长度。  \n",
    "      \n",
    "    返回:  \n",
    "    float: 三角形的面积（如果三边可以构成三角形，否则返回None）。  \n",
    "    \"\"\"  \n",
    "    # 检查三边是否能构成三角形  \n",
    "    if a + b <= c or a + c <= b or b + c <= a:  \n",
    "        return None  \n",
    "      \n",
    "    s = (a + b + c) / 2  \n",
    "    area = math.sqrt(s * (s - a) * (s - b) * (s - c))  \n",
    "    return area  \n",
    "  \n",
    "# 示例：计算三边长度分别为3、4、5的三角形的面积  \n",
    "a, b, c = 3, 4, 5  \n",
    "area = calculate_triangle_area_by_sides(a, b, c)  \n",
    "if area is not None:  \n",
    "    print(f\"三边长度为{a}、{b}、{c}的三角形的面积是: {area}\")  \n",
    "else:  \n",
    "    print(\"这三条边不能构成三角形。\")"
   ]
  },
  {
   "cell_type": "markdown",
   "id": "8af07698-183a-4def-a427-c8b5276296a6",
   "metadata": {},
   "source": [
    "### 梯形"
   ]
  },
  {
   "cell_type": "code",
   "execution_count": 16,
   "id": "b2b2a7b4-f8c6-4853-9bc6-1afcc2a10e60",
   "metadata": {},
   "outputs": [
    {
     "data": {
      "image/png": "[encoded data removed]",
      "text/plain": [
       "<Figure size 640x480 with 1 Axes>"
      ]
     },
     "metadata": {},
     "output_type": "display_data"
    }
   ],
   "source": [
    "import matplotlib.pyplot as plt  \n",
    "import numpy as np  \n",
    "  \n",
    "def draw_trapezoid_matplotlib(left_top, right_top, left_bottom, right_bottom):  \n",
    "    \"\"\"  \n",
    "    使用matplotlib绘制梯形  \n",
    "    :param left_top: 梯形上底左端点的x坐标  \n",
    "    :param right_top: 梯形上底右端点的x坐标  \n",
    "    :param left_bottom: 梯形下底左端点的x坐标  \n",
    "    :param right_bottom: 梯形下底右端点的x坐标  \n",
    "    注意：这里假设y坐标为0（上底）和1（下底，或梯形高度，可自定义）  \n",
    "    \"\"\"  \n",
    "    fig, ax = plt.subplots()  \n",
    "      \n",
    "    # 绘制梯形的上底和下底  \n",
    "    ax.plot([left_top, right_top], [0, 0], 'b-')  # 上底  \n",
    "    ax.plot([left_bottom, right_bottom], [1, 1], 'b-')  # 下底  \n",
    "      \n",
    "    # 绘制梯形的两个侧边  \n",
    "    ax.plot([left_top, left_bottom], [0, 1], 'b-')  # 左侧边  \n",
    "    ax.plot([right_top, right_bottom], [0, 1], 'b-')  # 右侧边  \n",
    "      \n",
    "    # 设置坐标轴范围  \n",
    "    ax.set_xlim(left_bottom - 1, right_bottom + 1)  \n",
    "    ax.set_ylim(0, 1.5)  \n",
    "      \n",
    "    # 隐藏坐标轴  \n",
    "    ax.axis('off')  \n",
    "      \n",
    "    plt.show()  \n",
    "  \n",
    "# 示例  \n",
    "draw_trapezoid_matplotlib(0, 3, 0, 7)"
   ]
  },
  {
   "cell_type": "markdown",
   "id": "4dbe7a64-3aa6-43d9-98ef-f50ac3554843",
   "metadata": {},
   "source": [
    "### 梯形的面积"
   ]
  },
  {
   "cell_type": "code",
   "execution_count": 15,
   "id": "5de9078e-fff7-4aef-925b-c37e32819056",
   "metadata": {},
   "outputs": [
    {
     "name": "stdout",
     "output_type": "stream",
     "text": [
      "梯形的面积为: 30.0\n"
     ]
    }
   ],
   "source": [
    "def trapezoid_area(a, b, h):  \n",
    "    \"\"\"  \n",
    "    计算梯形面积  \n",
    "    :param a: 梯形的上底  \n",
    "    :param b: 梯形的下底  \n",
    "    :param h: 梯形的高  \n",
    "    :return: 梯形的面积  \n",
    "    \"\"\"  \n",
    "    return (a + b) * h / 2  \n",
    "  \n",
    "# 示例  \n",
    "a = 5  # 上底  \n",
    "b = 10  # 下底  \n",
    "h = 4  # 高  \n",
    "  \n",
    "# 计算梯形面积  \n",
    "area = trapezoid_area(a, b, h)  \n",
    "print(f\"梯形的面积为: {area}\")"
   ]
  },
  {
   "cell_type": "markdown",
   "id": "f161f485-25f3-4395-aba0-4d905a838527",
   "metadata": {},
   "source": [
    "## 整理与提高"
   ]
  },
  {
   "cell_type": "markdown",
   "id": "94b8c2fc-97ff-4c88-93af-8fffb6996b2d",
   "metadata": {},
   "source": [
    "### 小数的四则混合运算"
   ]
  },
  {
   "cell_type": "code",
   "execution_count": 7,
   "id": "ac022df6-e877-4b56-9944-b9d1cc9eae98",
   "metadata": {},
   "outputs": [
    {
     "data": {
      "text/plain": [
       "0.44999999999999973"
      ]
     },
     "execution_count": 7,
     "metadata": {},
     "output_type": "execute_result"
    }
   ],
   "source": [
    "1.23 + 2.34 - 3.12"
   ]
  },
  {
   "cell_type": "code",
   "execution_count": 8,
   "id": "3a60fab3-3cc5-4c9e-8d70-03ee42aafe3c",
   "metadata": {},
   "outputs": [
    {
     "data": {
      "text/plain": [
       "1.3705714285714283"
      ]
     },
     "execution_count": 8,
     "metadata": {},
     "output_type": "execute_result"
    }
   ],
   "source": [
    "1.23 * 2.34 / 2.1"
   ]
  },
  {
   "cell_type": "markdown",
   "id": "d0f562fd-52a9-4267-8ab7-bf063fc54801",
   "metadata": {},
   "source": [
    "### 图形的面积"
   ]
  },
  {
   "cell_type": "code",
   "execution_count": 10,
   "id": "eec0eeba-5741-48aa-91d7-ec224958d301",
   "metadata": {},
   "outputs": [
    {
     "name": "stdout",
     "output_type": "stream",
     "text": [
      "半径为1的圆的面积是: 3.141592653589793\n"
     ]
    }
   ],
   "source": [
    "import math  \n",
    "  \n",
    "def calculate_circle_area(radius):  \n",
    "    \"\"\"  \n",
    "    计算并返回给定半径的圆的面积。  \n",
    "      \n",
    "    参数:  \n",
    "    radius (float): 圆的半径。  \n",
    "      \n",
    "    返回:  \n",
    "    float: 圆的面积。  \n",
    "    \"\"\"  \n",
    "    return math.pi * (radius ** 2)  \n",
    "  \n",
    "# 示例：计算半径为5的圆的面积  \n",
    "radius = 1  \n",
    "area = calculate_circle_area(radius)  \n",
    "print(f\"半径为{radius}的圆的面积是: {area}\")"
   ]
  },
  {
   "cell_type": "markdown",
   "id": "38e32fa0-ff8e-4844-a509-40cb27189cec",
   "metadata": {},
   "source": [
    "### 时间的计算"
   ]
  },
  {
   "cell_type": "markdown",
   "id": "1f5940e0-fb51-4a72-87aa-fda380f1923e",
   "metadata": {},
   "source": [
    "### 编码"
   ]
  },
  {
   "cell_type": "code",
   "execution_count": null,
   "id": "3febe470-0194-423e-a26e-729b9784de2f",
   "metadata": {},
   "outputs": [],
   "source": []
  }
 ],
 "metadata": {
  "kernelspec": {
   "display_name": "Python 3 (ipykernel)",
   "language": "python",
   "name": "python3"
  },
  "language_info": {
   "codemirror_mode": {
    "name": "ipython",
    "version": 3
   },
   "file_extension": ".py",
   "mimetype": "text/x-python",
   "name": "python",
   "nbconvert_exporter": "python",
   "pygments_lexer": "ipython3",
   "version": "3.12.4"
  }
 },
 "nbformat": 4,
 "nbformat_minor": 5
}
