{
 "cells": [
  {
   "cell_type": "markdown",
   "id": "3a7ae729-8c82-4702-b41c-c10ad747ed3e",
   "metadata": {},
   "source": [
    "# 五年级下"
   ]
  },
  {
   "cell_type": "markdown",
   "id": "ffed9db4-b2f7-4e30-ae66-35f767be592b",
   "metadata": {},
   "source": [
    "## 自然数"
   ]
  },
  {
   "cell_type": "code",
   "execution_count": 1,
   "id": "12bf3dbe-020d-4dd5-a2b5-386f6bd96569",
   "metadata": {},
   "outputs": [
    {
     "name": "stdout",
     "output_type": "stream",
     "text": [
      "1\n",
      "2\n",
      "3\n"
     ]
    }
   ],
   "source": [
    "print(1)\n",
    "print(2)\n",
    "print(3)"
   ]
  },
  {
   "cell_type": "markdown",
   "id": "ef72e55b-2810-4ea2-bb4e-9ad32ca5ebee",
   "metadata": {},
   "source": [
    "## 整数和负数的初步认识"
   ]
  },
  {
   "cell_type": "code",
   "execution_count": 2,
   "id": "94caac72-2701-4d51-ae7b-df20ba759adb",
   "metadata": {},
   "outputs": [
    {
     "name": "stdout",
     "output_type": "stream",
     "text": [
      "1\n",
      "-1\n",
      "-100\n",
      "-123\n"
     ]
    }
   ],
   "source": [
    "print(1)\n",
    "print(-1)\n",
    "print(-100)\n",
    "print(-123)"
   ]
  },
  {
   "cell_type": "markdown",
   "id": "31e1403d-d845-48cb-af98-cd5bd059273a",
   "metadata": {},
   "source": [
    "### 数轴"
   ]
  },
  {
   "cell_type": "code",
   "execution_count": 3,
   "id": "48632bf6-68c0-4789-ab05-ed892ac6201a",
   "metadata": {},
   "outputs": [
    {
     "data": {
      "image/png": "[encoded data removed]",
      "text/plain": [
       "<Figure size 640x480 with 1 Axes>"
      ]
     },
     "metadata": {},
     "output_type": "display_data"
    }
   ],
   "source": [
    "import matplotlib.pyplot as plt  \n",
    "import numpy as np  \n",
    "  \n",
    "# 设置数轴的范围  \n",
    "xmin, xmax = -10, 10  \n",
    "  \n",
    "# 创建一个图形和坐标轴  \n",
    "fig, ax = plt.subplots()  \n",
    "  \n",
    "# 绘制数轴  \n",
    "ax.axhline(0, color='black', lw=2)  # 绘制x轴（水平线）  \n",
    "ax.spines['left'].set_position('zero')  # 将y轴移动到0点  \n",
    "ax.spines['right'].set_color('none')  # 隐藏右侧的y轴  \n",
    "ax.spines['top'].set_color('none')  # 隐藏上侧的x轴  \n",
    "ax.xaxis.set_ticks_position('bottom')  # 将x轴的刻度设置到底部  \n",
    "  \n",
    "# 设置x轴的范围和刻度  \n",
    "ax.set_xlim(xmin, xmax)  \n",
    "ax.set_xticks(np.arange(xmin, xmax+1, 2))  # 每隔2个单位画一个刻度  \n",
    "  \n",
    "# 在数轴上标记一些点（可选）  \n",
    "ax.plot([0], [0], 'ro')  # 在原点处画一个红点  \n",
    "ax.annotate('0', (0, 0), textcoords=\"offset points\", xytext=(0, 10), ha='center')  # 标注原点  \n",
    "ax.plot([-5], [0], 'go')  # 在-5处画一个绿点  \n",
    "ax.annotate('-5', (-5, 0), textcoords=\"offset points\", xytext=(0, 10), ha='center')  # 标注-5  \n",
    "ax.plot([5], [0], 'bo')  # 在5处画一个蓝点  \n",
    "ax.annotate('5', (5, 0), textcoords=\"offset points\", xytext=(0, 10), ha='center')  # 标注5  \n",
    "  \n",
    "# 显示图形  \n",
    "plt.show()"
   ]
  },
  {
   "cell_type": "markdown",
   "id": "3969a228-aa10-44f2-8573-62688a097390",
   "metadata": {},
   "source": [
    "## 简易方程"
   ]
  },
  {
   "cell_type": "markdown",
   "id": "074f6bcf-da24-438d-bb44-a3935d80ad9c",
   "metadata": {},
   "source": [
    "## 几何小实践"
   ]
  },
  {
   "cell_type": "markdown",
   "id": "f01a32f7-00f4-4779-9fcc-efc4a8b75e42",
   "metadata": {},
   "source": [
    "### 体积"
   ]
  },
  {
   "cell_type": "markdown",
   "id": "520a7a74-7018-4864-86d1-62194b9a584a",
   "metadata": {},
   "source": [
    "### 长方体与正方体的体积"
   ]
  },
  {
   "cell_type": "code",
   "execution_count": null,
   "id": "2e9deb2e-c518-4ee2-bf9c-bc6f29c95abc",
   "metadata": {},
   "outputs": [],
   "source": []
  },
  {
   "cell_type": "markdown",
   "id": "4503cae9-b156-4426-b601-412c02e7f112",
   "metadata": {},
   "source": [
    "### 正方体、长方体的表面积"
   ]
  },
  {
   "cell_type": "markdown",
   "id": "a1433543-3214-435d-a856-f8ee7566bef5",
   "metadata": {},
   "source": [
    "## 问题解决"
   ]
  },
  {
   "cell_type": "markdown",
   "id": "1b2447b8-1e20-4f16-a77c-a3a0493376f9",
   "metadata": {},
   "source": [
    "### 可能性"
   ]
  },
  {
   "cell_type": "code",
   "execution_count": null,
   "id": "c7ec9977-5e41-4534-8215-b38fd4b08ea4",
   "metadata": {},
   "outputs": [],
   "source": []
  }
 ],
 "metadata": {
  "kernelspec": {
   "display_name": "Python 3 (ipykernel)",
   "language": "python",
   "name": "python3"
  },
  "language_info": {
   "codemirror_mode": {
    "name": "ipython",
    "version": 3
   },
   "file_extension": ".py",
   "mimetype": "text/x-python",
   "name": "python",
   "nbconvert_exporter": "python",
   "pygments_lexer": "ipython3",
   "version": "3.12.4"
  }
 },
 "nbformat": 4,
 "nbformat_minor": 5
}
