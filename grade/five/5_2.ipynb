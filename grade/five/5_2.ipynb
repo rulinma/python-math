{
 "cells": [
  {
   "cell_type": "markdown",
   "id": "3a7ae729-8c82-4702-b41c-c10ad747ed3e",
   "metadata": {},
   "source": [
    "# 五年级下"
   ]
  },
  {
   "cell_type": "markdown",
   "id": "ffed9db4-b2f7-4e30-ae66-35f767be592b",
   "metadata": {},
   "source": [
    "## 自然数"
   ]
  },
  {
   "cell_type": "markdown",
   "id": "ef72e55b-2810-4ea2-bb4e-9ad32ca5ebee",
   "metadata": {},
   "source": [
    "## 整数和负数的初步认识"
   ]
  },
  {
   "cell_type": "markdown",
   "id": "31e1403d-d845-48cb-af98-cd5bd059273a",
   "metadata": {},
   "source": [
    "### 数轴"
   ]
  },
  {
   "cell_type": "markdown",
   "id": "3969a228-aa10-44f2-8573-62688a097390",
   "metadata": {},
   "source": [
    "## 简易方程"
   ]
  },
  {
   "cell_type": "markdown",
   "id": "074f6bcf-da24-438d-bb44-a3935d80ad9c",
   "metadata": {},
   "source": [
    "## 几何小实践"
   ]
  },
  {
   "cell_type": "markdown",
   "id": "f01a32f7-00f4-4779-9fcc-efc4a8b75e42",
   "metadata": {},
   "source": [
    "### 体积"
   ]
  },
  {
   "cell_type": "markdown",
   "id": "520a7a74-7018-4864-86d1-62194b9a584a",
   "metadata": {},
   "source": [
    "### 长方体与正方体的体积"
   ]
  },
  {
   "cell_type": "markdown",
   "id": "4503cae9-b156-4426-b601-412c02e7f112",
   "metadata": {},
   "source": [
    "### 正方体、长方体的表面积"
   ]
  },
  {
   "cell_type": "markdown",
   "id": "a1433543-3214-435d-a856-f8ee7566bef5",
   "metadata": {},
   "source": [
    "## 问题解决"
   ]
  },
  {
   "cell_type": "markdown",
   "id": "1b2447b8-1e20-4f16-a77c-a3a0493376f9",
   "metadata": {},
   "source": [
    "### 可能性"
   ]
  },
  {
   "cell_type": "code",
   "execution_count": null,
   "id": "c7ec9977-5e41-4534-8215-b38fd4b08ea4",
   "metadata": {},
   "outputs": [],
   "source": []
  }
 ],
 "metadata": {
  "kernelspec": {
   "display_name": "Python 3 (ipykernel)",
   "language": "python",
   "name": "python3"
  },
  "language_info": {
   "codemirror_mode": {
    "name": "ipython",
    "version": 3
   },
   "file_extension": ".py",
   "mimetype": "text/x-python",
   "name": "python",
   "nbconvert_exporter": "python",
   "pygments_lexer": "ipython3",
   "version": "3.12.4"
  }
 },
 "nbformat": 4,
 "nbformat_minor": 5
}
