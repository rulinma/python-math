{
 "cells": [
  {
   "cell_type": "markdown",
   "id": "3a7ae729-8c82-4702-b41c-c10ad747ed3e",
   "metadata": {},
   "source": [
    "# 五年级下"
   ]
  },
  {
   "cell_type": "code",
   "execution_count": null,
   "id": "8ae3db62-895a-4372-ae45-5c4480ff0982",
   "metadata": {},
   "outputs": [],
   "source": []
  }
 ],
 "metadata": {
  "kernelspec": {
   "display_name": "Python 3 (ipykernel)",
   "language": "python",
   "name": "python3"
  },
  "language_info": {
   "codemirror_mode": {
    "name": "ipython",
    "version": 3
   },
   "file_extension": ".py",
   "mimetype": "text/x-python",
   "name": "python",
   "nbconvert_exporter": "python",
   "pygments_lexer": "ipython3",
   "version": "3.12.4"
  }
 },
 "nbformat": 4,
 "nbformat_minor": 5
}
