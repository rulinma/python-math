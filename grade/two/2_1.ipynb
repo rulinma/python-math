{
 "cells": [
  {
   "cell_type": "markdown",
   "id": "55919bcc-e355-4708-9ec5-6a446261b2a8",
   "metadata": {},
   "source": [
    "# 二年级上"
   ]
  },
  {
   "cell_type": "markdown",
   "id": "32c8e7c6-9248-44cb-9578-d512a2f4d0bd",
   "metadata": {},
   "source": [
    "## 乘法和除法"
   ]
  },
  {
   "cell_type": "markdown",
   "id": "9a75a84f-0b98-4e85-8b08-657c656fd9b8",
   "metadata": {},
   "source": [
    "### 乘法"
   ]
  },
  {
   "cell_type": "markdown",
   "id": "84bde8bc-7baf-4ee4-b837-e3e1897c3032",
   "metadata": {},
   "source": [
    "### 分一分与除法"
   ]
  },
  {
   "cell_type": "markdown",
   "id": "cd81d9f1-9c6c-45c6-ab5a-4c06d6cfba5f",
   "metadata": {},
   "source": [
    "## 统计"
   ]
  },
  {
   "cell_type": "markdown",
   "id": "98999e99-a85d-4de0-ab8a-cf2130cf2f4d",
   "metadata": {},
   "source": [
    "### 统计表初步"
   ]
  },
  {
   "cell_type": "markdown",
   "id": "405610fb-a9bd-4360-85b3-b9d6307fbaa2",
   "metadata": {},
   "source": [
    "### 条形统计图"
   ]
  },
  {
   "cell_type": "markdown",
   "id": "af12c87a-be10-4a48-b8cb-0d77e7d52089",
   "metadata": {},
   "source": [
    "### 九九乘法口诀表"
   ]
  },
  {
   "cell_type": "markdown",
   "id": "6caaa90c-ee16-4b79-9d1c-2a3e696efac5",
   "metadata": {},
   "source": [
    "### 乘与加"
   ]
  },
  {
   "cell_type": "markdown",
   "id": "5a8d7a3e-b608-4763-b79e-895a344b6aee",
   "metadata": {},
   "source": [
    "### 有余数的除法"
   ]
  },
  {
   "cell_type": "markdown",
   "id": "fd951224-35b4-4cb6-a9ae-919f5fb8bff7",
   "metadata": {},
   "source": [
    "## 几何小实战"
   ]
  },
  {
   "cell_type": "markdown",
   "id": "2448978c-987d-491b-8bd2-52354c82ba62",
   "metadata": {},
   "source": [
    "### 角与直角"
   ]
  },
  {
   "cell_type": "markdown",
   "id": "604c6932-c4a9-4907-8293-838fc74cf7f4",
   "metadata": {},
   "source": [
    "### 正方体、长方体的初步认识"
   ]
  },
  {
   "cell_type": "markdown",
   "id": "ccf739b9-1ef4-4621-b7f7-32274ab051fc",
   "metadata": {},
   "source": [
    "### 正方形、长方形的初步认识"
   ]
  },
  {
   "cell_type": "code",
   "execution_count": null,
   "id": "6894c566-c13a-4436-8292-6d0dfc7fd8bc",
   "metadata": {},
   "outputs": [],
   "source": []
  }
 ],
 "metadata": {
  "kernelspec": {
   "display_name": "Python 3 (ipykernel)",
   "language": "python",
   "name": "python3"
  },
  "language_info": {
   "codemirror_mode": {
    "name": "ipython",
    "version": 3
   },
   "file_extension": ".py",
   "mimetype": "text/x-python",
   "name": "python",
   "nbconvert_exporter": "python",
   "pygments_lexer": "ipython3",
   "version": "3.12.4"
  }
 },
 "nbformat": 4,
 "nbformat_minor": 5
}
