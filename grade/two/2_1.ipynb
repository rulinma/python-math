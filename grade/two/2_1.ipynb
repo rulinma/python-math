{
 "cells": [
  {
   "cell_type": "markdown",
   "id": "55919bcc-e355-4708-9ec5-6a446261b2a8",
   "metadata": {},
   "source": [
    "# 二年级上"
   ]
  },
  {
   "cell_type": "markdown",
   "id": "32c8e7c6-9248-44cb-9578-d512a2f4d0bd",
   "metadata": {},
   "source": [
    "## 乘法和除法"
   ]
  },
  {
   "cell_type": "markdown",
   "id": "9a75a84f-0b98-4e85-8b08-657c656fd9b8",
   "metadata": {},
   "source": [
    "### 乘法"
   ]
  },
  {
   "cell_type": "markdown",
   "id": "0adee4cd-9d35-44dd-aad9-45fa992f32d1",
   "metadata": {},
   "source": [
    "加法实例"
   ]
  },
  {
   "cell_type": "code",
   "execution_count": 3,
   "id": "d5ef113f-6026-4ca1-8658-f13aab903e6b",
   "metadata": {},
   "outputs": [
    {
     "name": "stdout",
     "output_type": "stream",
     "text": [
      "4\n",
      "8\n",
      "12\n",
      "16\n"
     ]
    }
   ],
   "source": [
    "print(4)\n",
    "print(4 + 4)\n",
    "print(4 + 4 + 4)\n",
    "print(4 + 4 + 4 + 4)"
   ]
  },
  {
   "cell_type": "markdown",
   "id": "efe7389e-1897-4040-80a3-baa528c541b3",
   "metadata": {},
   "source": [
    "乘法实例"
   ]
  },
  {
   "cell_type": "code",
   "execution_count": 4,
   "id": "9c7e140d-cc90-4ae6-b3da-dd94893cef35",
   "metadata": {},
   "outputs": [
    {
     "name": "stdout",
     "output_type": "stream",
     "text": [
      "4\n",
      "8\n",
      "12\n",
      "16\n"
     ]
    }
   ],
   "source": [
    "print(4 * 1)\n",
    "print(4 * 2)\n",
    "print(4 * 3)\n",
    "print(4 * 4)"
   ]
  },
  {
   "cell_type": "markdown",
   "id": "b9f7bb37-6616-4e76-a897-4ce181fbaf86",
   "metadata": {},
   "source": [
    "特殊值0"
   ]
  },
  {
   "cell_type": "code",
   "execution_count": 5,
   "id": "4c22b2e0-f772-4a7a-8f7c-4255e31dbc04",
   "metadata": {},
   "outputs": [
    {
     "name": "stdout",
     "output_type": "stream",
     "text": [
      "0\n",
      "0\n",
      "0\n"
     ]
    }
   ],
   "source": [
    "print(0 + 0)\n",
    "print(0 * 2)\n",
    "print(2 * 0)"
   ]
  },
  {
   "cell_type": "markdown",
   "id": "84bde8bc-7baf-4ee4-b837-e3e1897c3032",
   "metadata": {},
   "source": [
    "### 分一分与除法"
   ]
  },
  {
   "cell_type": "code",
   "execution_count": 9,
   "id": "adf13235-6e5c-4b43-be2f-b4a288573e8e",
   "metadata": {},
   "outputs": [
    {
     "name": "stdout",
     "output_type": "stream",
     "text": [
      "8\n",
      "4\n",
      "0\n",
      "3.0\n"
     ]
    }
   ],
   "source": [
    "print(12 - 4)\n",
    "print(12 - 4 - 4)\n",
    "print(12 - 4 - 4 - 4)\n",
    "print(12 / 4)"
   ]
  },
  {
   "cell_type": "code",
   "execution_count": 10,
   "id": "f78b1d9d-514c-4c8b-938f-1b0a28aed522",
   "metadata": {},
   "outputs": [
    {
     "name": "stdout",
     "output_type": "stream",
     "text": [
      "4.0\n"
     ]
    }
   ],
   "source": [
    "print(3 * 4 / 3)"
   ]
  },
  {
   "cell_type": "code",
   "execution_count": 12,
   "id": "e81da78a-4cb0-4163-abc3-1e96b116a428",
   "metadata": {},
   "outputs": [
    {
     "name": "stdout",
     "output_type": "stream",
     "text": [
      "4.0\n"
     ]
    }
   ],
   "source": [
    "print(4 * 3 / 3)"
   ]
  },
  {
   "cell_type": "code",
   "execution_count": 14,
   "id": "3e47c815-780f-4075-ba00-d321e9d775c8",
   "metadata": {},
   "outputs": [
    {
     "name": "stdout",
     "output_type": "stream",
     "text": [
      "12.0\n"
     ]
    }
   ],
   "source": [
    "print(12 / 1)"
   ]
  },
  {
   "cell_type": "code",
   "execution_count": 4,
   "id": "3c471555-9f61-4f55-882e-ab7aabd9be06",
   "metadata": {},
   "outputs": [],
   "source": [
    "# print(12 / 0)\n",
    "# 移除上面一行的#号运行程序进行测试"
   ]
  },
  {
   "cell_type": "markdown",
   "id": "d9404919-e5b2-415b-b02f-ac068914f948",
   "metadata": {},
   "source": [
    "**<font color=blue>0不能当除数</font>**"
   ]
  },
  {
   "cell_type": "markdown",
   "id": "cd81d9f1-9c6c-45c6-ab5a-4c06d6cfba5f",
   "metadata": {},
   "source": [
    "## 统计"
   ]
  },
  {
   "cell_type": "markdown",
   "id": "98999e99-a85d-4de0-ab8a-cf2130cf2f4d",
   "metadata": {},
   "source": [
    "### 统计表初步"
   ]
  },
  {
   "cell_type": "markdown",
   "id": "405610fb-a9bd-4360-85b3-b9d6307fbaa2",
   "metadata": {},
   "source": [
    "### 条形统计图"
   ]
  },
  {
   "cell_type": "code",
   "execution_count": null,
   "id": "3e71583b-fcaf-4125-9de7-ac9bb234a590",
   "metadata": {},
   "outputs": [],
   "source": []
  },
  {
   "cell_type": "markdown",
   "id": "af12c87a-be10-4a48-b8cb-0d77e7d52089",
   "metadata": {},
   "source": [
    "### 九九乘法口诀表"
   ]
  },
  {
   "cell_type": "code",
   "execution_count": 27,
   "id": "74ff5954-747f-4ac3-a54a-2dae5ca2fb30",
   "metadata": {},
   "outputs": [
    {
     "name": "stdout",
     "output_type": "stream",
     "text": [
      "1x1=1\t\n",
      "1x2=2\t2x2=4\t\n",
      "1x3=3\t2x3=6\t3x3=9\t\n",
      "1x4=4\t2x4=8\t3x4=12\t4x4=16\t\n",
      "1x5=5\t2x5=10\t3x5=15\t4x5=20\t5x5=25\t\n",
      "1x6=6\t2x6=12\t3x6=18\t4x6=24\t5x6=30\t6x6=36\t\n",
      "1x7=7\t2x7=14\t3x7=21\t4x7=28\t5x7=35\t6x7=42\t7x7=49\t\n",
      "1x8=8\t2x8=16\t3x8=24\t4x8=32\t5x8=40\t6x8=48\t7x8=56\t8x8=64\t\n",
      "1x9=9\t2x9=18\t3x9=27\t4x9=36\t5x9=45\t6x9=54\t7x9=63\t8x9=72\t9x9=81\t\n"
     ]
    }
   ],
   "source": [
    "for i in range(1, 10):  \n",
    "    for j in range(1, i+1):  \n",
    "        print(f\"{j}x{i}={i*j}\", end='\\t')  \n",
    "    print()  # 换行"
   ]
  },
  {
   "cell_type": "markdown",
   "id": "6caaa90c-ee16-4b79-9d1c-2a3e696efac5",
   "metadata": {},
   "source": [
    "### 乘与加"
   ]
  },
  {
   "cell_type": "code",
   "execution_count": 16,
   "id": "29848057-a1c8-43d8-b2e7-e3d448a50aae",
   "metadata": {},
   "outputs": [
    {
     "data": {
      "text/plain": [
       "23"
      ]
     },
     "execution_count": 16,
     "metadata": {},
     "output_type": "execute_result"
    }
   ],
   "source": [
    "3 + 4 * 5"
   ]
  },
  {
   "cell_type": "code",
   "execution_count": 18,
   "id": "d792bed6-1145-4890-8422-d0e5f62cbb24",
   "metadata": {},
   "outputs": [
    {
     "data": {
      "text/plain": [
       "17"
      ]
     },
     "execution_count": 18,
     "metadata": {},
     "output_type": "execute_result"
    }
   ],
   "source": [
    "3 * 5 + 2"
   ]
  },
  {
   "cell_type": "markdown",
   "id": "5a8d7a3e-b608-4763-b79e-895a344b6aee",
   "metadata": {},
   "source": [
    "### 有余数的除法"
   ]
  },
  {
   "cell_type": "code",
   "execution_count": 19,
   "id": "d84c82b0-e0fd-4c74-9ae5-f7ca3b501d28",
   "metadata": {},
   "outputs": [
    {
     "data": {
      "text/plain": [
       "6.0"
      ]
     },
     "execution_count": 19,
     "metadata": {},
     "output_type": "execute_result"
    }
   ],
   "source": [
    "12 / 2"
   ]
  },
  {
   "cell_type": "code",
   "execution_count": 20,
   "id": "b20f602e-0a81-40f7-921e-e69a2da52aeb",
   "metadata": {},
   "outputs": [
    {
     "data": {
      "text/plain": [
       "2.0"
      ]
     },
     "execution_count": 20,
     "metadata": {},
     "output_type": "execute_result"
    }
   ],
   "source": [
    "12 / 6"
   ]
  },
  {
   "cell_type": "code",
   "execution_count": 24,
   "id": "fa7109ea-4159-4272-a06f-4dbc934d98c3",
   "metadata": {},
   "outputs": [
    {
     "data": {
      "text/plain": [
       "2.6"
      ]
     },
     "execution_count": 24,
     "metadata": {},
     "output_type": "execute_result"
    }
   ],
   "source": [
    "13 / 5"
   ]
  },
  {
   "cell_type": "markdown",
   "id": "f522659f-e63b-407b-b2ad-fbe993fa94be",
   "metadata": {},
   "source": [
    "<font color=blue>不能整除的则有小数</font>"
   ]
  },
  {
   "cell_type": "code",
   "execution_count": 25,
   "id": "716f7fdc-a98b-4e3b-ad8d-622da99f21a9",
   "metadata": {},
   "outputs": [
    {
     "name": "stdout",
     "output_type": "stream",
     "text": [
      "2\n",
      "3\n",
      "2.6\n"
     ]
    }
   ],
   "source": [
    "print(13 // 5) # 整除\n",
    "print(13 % 5) # 求余\n",
    "print(13 / 5) # 真除"
   ]
  },
  {
   "cell_type": "code",
   "execution_count": 26,
   "id": "ffdc0efe-1244-426a-a217-039b3b487ece",
   "metadata": {},
   "outputs": [
    {
     "data": {
      "text/plain": [
       "3.3333333333333335"
      ]
     },
     "execution_count": 26,
     "metadata": {},
     "output_type": "execute_result"
    }
   ],
   "source": [
    "10 / 3"
   ]
  },
  {
   "cell_type": "markdown",
   "id": "fd951224-35b4-4cb6-a9ae-919f5fb8bff7",
   "metadata": {},
   "source": [
    "## 几何小实战"
   ]
  },
  {
   "cell_type": "code",
   "execution_count": null,
   "id": "0449fa65-4015-472d-b11c-e05528d9e121",
   "metadata": {},
   "outputs": [],
   "source": []
  },
  {
   "cell_type": "markdown",
   "id": "2448978c-987d-491b-8bd2-52354c82ba62",
   "metadata": {},
   "source": [
    "### 角与直角"
   ]
  },
  {
   "cell_type": "code",
   "execution_count": 1,
   "id": "5c2d4e1a-9889-4337-a537-3b304318f3f3",
   "metadata": {},
   "outputs": [],
   "source": [
    "from turtle import *\n",
    "forward(100)\n",
    "left(30)\n",
    "forward(100)"
   ]
  },
  {
   "cell_type": "code",
   "execution_count": null,
   "id": "ec244154-7380-4fb8-8fac-dab5b209e52c",
   "metadata": {},
   "outputs": [],
   "source": []
  },
  {
   "cell_type": "code",
   "execution_count": 1,
   "id": "dfda4dab-5ead-4332-a73d-325fa8620376",
   "metadata": {},
   "outputs": [],
   "source": [
    "from turtle import *\n",
    "home() # 返回原点\n",
    "forward(100)\n",
    "left(60)\n",
    "forward(100)"
   ]
  },
  {
   "cell_type": "code",
   "execution_count": null,
   "id": "2e7ee778-fb59-4a9f-bfa7-bd716672a114",
   "metadata": {},
   "outputs": [],
   "source": []
  },
  {
   "cell_type": "code",
   "execution_count": 2,
   "id": "b7903c3e-ac90-4dd8-a012-cc4b5054c2e5",
   "metadata": {},
   "outputs": [],
   "source": [
    "from turtle import *\n",
    "home()\n",
    "forward(100)\n",
    "left(90)\n",
    "forward(100)"
   ]
  },
  {
   "cell_type": "markdown",
   "id": "604c6932-c4a9-4907-8293-838fc74cf7f4",
   "metadata": {},
   "source": [
    "### 正方体、长方体的初步认识"
   ]
  },
  {
   "cell_type": "markdown",
   "id": "ccf739b9-1ef4-4621-b7f7-32274ab051fc",
   "metadata": {},
   "source": [
    "### 正方形、长方形的初步认识"
   ]
  },
  {
   "cell_type": "code",
   "execution_count": null,
   "id": "6894c566-c13a-4436-8292-6d0dfc7fd8bc",
   "metadata": {},
   "outputs": [],
   "source": []
  }
 ],
 "metadata": {
  "kernelspec": {
   "display_name": "Python 3 (ipykernel)",
   "language": "python",
   "name": "python3"
  },
  "language_info": {
   "codemirror_mode": {
    "name": "ipython",
    "version": 3
   },
   "file_extension": ".py",
   "mimetype": "text/x-python",
   "name": "python",
   "nbconvert_exporter": "python",
   "pygments_lexer": "ipython3",
   "version": "3.12.4"
  }
 },
 "nbformat": 4,
 "nbformat_minor": 5
}
