{
 "cells": [
  {
   "cell_type": "markdown",
   "id": "b44d4094-4250-4d4a-8dab-f24f98a2918a",
   "metadata": {},
   "source": [
    "# 一年级上学期"
   ]
  },
  {
   "cell_type": "markdown",
   "id": "53ca2b22-3caf-4135-9bca-23344caf74c8",
   "metadata": {},
   "source": [
    "**一、10以内的数**"
   ]
  },
  {
   "cell_type": "markdown",
   "id": "9612178b-0c74-4b74-bae9-d9f79da15bf1",
   "metadata": {},
   "source": [
    "**说一说、分一分、数一数**"
   ]
  },
  {
   "cell_type": "code",
   "execution_count": 1,
   "id": "f9cf46ba-33ce-447a-8f15-7e5d23a683e7",
   "metadata": {},
   "outputs": [
    {
     "name": "stdout",
     "output_type": "stream",
     "text": [
      "1 2 3 4 5 6 7 8 9 10\n"
     ]
    }
   ],
   "source": [
    "print(1,2,3,4,5,6,7,8,9,10)"
   ]
  },
  {
   "cell_type": "markdown",
   "id": "2382eaab-6be5-4dbf-a80e-301acdc387de",
   "metadata": {},
   "source": [
    "**几个与第几个、比一比、数射线**"
   ]
  },
  {
   "cell_type": "code",
   "execution_count": 2,
   "id": "ef5bda80-48f3-4cb1-ab88-99cec9901f88",
   "metadata": {},
   "outputs": [
    {
     "name": "stdout",
     "output_type": "stream",
     "text": [
      "True\n",
      "True\n",
      "True\n"
     ]
    }
   ],
   "source": [
    "print(1 < 3)\n",
    "print(2 == 2)\n",
    "print(3 > 1)"
   ]
  },
  {
   "cell_type": "markdown",
   "id": "e905afca-b90f-457e-aa53-57fcab1e6b4d",
   "metadata": {},
   "source": [
    "**二、10以内书的加减法**"
   ]
  },
  {
   "cell_type": "code",
   "execution_count": 3,
   "id": "12eb7f73-6371-4509-b8cd-d0f828fb558b",
   "metadata": {},
   "outputs": [
    {
     "name": "stdout",
     "output_type": "stream",
     "text": [
      "2\n",
      "3\n",
      "4\n"
     ]
    }
   ],
   "source": [
    "print(1 + 1)\n",
    "print(1 + 2)\n",
    "print(1 + 3)"
   ]
  },
  {
   "cell_type": "code",
   "execution_count": 4,
   "id": "5d963158-b2d8-4410-b959-cd228d123fe7",
   "metadata": {},
   "outputs": [
    {
     "name": "stdout",
     "output_type": "stream",
     "text": [
      "5\n",
      "9\n",
      "10\n"
     ]
    }
   ],
   "source": [
    "print(2 + 3)\n",
    "print(4 + 5)\n",
    "print(3 + 7)"
   ]
  },
  {
   "cell_type": "code",
   "execution_count": 5,
   "id": "4318aab0-c405-4e38-bbde-ecc08f57a535",
   "metadata": {},
   "outputs": [
    {
     "name": "stdout",
     "output_type": "stream",
     "text": [
      "0\n"
     ]
    }
   ],
   "source": [
    "print(0)"
   ]
  },
  {
   "cell_type": "markdown",
   "id": "4e41e6f7-bb30-4234-a97a-563207f925d1",
   "metadata": {},
   "source": [
    "**据说0的是印度人发明的。**"
   ]
  },
  {
   "cell_type": "code",
   "execution_count": 6,
   "id": "6b422873-9956-4337-b1e4-713440f6db24",
   "metadata": {},
   "outputs": [
    {
     "name": "stdout",
     "output_type": "stream",
     "text": [
      "6\n",
      "1\n",
      "2\n",
      "0\n"
     ]
    }
   ],
   "source": [
    "print(9 - 3)\n",
    "print(5 - 4)\n",
    "print(3 - 1)\n",
    "print(8 - 8)"
   ]
  },
  {
   "cell_type": "markdown",
   "id": "0aba9f11-f359-4699-8329-c0913cad2971",
   "metadata": {},
   "source": [
    "三、20以内的数及其加减法"
   ]
  },
  {
   "cell_type": "code",
   "execution_count": 7,
   "id": "f20b272e-89b8-4b96-a926-34078ceb10b0",
   "metadata": {},
   "outputs": [
    {
     "name": "stdout",
     "output_type": "stream",
     "text": [
      "15\n",
      "13\n",
      "20\n"
     ]
    }
   ],
   "source": [
    "print(7 + 8)\n",
    "print(10 + 3)\n",
    "print(10 + 10)"
   ]
  },
  {
   "cell_type": "code",
   "execution_count": 8,
   "id": "3e70488d-f62e-47e7-adf2-eb42f3505e4f",
   "metadata": {},
   "outputs": [
    {
     "name": "stdout",
     "output_type": "stream",
     "text": [
      "19\n",
      "9\n",
      "20\n"
     ]
    }
   ],
   "source": [
    "print(20 - 1)\n",
    "print(20 - 11)\n",
    "print(20 - 0)"
   ]
  },
  {
   "cell_type": "markdown",
   "id": "41a6710b-d98c-42d3-94b3-ce794b402d65",
   "metadata": {},
   "source": [
    "四、识别图形"
   ]
  },
  {
   "cell_type": "markdown",
   "id": "52e3d570-fe79-4263-b400-d91b44ddecc4",
   "metadata": {},
   "source": [
    "五、整理与提高"
   ]
  },
  {
   "cell_type": "code",
   "execution_count": null,
   "id": "205bafa4-a3d2-459e-a4af-6a8855c7f449",
   "metadata": {},
   "outputs": [],
   "source": []
  }
 ],
 "metadata": {
  "kernelspec": {
   "display_name": "math",
   "language": "python",
   "name": "math"
  },
  "language_info": {
   "codemirror_mode": {
    "name": "ipython",
    "version": 3
   },
   "file_extension": ".py",
   "mimetype": "text/x-python",
   "name": "python",
   "nbconvert_exporter": "python",
   "pygments_lexer": "ipython3",
   "version": "3.12.4"
  }
 },
 "nbformat": 4,
 "nbformat_minor": 5
}
