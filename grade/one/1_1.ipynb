{
 "cells": [
  {
   "cell_type": "markdown",
   "id": "b44d4094-4250-4d4a-8dab-f24f98a2918a",
   "metadata": {},
   "source": [
    "# 一年级上学期"
   ]
  },
  {
   "cell_type": "markdown",
   "id": "53ca2b22-3caf-4135-9bca-23344caf74c8",
   "metadata": {},
   "source": [
    "## 10以内的数"
   ]
  },
  {
   "cell_type": "markdown",
   "id": "9612178b-0c74-4b74-bae9-d9f79da15bf1",
   "metadata": {},
   "source": [
    "### 说一说、分一分、数一数"
   ]
  },
  {
   "cell_type": "code",
   "execution_count": 1,
   "id": "f9cf46ba-33ce-447a-8f15-7e5d23a683e7",
   "metadata": {},
   "outputs": [
    {
     "name": "stdout",
     "output_type": "stream",
     "text": [
      "1 2 3 4 5 6 7 8 9 10\n"
     ]
    }
   ],
   "source": [
    "print(1,2,3,4,5,6,7,8,9,10)"
   ]
  },
  {
   "cell_type": "markdown",
   "id": "2382eaab-6be5-4dbf-a80e-301acdc387de",
   "metadata": {},
   "source": [
    "### 几个与第几个、比一比、数射线"
   ]
  },
  {
   "cell_type": "code",
   "execution_count": 2,
   "id": "ef5bda80-48f3-4cb1-ab88-99cec9901f88",
   "metadata": {},
   "outputs": [
    {
     "name": "stdout",
     "output_type": "stream",
     "text": [
      "True\n",
      "True\n",
      "True\n"
     ]
    }
   ],
   "source": [
    "print(1 < 3)\n",
    "print(2 == 2)\n",
    "print(3 > 1)"
   ]
  },
  {
   "cell_type": "markdown",
   "id": "e905afca-b90f-457e-aa53-57fcab1e6b4d",
   "metadata": {},
   "source": [
    "## 10以内书的加减法"
   ]
  },
  {
   "cell_type": "code",
   "execution_count": 3,
   "id": "12eb7f73-6371-4509-b8cd-d0f828fb558b",
   "metadata": {},
   "outputs": [
    {
     "name": "stdout",
     "output_type": "stream",
     "text": [
      "2\n",
      "3\n",
      "4\n"
     ]
    }
   ],
   "source": [
    "print(1 + 1)\n",
    "print(1 + 2)\n",
    "print(1 + 3)"
   ]
  },
  {
   "cell_type": "code",
   "execution_count": 4,
   "id": "5d963158-b2d8-4410-b959-cd228d123fe7",
   "metadata": {},
   "outputs": [
    {
     "name": "stdout",
     "output_type": "stream",
     "text": [
      "5\n",
      "9\n",
      "10\n"
     ]
    }
   ],
   "source": [
    "print(2 + 3)\n",
    "print(4 + 5)\n",
    "print(3 + 7)"
   ]
  },
  {
   "cell_type": "code",
   "execution_count": 5,
   "id": "4318aab0-c405-4e38-bbde-ecc08f57a535",
   "metadata": {},
   "outputs": [
    {
     "name": "stdout",
     "output_type": "stream",
     "text": [
      "0\n"
     ]
    }
   ],
   "source": [
    "print(0)"
   ]
  },
  {
   "cell_type": "markdown",
   "id": "4e41e6f7-bb30-4234-a97a-563207f925d1",
   "metadata": {},
   "source": [
    "**<font color=blue>据说0的是印度人发明的。</font>**"
   ]
  },
  {
   "cell_type": "code",
   "execution_count": 6,
   "id": "6b422873-9956-4337-b1e4-713440f6db24",
   "metadata": {},
   "outputs": [
    {
     "name": "stdout",
     "output_type": "stream",
     "text": [
      "6\n",
      "1\n",
      "2\n",
      "0\n"
     ]
    }
   ],
   "source": [
    "print(9 - 3)\n",
    "print(5 - 4)\n",
    "print(3 - 1)\n",
    "print(8 - 8)"
   ]
  },
  {
   "cell_type": "markdown",
   "id": "0aba9f11-f359-4699-8329-c0913cad2971",
   "metadata": {},
   "source": [
    "## 20以内的数及其加减法"
   ]
  },
  {
   "cell_type": "code",
   "execution_count": 7,
   "id": "f20b272e-89b8-4b96-a926-34078ceb10b0",
   "metadata": {},
   "outputs": [
    {
     "name": "stdout",
     "output_type": "stream",
     "text": [
      "15\n",
      "13\n",
      "20\n"
     ]
    }
   ],
   "source": [
    "print(7 + 8)\n",
    "print(10 + 3)\n",
    "print(10 + 10)"
   ]
  },
  {
   "cell_type": "code",
   "execution_count": 8,
   "id": "3e70488d-f62e-47e7-adf2-eb42f3505e4f",
   "metadata": {},
   "outputs": [
    {
     "name": "stdout",
     "output_type": "stream",
     "text": [
      "19\n",
      "9\n",
      "20\n"
     ]
    }
   ],
   "source": [
    "print(20 - 1)\n",
    "print(20 - 11)\n",
    "print(20 - 0)"
   ]
  },
  {
   "cell_type": "markdown",
   "id": "41a6710b-d98c-42d3-94b3-ce794b402d65",
   "metadata": {},
   "source": [
    "## 识别图形"
   ]
  },
  {
   "cell_type": "markdown",
   "id": "6c650841-dd9a-4432-b246-06de2de538c6",
   "metadata": {},
   "source": [
    "## 三角形"
   ]
  },
  {
   "cell_type": "code",
   "execution_count": null,
   "id": "4be4858b-4136-4b11-bb79-b5181a47b155",
   "metadata": {},
   "outputs": [],
   "source": [
    "import turtle\n",
    "import time\n",
    "\n",
    "def turtle_triangle():\n",
    "    t = turtle.Turtle()\n",
    " \n",
    "    t.shape(\"turtle\")\n",
    "    t.color(\"blue\")\n",
    "    t.speed(1) # 速度大小，0-10之间的整型值，\"fastest\": 0 最快 \"fast\": 10 快 \"normal\": 6 正常 \"slow\": 3 慢 \"slowest\": 1 最慢\n",
    "\n",
    "    time.sleep(3) # 休息3秒\n",
    "    \n",
    "    for _ in range(3): # 是一个循环语句，用于重复执行一段代码块三次。这里的 _ 是一个常用的占位符变量名，它表明在循环体中我们并不打算使用这个循环变量（即range(3)生成的序列中的值）。\n",
    "                       # range(3) 生成一个从0开始到2的整数序列（即0, 1, 2），因为range函数的结束值是开区间，不包含在内。\n",
    "        t.right(60) # 右转60度\n",
    "        time.sleep(3)\n",
    "        t.forward(200)  # 向前移动200个单位\n",
    "        time.sleep(3)\n",
    "        t.right(60)\n",
    "        time.sleep(3)\n",
    " \n",
    "    turtle.exitonclick() # 点击退出\n",
    "\n",
    "turtle_triangle() # 调用函数"
   ]
  },
  {
   "cell_type": "markdown",
   "id": "ee319b14-0b94-4fa9-b487-05e8fef006a7",
   "metadata": {},
   "source": [
    "## 四边形"
   ]
  },
  {
   "cell_type": "code",
   "execution_count": 1,
   "id": "d68af8e1-870a-44e5-ab8c-ed2c9f817e01",
   "metadata": {},
   "outputs": [],
   "source": [
    "from turtle import *\n",
    "shape('turtle')\n",
    "for i in range(4):\n",
    "    forward(100)\n",
    "    right(90)"
   ]
  },
  {
   "cell_type": "markdown",
   "id": "5bcae45f-c682-4a20-83d8-be4c66c583b4",
   "metadata": {},
   "source": [
    "**函数**"
   ]
  },
  {
   "cell_type": "markdown",
   "id": "8c6702e9-fc67-4ec5-a513-54f3107f18dd",
   "metadata": {},
   "source": [
    "**<font color=blue>定义一个画正方形的函数square</font>**"
   ]
  },
  {
   "cell_type": "code",
   "execution_count": 1,
   "id": "55523205-b277-45e6-8a82-563930d4f442",
   "metadata": {},
   "outputs": [],
   "source": [
    "from turtle import *\n",
    "\n",
    "def square(sidelength):\n",
    "    for i in range(4):\n",
    "        forward(sidelength)\n",
    "        right(90)"
   ]
  },
  {
   "cell_type": "code",
   "execution_count": 2,
   "id": "d1b8533f-2303-4aeb-bf4c-e1c1f6ad8939",
   "metadata": {},
   "outputs": [],
   "source": [
    "square(50)"
   ]
  },
  {
   "cell_type": "code",
   "execution_count": 3,
   "id": "3dab774b-9286-4c37-990c-dd3a5f4560ce",
   "metadata": {},
   "outputs": [],
   "source": [
    "square(100)"
   ]
  },
  {
   "cell_type": "markdown",
   "id": "52e3d570-fe79-4263-b400-d91b44ddecc4",
   "metadata": {},
   "source": [
    "## 整理与提高"
   ]
  },
  {
   "cell_type": "markdown",
   "id": "f5be13b4-7de1-49f6-ada4-3775b05afd2f",
   "metadata": {},
   "source": [
    "## 圆形"
   ]
  },
  {
   "cell_type": "code",
   "execution_count": 7,
   "id": "cd9dd715-402e-4a62-bcc6-1dc7f0886f0f",
   "metadata": {},
   "outputs": [],
   "source": [
    "import turtle\n",
    "\n",
    "# turtle.color('red')\n",
    "turtle.circle(100)\n",
    "turtle.done()"
   ]
  },
  {
   "cell_type": "markdown",
   "id": "7cbf151e-8386-403f-abe2-1240919df8a1",
   "metadata": {},
   "source": [
    "## 五角星"
   ]
  },
  {
   "cell_type": "code",
   "execution_count": 1,
   "id": "ca013e89-3908-41a3-ad41-463bd46fb363",
   "metadata": {},
   "outputs": [],
   "source": [
    "import turtle\n",
    "import time\n",
    "\n",
    "#绘制五角星\n",
    "for _ in range(5): #重复执行5次\n",
    "    turtle.forward(200) #向前移动200\n",
    "    turtle.right(144)  #向右移动144度，每个角36度\n",
    "\n",
    "time.sleep(1)"
   ]
  },
  {
   "cell_type": "markdown",
   "id": "5599b7ce-963e-4c5b-ab22-4c7132e340f2",
   "metadata": {},
   "source": [
    "## 长方体"
   ]
  },
  {
   "cell_type": "code",
   "execution_count": null,
   "id": "bc756d10-2973-4299-960f-85a57488127e",
   "metadata": {},
   "outputs": [],
   "source": [
    "import  turtle\n",
    "turtle.title('长方体')\n",
    "n = 100  # 边长\n",
    "\n",
    "# 前侧\n",
    "turtle.begin_fill()\n",
    "for i in range(4):\n",
    "    turtle.forward(n)\n",
    "    turtle.right(90)\n",
    "\n",
    "\n",
    "# 上方\n",
    "turtle.left(55)\n",
    "turtle.forward(n*0.6)\n",
    "turtle.right(55)\n",
    "turtle.forward(n)\n",
    "turtle.right(125)\n",
    "turtle.forward(n*0.6)\n",
    "\n",
    "\n",
    "# 右侧面\n",
    "turtle.penup()\n",
    "turtle.goto(n, -n)\n",
    "turtle.pendown()\n",
    "turtle.left(180)\n",
    "turtle.forward(n*0.6)\n",
    "turtle.left(35)\n",
    "turtle.forward(n)\n",
    "\n",
    "# 后侧\n",
    "turtle.penup()\n",
    "turtle.goto(n, -n)\n",
    "turtle.pendown()\n",
    "turtle.right(35)\n",
    "turtle.forward(n*0.6)\n",
    "turtle.left(125)\n",
    "turtle.forward(n)\n",
    "turtle.right(90)\n",
    "turtle.forward(n)\n",
    "\n",
    "# 底面\n",
    "turtle.penup()\n",
    "turtle.goto(n, -n)\n",
    "turtle.pendown()\n",
    "turtle.right(35)\n",
    "turtle.forward(n*0.6)\n",
    "turtle.left(125)\n",
    "turtle.forward(n)\n",
    "\n",
    "# 正方体的侧边是垂直于底面的啊\n",
    "turtle.left(55)\n",
    "turtle.forward(n*0.6)\n",
    "\n",
    "turtle.showturtle()\n",
    "turtle.done()\n"
   ]
  },
  {
   "cell_type": "code",
   "execution_count": null,
   "id": "d803948c-3e8c-4b56-8c23-74c9336d9d20",
   "metadata": {},
   "outputs": [],
   "source": []
  }
 ],
 "metadata": {
  "kernelspec": {
   "display_name": "math",
   "language": "python",
   "name": "math"
  },
  "language_info": {
   "codemirror_mode": {
    "name": "ipython",
    "version": 3
   },
   "file_extension": ".py",
   "mimetype": "text/x-python",
   "name": "python",
   "nbconvert_exporter": "python",
   "pygments_lexer": "ipython3",
   "version": "3.12.2"
  }
 },
 "nbformat": 4,
 "nbformat_minor": 5
}
