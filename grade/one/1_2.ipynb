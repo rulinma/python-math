{
 "cells": [
  {
   "cell_type": "markdown",
   "id": "1d6df9dc-e5aa-400e-a0fa-f582668752cc",
   "metadata": {},
   "source": [
    "# 一年级下学期"
   ]
  },
  {
   "cell_type": "markdown",
   "id": "cccdb38a-342f-48de-b142-5f8238b5584a",
   "metadata": {},
   "source": [
    "**二、100以内数的认识**"
   ]
  },
  {
   "cell_type": "markdown",
   "id": "477ff402-d92c-45b9-a185-e9ae8bb576d8",
   "metadata": {},
   "source": [
    "认识100"
   ]
  },
  {
   "cell_type": "code",
   "execution_count": 12,
   "id": "ed10dbd3-ab2e-4a5e-8ba7-2145718c1e86",
   "metadata": {},
   "outputs": [
    {
     "name": "stdout",
     "output_type": "stream",
     "text": [
      "1,2,3,4,5,6,7,8,9,10,11,12,13,14,15,16,17,18,19,20,21,22,23,24,25,26,27,28,29,30,31,32,33,34,35,36,37,38,39,40,41,42,43,44,45,46,47,48,49,50,51,52,53,54,55,56,57,58,59,60,61,62,63,64,65,66,67,68,69,70,71,72,73,74,75,76,77,78,79,80,81,82,83,84,85,86,87,88,89,90,91,92,93,94,95,96,97,98,99,100\n"
     ]
    }
   ],
   "source": [
    "# 遍历100以内的所有整数  \n",
    "for i in range(1, 101):  \n",
    "    # 打印当前数，并在其后添加逗号（除了最后一个数）  \n",
    "    if i < 100:  \n",
    "        print(i, end=',')  \n",
    "    else:  \n",
    "        # 如果是最后一个数，则正常打印（不带逗号）  \n",
    "        print(i)"
   ]
  },
  {
   "cell_type": "code",
   "execution_count": 11,
   "id": "c34331b2-e707-4606-b5ab-4be6cc6b96dc",
   "metadata": {},
   "outputs": [
    {
     "name": "stdout",
     "output_type": "stream",
     "text": [
      "1,2,3,4,5,6,7,8,9,10,11,12,13,14,15,16,17,18,19,20,21,22,23,24,25,26,27,28,29,30,31,32,33,34,35,36,37,38,39,40,41,42,43,44,45,46,47,48,49,50,51,52,53,54,55,56,57,58,59,60,61,62,63,64,65,66,67,68,69,70,71,72,73,74,75,76,77,78,79,80,81,82,83,84,85,86,87,88,89,90,91,92,93,94,95,96,97,98,99,100\n"
     ]
    }
   ],
   "source": [
    "# 创建一个包含100以内所有整数的列表  \n",
    "numbers = list(range(1, 101))  \n",
    "  \n",
    "# 将列表中的每个整数转换为字符串，并使用逗号连接  \n",
    "numbers_str = ','.join(map(str, numbers))  \n",
    "  \n",
    "# 打印结果  \n",
    "print(numbers_str)"
   ]
  },
  {
   "cell_type": "markdown",
   "id": "0f92dcd3-7fdc-4bfe-a202-186565ccf89f",
   "metadata": {},
   "source": [
    "100内比较大小"
   ]
  },
  {
   "cell_type": "code",
   "execution_count": 3,
   "id": "ca0cf66e-facd-46fb-be32-5484635aec2c",
   "metadata": {},
   "outputs": [
    {
     "name": "stdout",
     "output_type": "stream",
     "text": [
      "False\n",
      "True\n",
      "False\n",
      "False\n",
      "True\n"
     ]
    }
   ],
   "source": [
    "print(11 > 12)\n",
    "print(12 > 11)\n",
    "print(88 > 88)\n",
    "print(88 < 88)\n",
    "print(88 == 88)"
   ]
  },
  {
   "cell_type": "markdown",
   "id": "5f3c790d-932a-474c-b4ad-252b78004a5c",
   "metadata": {},
   "source": [
    "**三、时钟的初步认识**"
   ]
  },
  {
   "cell_type": "markdown",
   "id": "44a0966a-35e8-4295-bc85-87261a3bd92a",
   "metadata": {},
   "source": [
    "环境有可能需要重启或刷新"
   ]
  },
  {
   "cell_type": "code",
   "execution_count": 1,
   "id": "8fd6a299-9e2c-4450-958f-ddcf57987d0e",
   "metadata": {},
   "outputs": [],
   "source": [
    "%load clock.py"
   ]
  },
  {
   "cell_type": "code",
   "execution_count": 1,
   "id": "ecef9395-144c-4a8c-b80e-593ba6d0d786",
   "metadata": {},
   "outputs": [
    {
     "name": "stderr",
     "output_type": "stream",
     "text": [
      "Exception in Tkinter callback\n",
      "Traceback (most recent call last):\n",
      "  File \"/opt/miniconda3/envs/math/lib/python3.12/tkinter/__init__.py\", line 1968, in __call__\n",
      "    return self.func(*args)\n",
      "           ^^^^^^^^^^^^^^^^\n",
      "  File \"/opt/miniconda3/envs/math/lib/python3.12/tkinter/__init__.py\", line 862, in callit\n",
      "    func(*args)\n",
      "  File \"/Users/rulin/program/mp/python-math/grade/one/clock.py\", line 98, in Tick\n",
      "    hurHand.setheading(30 * hour)\n",
      "  File \"/opt/miniconda3/envs/math/lib/python3.12/turtle.py\", line 1935, in setheading\n",
      "    self._rotate(angle)\n",
      "  File \"/opt/miniconda3/envs/math/lib/python3.12/turtle.py\", line 3350, in _rotate\n",
      "    self._update()\n",
      "  File \"/opt/miniconda3/envs/math/lib/python3.12/turtle.py\", line 2668, in _update\n",
      "    self._update_data()\n",
      "  File \"/opt/miniconda3/envs/math/lib/python3.12/turtle.py\", line 2654, in _update_data\n",
      "    self.screen._incrementudc()\n",
      "  File \"/opt/miniconda3/envs/math/lib/python3.12/turtle.py\", line 1284, in _incrementudc\n",
      "    raise Terminator\n",
      "turtle.Terminator\n"
     ]
    }
   ],
   "source": [
    "%run clock.py"
   ]
  },
  {
   "cell_type": "markdown",
   "id": "0d243c63-2fe2-490d-8af3-433731c19ae2",
   "metadata": {},
   "source": [
    "**四、100内加减法**"
   ]
  },
  {
   "cell_type": "markdown",
   "id": "e3bcb2a0-ec82-4875-9e4a-f7afcbda0428",
   "metadata": {},
   "source": [
    "100内加法"
   ]
  },
  {
   "cell_type": "code",
   "execution_count": null,
   "id": "e9324352-6fb7-44ac-a895-2bdb06cad414",
   "metadata": {},
   "outputs": [],
   "source": [
    "print(12 + 23)\n",
    "print(23 + 45)\n",
    "print(65 + 32)"
   ]
  },
  {
   "cell_type": "markdown",
   "id": "fbe528a0-1dd1-4226-9017-7d6adc9bde45",
   "metadata": {},
   "source": [
    "100内减法"
   ]
  },
  {
   "cell_type": "code",
   "execution_count": 13,
   "id": "c293ca48-d304-4987-8939-8fd2db4dc3f8",
   "metadata": {},
   "outputs": [
    {
     "name": "stdout",
     "output_type": "stream",
     "text": [
      "9\n",
      "18\n",
      "68\n"
     ]
    }
   ],
   "source": [
    "print(12 - 3)\n",
    "print(63 - 45)\n",
    "print(100 - 32)"
   ]
  },
  {
   "cell_type": "code",
   "execution_count": null,
   "id": "d6a9038d-66f8-4bd4-b4c2-adf993dbf67d",
   "metadata": {},
   "outputs": [],
   "source": [
    "连加"
   ]
  },
  {
   "cell_type": "code",
   "execution_count": 14,
   "id": "611d4a22-09de-46c0-80bd-d5731cd99125",
   "metadata": {},
   "outputs": [
    {
     "name": "stdout",
     "output_type": "stream",
     "text": [
      "86\n"
     ]
    }
   ],
   "source": [
    "print(29 + 29 + 28)"
   ]
  },
  {
   "cell_type": "code",
   "execution_count": 17,
   "id": "a472566a-c1aa-4c7d-8720-ccb196b71113",
   "metadata": {},
   "outputs": [
    {
     "data": {
      "text/plain": [
       "86"
      ]
     },
     "execution_count": 17,
     "metadata": {},
     "output_type": "execute_result"
    }
   ],
   "source": [
    "29 + 29 + 28"
   ]
  },
  {
   "cell_type": "code",
   "execution_count": null,
   "id": "9c2d17cc-818e-4cb9-96e5-b4069f58fa6c",
   "metadata": {},
   "outputs": [],
   "source": [
    "连减"
   ]
  },
  {
   "cell_type": "code",
   "execution_count": 15,
   "id": "6065ed4c-cfe3-4d05-996a-d97250a81ba9",
   "metadata": {},
   "outputs": [
    {
     "name": "stdout",
     "output_type": "stream",
     "text": [
      "39\n"
     ]
    }
   ],
   "source": [
    "print(86 - 28 - 19)"
   ]
  },
  {
   "cell_type": "code",
   "execution_count": 16,
   "id": "b4d52288-bd30-4e35-a554-e8ce743a99c9",
   "metadata": {},
   "outputs": [
    {
     "data": {
      "text/plain": [
       "39"
      ]
     },
     "execution_count": 16,
     "metadata": {},
     "output_type": "execute_result"
    }
   ],
   "source": [
    "86 - 28 - 19"
   ]
  },
  {
   "cell_type": "markdown",
   "id": "c0e0b648-c8dd-44ac-8b96-5cc79000c1c8",
   "metadata": {},
   "source": [
    "混合预算"
   ]
  },
  {
   "cell_type": "code",
   "execution_count": 19,
   "id": "27f10e30-5414-4366-b3a4-cf41c19f184d",
   "metadata": {},
   "outputs": [
    {
     "data": {
      "text/plain": [
       "89"
      ]
     },
     "execution_count": 19,
     "metadata": {},
     "output_type": "execute_result"
    }
   ],
   "source": [
    "29 + 28 + 32"
   ]
  },
  {
   "cell_type": "markdown",
   "id": "2eb3dfbe-a1fc-43a4-a32b-bba2c912fd01",
   "metadata": {},
   "source": [
    "**六、整理与提高**"
   ]
  },
  {
   "cell_type": "markdown",
   "id": "2594411b-86a2-49b7-a625-6c3f5dfa96cb",
   "metadata": {},
   "source": [
    "百分表"
   ]
  },
  {
   "cell_type": "code",
   "execution_count": 20,
   "id": "03cc330e-936d-4312-9003-72d3cc977f73",
   "metadata": {},
   "outputs": [
    {
     "name": "stdout",
     "output_type": "stream",
     "text": [
      "1 2 3 4 5 6 7 8 9 10 \n",
      "11 12 13 14 15 16 17 18 19 20 \n",
      "21 22 23 24 25 26 27 28 29 30 \n",
      "31 32 33 34 35 36 37 38 39 40 \n",
      "41 42 43 44 45 46 47 48 49 50 \n",
      "51 52 53 54 55 56 57 58 59 60 \n",
      "61 62 63 64 65 66 67 68 69 70 \n",
      "71 72 73 74 75 76 77 78 79 80 \n",
      "81 82 83 84 85 86 87 88 89 90 \n",
      "91 92 93 94 95 96 97 98 99 100 \n"
     ]
    }
   ],
   "source": [
    "# 打印1到100的数字，每10个数字换一次行  \n",
    "for i in range(1, 101):  # 遍历1到100的数字  \n",
    "    print(i, end=' ')  # 打印数字，并设置end参数为空格，这样数字之间会用空格分隔  \n",
    "    if (i % 10) == 0:  # 如果i是10的倍数，说明已经打印了10个数字  \n",
    "        print()  # 打印一个空行，实现换行效果"
   ]
  },
  {
   "cell_type": "markdown",
   "id": "4d0c16d0-2249-4b7f-b400-6b3875a4e6da",
   "metadata": {},
   "source": [
    "美化输出格式"
   ]
  },
  {
   "cell_type": "code",
   "execution_count": 21,
   "id": "a671b4fe-ce88-48e7-92c6-483d42dcc3e7",
   "metadata": {},
   "outputs": [
    {
     "name": "stdout",
     "output_type": "stream",
     "text": [
      "  1   2   3   4   5   6   7   8   9  10\n",
      " 11  12  13  14  15  16  17  18  19  20\n",
      " 21  22  23  24  25  26  27  28  29  30\n",
      " 31  32  33  34  35  36  37  38  39  40\n",
      " 41  42  43  44  45  46  47  48  49  50\n",
      " 51  52  53  54  55  56  57  58  59  60\n",
      " 61  62  63  64  65  66  67  68  69  70\n",
      " 71  72  73  74  75  76  77  78  79  80\n",
      " 81  82  83  84  85  86  87  88  89  90\n",
      " 91  92  93  94  95  96  97  98  99 100\n"
     ]
    }
   ],
   "source": [
    "# 打印1到100的数字，每10个数字换一次行，每个数字占据固定宽度  \n",
    "for i in range(1, 101):  \n",
    "    # 使用f-string和:>width格式化选项来确保每个数字占据固定宽度（这里是3）  \n",
    "    # 并使用end=' '来确保数字之间有空格分隔，但在每行的末尾不添加空格  \n",
    "    if (i % 10) != 0:  \n",
    "        print(f'{i:>3}', end=' ')  \n",
    "    else:  \n",
    "        # 如果是每行的最后一个数字，则打印数字并换行  \n",
    "        print(f'{i:>3}')  "
   ]
  },
  {
   "cell_type": "markdown",
   "id": "c037a7a5-eaba-48db-831a-b76988fea30d",
   "metadata": {},
   "source": [
    "交换"
   ]
  },
  {
   "cell_type": "code",
   "execution_count": 23,
   "id": "e88f0dcb-aae3-4c29-bba2-fb3da803a653",
   "metadata": {},
   "outputs": [
    {
     "name": "stdout",
     "output_type": "stream",
     "text": [
      "53\n",
      "53\n"
     ]
    }
   ],
   "source": [
    "print(21 + 32)\n",
    "print(32 + 21)"
   ]
  },
  {
   "cell_type": "code",
   "execution_count": null,
   "id": "ddc454f8-5f09-479a-a789-a2a940fea4fc",
   "metadata": {},
   "outputs": [],
   "source": []
  },
  {
   "cell_type": "code",
   "execution_count": null,
   "id": "d3162587-9453-4d79-b86d-fe8a671cea1c",
   "metadata": {},
   "outputs": [],
   "source": []
  }
 ],
 "metadata": {
  "kernelspec": {
   "display_name": "Python 3 (ipykernel)",
   "language": "python",
   "name": "python3"
  },
  "language_info": {
   "codemirror_mode": {
    "name": "ipython",
    "version": 3
   },
   "file_extension": ".py",
   "mimetype": "text/x-python",
   "name": "python",
   "nbconvert_exporter": "python",
   "pygments_lexer": "ipython3",
   "version": "3.12.4"
  }
 },
 "nbformat": 4,
 "nbformat_minor": 5
}
