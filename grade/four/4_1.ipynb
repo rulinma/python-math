{
 "cells": [
  {
   "cell_type": "markdown",
   "id": "59f01cec-ce3a-4a73-8b57-8801aca8279d",
   "metadata": {},
   "source": [
    "# 四年级上"
   ]
  },
  {
   "cell_type": "markdown",
   "id": "9b3c1238-cbed-476a-bc27-f7b8487f5c63",
   "metadata": {},
   "source": [
    "## 数与量"
   ]
  },
  {
   "cell_type": "markdown",
   "id": "8703a499-06b1-48d5-ae61-ea3af907b276",
   "metadata": {},
   "source": [
    "### 大数的认识"
   ]
  },
  {
   "cell_type": "markdown",
   "id": "2b514e85-3bf1-4d87-82cc-cf495e19852a",
   "metadata": {},
   "source": [
    "### 四舍五入"
   ]
  },
  {
   "cell_type": "markdown",
   "id": "a0706968-6f21-44f1-8e8e-8020c5057610",
   "metadata": {},
   "source": [
    "## 分数的初步认识"
   ]
  },
  {
   "cell_type": "markdown",
   "id": "b2bae29e-e3df-4510-b1ca-6327a414ef93",
   "metadata": {},
   "source": [
    "### 分数的大小比较"
   ]
  },
  {
   "cell_type": "markdown",
   "id": "20078617-6083-4757-92c2-bbc72086ae89",
   "metadata": {},
   "source": [
    "### 分数的加减计算"
   ]
  },
  {
   "cell_type": "markdown",
   "id": "afd4e590-23c3-4bdf-960a-3d85b5c0928e",
   "metadata": {},
   "source": [
    "## 整数的四则运算"
   ]
  },
  {
   "cell_type": "markdown",
   "id": "bb36bfa8-ab36-4f5d-ac14-482302c4f0da",
   "metadata": {},
   "source": [
    "## 几何小实践"
   ]
  },
  {
   "cell_type": "markdown",
   "id": "68d96391-f201-4678-8b2f-c8577c44973e",
   "metadata": {},
   "source": [
    "### 圆的初步认识"
   ]
  },
  {
   "cell_type": "markdown",
   "id": "a7ee11b7-04a4-4c61-ade9-aa41f528b185",
   "metadata": {},
   "source": [
    "### 线段、射线、直线"
   ]
  },
  {
   "cell_type": "markdown",
   "id": "aecd18af-d396-4b23-9754-7486d558a2aa",
   "metadata": {},
   "source": [
    "### 角"
   ]
  },
  {
   "cell_type": "markdown",
   "id": "17fb1fde-1eb5-45d1-9b9e-5f0d3783b208",
   "metadata": {},
   "source": [
    "### 角的度量"
   ]
  },
  {
   "cell_type": "markdown",
   "id": "0f20f78d-8378-47d4-89c2-a2ced498ceba",
   "metadata": {},
   "source": [
    "### 角的计算"
   ]
  },
  {
   "cell_type": "markdown",
   "id": "0b3eae9d-adca-46ad-9852-ef65614f88a8",
   "metadata": {},
   "source": [
    "## 整理与提高"
   ]
  },
  {
   "cell_type": "code",
   "execution_count": null,
   "id": "175d1ce0-4c39-46d6-944e-e65f7382f6c1",
   "metadata": {},
   "outputs": [],
   "source": []
  }
 ],
 "metadata": {
  "kernelspec": {
   "display_name": "math",
   "language": "python",
   "name": "math"
  },
  "language_info": {
   "codemirror_mode": {
    "name": "ipython",
    "version": 3
   },
   "file_extension": ".py",
   "mimetype": "text/x-python",
   "name": "python",
   "nbconvert_exporter": "python",
   "pygments_lexer": "ipython3",
   "version": "3.12.4"
  }
 },
 "nbformat": 4,
 "nbformat_minor": 5
}
