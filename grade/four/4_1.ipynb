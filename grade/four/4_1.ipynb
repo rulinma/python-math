{
 "cells": [
  {
   "cell_type": "markdown",
   "id": "59f01cec-ce3a-4a73-8b57-8801aca8279d",
   "metadata": {},
   "source": [
    "# 四年级上"
   ]
  },
  {
   "cell_type": "code",
   "execution_count": null,
   "id": "c78b7186-2d0d-4942-8260-ac027c44d8ce",
   "metadata": {},
   "outputs": [],
   "source": []
  }
 ],
 "metadata": {
  "kernelspec": {
   "display_name": "math",
   "language": "python",
   "name": "math"
  },
  "language_info": {
   "codemirror_mode": {
    "name": "ipython",
    "version": 3
   },
   "file_extension": ".py",
   "mimetype": "text/x-python",
   "name": "python",
   "nbconvert_exporter": "python",
   "pygments_lexer": "ipython3",
   "version": "3.12.4"
  }
 },
 "nbformat": 4,
 "nbformat_minor": 5
}
