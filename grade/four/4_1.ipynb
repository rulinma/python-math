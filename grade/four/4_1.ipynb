{
 "cells": [
  {
   "cell_type": "markdown",
   "id": "59f01cec-ce3a-4a73-8b57-8801aca8279d",
   "metadata": {},
   "source": [
    "# 四年级上"
   ]
  },
  {
   "cell_type": "markdown",
   "id": "9b3c1238-cbed-476a-bc27-f7b8487f5c63",
   "metadata": {},
   "source": [
    "## 数与量"
   ]
  },
  {
   "cell_type": "markdown",
   "id": "8703a499-06b1-48d5-ae61-ea3af907b276",
   "metadata": {},
   "source": [
    "### 大数的认识"
   ]
  },
  {
   "cell_type": "code",
   "execution_count": 2,
   "id": "3c203280-aa95-4bc2-8ed3-d31acf194e1d",
   "metadata": {},
   "outputs": [
    {
     "data": {
      "text/plain": [
       "123456789"
      ]
     },
     "execution_count": 2,
     "metadata": {},
     "output_type": "execute_result"
    }
   ],
   "source": [
    "123456789"
   ]
  },
  {
   "cell_type": "code",
   "execution_count": 3,
   "id": "253571aa-ada8-4825-b3e6-de8aa01c81f9",
   "metadata": {},
   "outputs": [
    {
     "data": {
      "text/plain": [
       "123456789987654321"
      ]
     },
     "execution_count": 3,
     "metadata": {},
     "output_type": "execute_result"
    }
   ],
   "source": [
    "123456789987654321"
   ]
  },
  {
   "cell_type": "code",
   "execution_count": 7,
   "id": "1146c0b7-2dc1-406a-8c96-81f5085e7a53",
   "metadata": {},
   "outputs": [
    {
     "data": {
      "text/plain": [
       "123456789987654321123456789987654321123456789987654322"
      ]
     },
     "execution_count": 7,
     "metadata": {},
     "output_type": "execute_result"
    }
   ],
   "source": [
    "1 + 123456789987654321123456789987654321123456789987654321"
   ]
  },
  {
   "cell_type": "code",
   "execution_count": 8,
   "id": "8674fdd8-f92b-4380-a2fc-139f1161a6f2",
   "metadata": {},
   "outputs": [
    {
     "data": {
      "text/plain": [
       "123456789987654321246913579975308642246913579975308642246913579975308642"
      ]
     },
     "execution_count": 8,
     "metadata": {},
     "output_type": "execute_result"
    }
   ],
   "source": [
    "123456789987654321123456789987654321123456789987654321 + 123456789987654321123456789987654321123456789987654321123456789987654321"
   ]
  },
  {
   "cell_type": "markdown",
   "id": "2b514e85-3bf1-4d87-82cc-cf495e19852a",
   "metadata": {},
   "source": [
    "### 四舍五入"
   ]
  },
  {
   "cell_type": "code",
   "execution_count": 10,
   "id": "2e57a7be-01e3-4f2a-ae31-ea8e133d4c3f",
   "metadata": {},
   "outputs": [
    {
     "name": "stdout",
     "output_type": "stream",
     "text": [
      "round(80.23456, 2) :  80.23\n",
      "round(100.000056, 3) :  100.0\n",
      "round(-100.000056, 3) :  -100.0\n"
     ]
    }
   ],
   "source": [
    "#!/usr/bin/python\n",
    "\n",
    "print(\"round(80.23456, 2) : \", round(80.23456, 2))\n",
    "print(\"round(100.000056, 3) : \", round(100.000056, 3))\n",
    "print(\"round(-100.000056, 3) : \", round(-100.000056, 3))"
   ]
  },
  {
   "cell_type": "markdown",
   "id": "a0706968-6f21-44f1-8e8e-8020c5057610",
   "metadata": {},
   "source": [
    "## 分数的初步认识"
   ]
  },
  {
   "cell_type": "markdown",
   "id": "b2bae29e-e3df-4510-b1ca-6327a414ef93",
   "metadata": {},
   "source": [
    "### 分数的大小比较"
   ]
  },
  {
   "cell_type": "code",
   "execution_count": 11,
   "id": "d0849aa1-c311-4855-a4ec-9252ea92f86d",
   "metadata": {},
   "outputs": [
    {
     "data": {
      "text/plain": [
       "False"
      ]
     },
     "execution_count": 11,
     "metadata": {},
     "output_type": "execute_result"
    }
   ],
   "source": [
    "2/3 > 4/5"
   ]
  },
  {
   "cell_type": "markdown",
   "id": "20078617-6083-4757-92c2-bbc72086ae89",
   "metadata": {},
   "source": [
    "### 分数的加减计算"
   ]
  },
  {
   "cell_type": "code",
   "execution_count": 12,
   "id": "63cdaedb-be85-4272-84ec-295caec1ab65",
   "metadata": {},
   "outputs": [
    {
     "data": {
      "text/plain": [
       "0.5"
      ]
     },
     "execution_count": 12,
     "metadata": {},
     "output_type": "execute_result"
    }
   ],
   "source": [
    "1/4 + 1/4"
   ]
  },
  {
   "cell_type": "code",
   "execution_count": 13,
   "id": "cd2cc7d1-e467-4706-b42a-e87e256ca44c",
   "metadata": {},
   "outputs": [
    {
     "data": {
      "text/plain": [
       "0.5833333333333333"
      ]
     },
     "execution_count": 13,
     "metadata": {},
     "output_type": "execute_result"
    }
   ],
   "source": [
    "1/4 + 1/3"
   ]
  },
  {
   "cell_type": "markdown",
   "id": "afd4e590-23c3-4bdf-960a-3d85b5c0928e",
   "metadata": {},
   "source": [
    "## 整数的四则运算"
   ]
  },
  {
   "cell_type": "code",
   "execution_count": 14,
   "id": "1065f5e3-b62e-4855-b7cb-3e67215645f6",
   "metadata": {},
   "outputs": [
    {
     "data": {
      "text/plain": [
       "3.25"
      ]
     },
     "execution_count": 14,
     "metadata": {},
     "output_type": "execute_result"
    }
   ],
   "source": [
    "1 + 3 * 3 / 4"
   ]
  },
  {
   "cell_type": "markdown",
   "id": "bb36bfa8-ab36-4f5d-ac14-482302c4f0da",
   "metadata": {},
   "source": [
    "## 几何小实践"
   ]
  },
  {
   "cell_type": "markdown",
   "id": "68d96391-f201-4678-8b2f-c8577c44973e",
   "metadata": {},
   "source": [
    "### 圆的初步认识"
   ]
  },
  {
   "cell_type": "markdown",
   "id": "a7ee11b7-04a4-4c61-ade9-aa41f528b185",
   "metadata": {},
   "source": [
    "### 线段、射线、直线"
   ]
  },
  {
   "cell_type": "markdown",
   "id": "aecd18af-d396-4b23-9754-7486d558a2aa",
   "metadata": {},
   "source": [
    "### 角"
   ]
  },
  {
   "cell_type": "markdown",
   "id": "17fb1fde-1eb5-45d1-9b9e-5f0d3783b208",
   "metadata": {},
   "source": [
    "### 角的度量"
   ]
  },
  {
   "cell_type": "markdown",
   "id": "0f20f78d-8378-47d4-89c2-a2ced498ceba",
   "metadata": {},
   "source": [
    "### 角的计算"
   ]
  },
  {
   "cell_type": "markdown",
   "id": "0b3eae9d-adca-46ad-9852-ef65614f88a8",
   "metadata": {},
   "source": [
    "## 整理与提高"
   ]
  },
  {
   "cell_type": "code",
   "execution_count": null,
   "id": "175d1ce0-4c39-46d6-944e-e65f7382f6c1",
   "metadata": {},
   "outputs": [],
   "source": []
  }
 ],
 "metadata": {
  "kernelspec": {
   "display_name": "math",
   "language": "python",
   "name": "math"
  },
  "language_info": {
   "codemirror_mode": {
    "name": "ipython",
    "version": 3
   },
   "file_extension": ".py",
   "mimetype": "text/x-python",
   "name": "python",
   "nbconvert_exporter": "python",
   "pygments_lexer": "ipython3",
   "version": "3.12.4"
  }
 },
 "nbformat": 4,
 "nbformat_minor": 5
}
