{
 "cells": [
  {
   "cell_type": "markdown",
   "id": "e4f1eac7-bed6-47ee-b425-a75572b29063",
   "metadata": {},
   "source": [
    "# 四年级下"
   ]
  },
  {
   "cell_type": "markdown",
   "id": "42b51385-04b4-4a66-b0fb-e64da7ded36e",
   "metadata": {},
   "source": [
    "## 小数的认识与加减法"
   ]
  },
  {
   "cell_type": "markdown",
   "id": "379b73e3-2e27-4418-91af-c74e17d6f757",
   "metadata": {},
   "source": [
    "### 小数"
   ]
  },
  {
   "cell_type": "markdown",
   "id": "95a89cc4-5d95-49c7-a0e0-70eb311a9a37",
   "metadata": {},
   "source": [
    "### 小数的大小比较"
   ]
  },
  {
   "cell_type": "markdown",
   "id": "384db231-d765-41be-bff5-9f3f832348f6",
   "metadata": {},
   "source": [
    "### 小数的加减法"
   ]
  },
  {
   "cell_type": "code",
   "execution_count": null,
   "id": "f53781e7-7213-416d-900c-379f05f7188b",
   "metadata": {},
   "outputs": [],
   "source": []
  },
  {
   "cell_type": "markdown",
   "id": "fbaabbd1-9769-4f9e-bbf4-c5876789f95e",
   "metadata": {},
   "source": [
    "## 统计"
   ]
  },
  {
   "cell_type": "markdown",
   "id": "ec89ae9f-1ce5-4b6c-b2a3-96401d3686c6",
   "metadata": {},
   "source": [
    "### 折线统计图的认识"
   ]
  },
  {
   "cell_type": "markdown",
   "id": "559e5ff4-3856-478d-ac3b-6fdb622533ea",
   "metadata": {},
   "source": [
    "### 折线统计图的画法"
   ]
  },
  {
   "cell_type": "markdown",
   "id": "2a043dc8-00ec-486e-a729-6608e85c1c52",
   "metadata": {},
   "source": [
    "## 几何小实践"
   ]
  },
  {
   "cell_type": "markdown",
   "id": "2a230f22-ab66-4f51-99cb-c7a8680e5e79",
   "metadata": {},
   "source": [
    "### 垂直"
   ]
  },
  {
   "cell_type": "markdown",
   "id": "f7cebc9c-cd9a-46dc-a4fe-8e5383345d2f",
   "metadata": {},
   "source": [
    "### 平行"
   ]
  },
  {
   "cell_type": "markdown",
   "id": "fc915111-e2a8-45fd-af3c-526f7d5b5e4d",
   "metadata": {},
   "source": [
    "## 整理与提高"
   ]
  },
  {
   "cell_type": "code",
   "execution_count": null,
   "id": "905b8e52-b875-4081-8e90-abc8fe274670",
   "metadata": {},
   "outputs": [],
   "source": []
  }
 ],
 "metadata": {
  "kernelspec": {
   "display_name": "Python 3 (ipykernel)",
   "language": "python",
   "name": "python3"
  },
  "language_info": {
   "codemirror_mode": {
    "name": "ipython",
    "version": 3
   },
   "file_extension": ".py",
   "mimetype": "text/x-python",
   "name": "python",
   "nbconvert_exporter": "python",
   "pygments_lexer": "ipython3",
   "version": "3.12.4"
  }
 },
 "nbformat": 4,
 "nbformat_minor": 5
}
