{
 "cells": [
  {
   "cell_type": "markdown",
   "id": "e4f1eac7-bed6-47ee-b425-a75572b29063",
   "metadata": {},
   "source": [
    "# 四年级下"
   ]
  },
  {
   "cell_type": "code",
   "execution_count": null,
   "id": "30c2f441-35da-4d93-a888-79b8d30cb291",
   "metadata": {},
   "outputs": [],
   "source": []
  }
 ],
 "metadata": {
  "kernelspec": {
   "display_name": "Python 3 (ipykernel)",
   "language": "python",
   "name": "python3"
  },
  "language_info": {
   "codemirror_mode": {
    "name": "ipython",
    "version": 3
   },
   "file_extension": ".py",
   "mimetype": "text/x-python",
   "name": "python",
   "nbconvert_exporter": "python",
   "pygments_lexer": "ipython3",
   "version": "3.12.4"
  }
 },
 "nbformat": 4,
 "nbformat_minor": 5
}
