{
 "cells": [
  {
   "cell_type": "markdown",
   "id": "ced75a7e-12c7-4aaf-b93a-0b55b85d9662",
   "metadata": {},
   "source": [
    "# 三年级下册"
   ]
  },
  {
   "cell_type": "markdown",
   "id": "f5b1cecc-ff9a-4ae7-bcfd-434b03d0dab9",
   "metadata": {},
   "source": [
    "## 用两位数乘除"
   ]
  },
  {
   "cell_type": "code",
   "execution_count": 1,
   "id": "23192280-f403-4972-b0ad-b35d50ae21aa",
   "metadata": {},
   "outputs": [
    {
     "data": {
      "text/plain": [
       "4.0"
      ]
     },
     "execution_count": 1,
     "metadata": {},
     "output_type": "execute_result"
    }
   ],
   "source": [
    "12 / 3"
   ]
  },
  {
   "cell_type": "code",
   "execution_count": 2,
   "id": "485ada5a-7912-4040-bdcd-c7c474a033ef",
   "metadata": {},
   "outputs": [
    {
     "data": {
      "text/plain": [
       "9.25"
      ]
     },
     "execution_count": 2,
     "metadata": {},
     "output_type": "execute_result"
    }
   ],
   "source": [
    "296 / 32"
   ]
  },
  {
   "cell_type": "code",
   "execution_count": 4,
   "id": "107c964c-a125-45ef-a010-85b0ec62cbfc",
   "metadata": {},
   "outputs": [
    {
     "name": "stdout",
     "output_type": "stream",
     "text": [
      "9\n",
      "8\n"
     ]
    }
   ],
   "source": [
    "print(296 // 32)\n",
    "print(296 % 32)"
   ]
  },
  {
   "cell_type": "markdown",
   "id": "df4d5970-7ca5-4f23-ae83-037f731cf284",
   "metadata": {},
   "source": [
    "### 速度、时间、路程"
   ]
  },
  {
   "cell_type": "markdown",
   "id": "70b91ad0-0f00-4bea-a368-a27481f6be5e",
   "metadata": {},
   "source": [
    "## 统计"
   ]
  },
  {
   "cell_type": "markdown",
   "id": "103d7a77-18ad-4830-b94c-b8553308761c",
   "metadata": {},
   "source": [
    "### 条形统计图"
   ]
  },
  {
   "cell_type": "code",
   "execution_count": 13,
   "id": "7b11fbf2-fa57-46c4-a08a-beb29494abbe",
   "metadata": {},
   "outputs": [
    {
     "data": {
      "image/png": "[encoded data removed]",
      "text/plain": [
       "<Figure size 640x480 with 1 Axes>"
      ]
     },
     "metadata": {},
     "output_type": "display_data"
    }
   ],
   "source": [
    "import matplotlib.pyplot as plt  \n",
    "  \n",
    "# 准备数据  \n",
    "categories = ['A', 'B', 'C', 'D']  \n",
    "values = [23, 45, 56, 78]  \n",
    "  \n",
    "# 创建条形图  \n",
    "plt.bar(categories, values)  \n",
    "  \n",
    "# 添加标题和轴标签  \n",
    "plt.title('Bar Chart')  \n",
    "plt.xlabel('Categories')  \n",
    "plt.ylabel('Values')  \n",
    "  \n",
    "# 显示图表  \n",
    "plt.show()"
   ]
  },
  {
   "cell_type": "markdown",
   "id": "48e93be9-b772-41d0-8032-c425f180ede1",
   "metadata": {},
   "source": [
    "## 分数的初步认识"
   ]
  },
  {
   "cell_type": "markdown",
   "id": "98152816-a66a-4746-8642-240d0d1edd7b",
   "metadata": {},
   "source": [
    "### 整体与部分"
   ]
  },
  {
   "cell_type": "markdown",
   "id": "b1f506ac-9025-4de3-9084-a471e332a0eb",
   "metadata": {},
   "source": [
    "### 几分之一"
   ]
  },
  {
   "cell_type": "code",
   "execution_count": 3,
   "id": "d59a262b-0aa1-4b85-97cb-9082000f1140",
   "metadata": {},
   "outputs": [
    {
     "data": {
      "text/plain": [
       "0.5"
      ]
     },
     "execution_count": 3,
     "metadata": {},
     "output_type": "execute_result"
    }
   ],
   "source": [
    "1/2"
   ]
  },
  {
   "cell_type": "code",
   "execution_count": 1,
   "id": "01cec489-c164-4e97-8ebc-cf90df726c88",
   "metadata": {},
   "outputs": [],
   "source": [
    "import turtle  \n",
    "  \n",
    "# 设置画布和turtle  \n",
    "screen = turtle.Screen()  \n",
    "pen = turtle.Turtle()  \n",
    "  \n",
    "# 设置圆的参数  \n",
    "radius = 100  # 圆的半径  \n",
    "  \n",
    "# 绘制整个圆（这里不填充）  \n",
    "pen.penup()  # 提起笔，移动时不绘制  \n",
    "pen.goto(0, -radius)  # 移动到圆的底部中央  \n",
    "pen.pendown()  # 放下笔，开始绘制  \n",
    "pen.circle(radius)  # 绘制整个圆  \n",
    "  \n",
    "# 填充右上1/4圆  \n",
    "# 首先，将turtle移动到圆的底部中央，然后右转90度到达右侧  \n",
    "pen.penup()  \n",
    "pen.goto(0, radius)  \n",
    "pen.setheading(180)  # 设置turtle的方向为90度（向右）  \n",
    "pen.pendown()  \n",
    "  \n",
    "# 开始填充红色  \n",
    "pen.begin_fill()  \n",
    "pen.color('red')  \n",
    "  \n",
    "# 绘制从90度到180度的圆弧  \n",
    "# 注意：circle()的第二个参数是绘制的角度，但它是从当前方向开始计算的  \n",
    "# 因为我们已经将turtle的方向设置为90度，所以这里绘制180度的圆弧会覆盖右上1/4圆  \n",
    "pen.circle(radius, 180)  \n",
    "  \n",
    "# 结束填充  \n",
    "pen.end_fill()  \n",
    "  \n",
    "# 隐藏turtle图标  \n",
    "pen.hideturtle()  \n",
    "  \n",
    "# 点击窗口时退出  \n",
    "screen.exitonclick()"
   ]
  },
  {
   "cell_type": "code",
   "execution_count": 5,
   "id": "825e6e4a-8d1b-4029-b505-cbabab901d26",
   "metadata": {},
   "outputs": [
    {
     "data": {
      "text/plain": [
       "0.25"
      ]
     },
     "execution_count": 5,
     "metadata": {},
     "output_type": "execute_result"
    }
   ],
   "source": [
    "1/4"
   ]
  },
  {
   "cell_type": "markdown",
   "id": "d9062e0d-fadc-4386-9157-48cdbe865cff",
   "metadata": {},
   "source": [
    "### 几分之几"
   ]
  },
  {
   "cell_type": "code",
   "execution_count": 8,
   "id": "128dff16-e429-4531-ad45-821e052f8464",
   "metadata": {},
   "outputs": [
    {
     "data": {
      "text/plain": [
       "0.75"
      ]
     },
     "execution_count": 8,
     "metadata": {},
     "output_type": "execute_result"
    }
   ],
   "source": [
    "3/4"
   ]
  },
  {
   "cell_type": "code",
   "execution_count": 9,
   "id": "9d159947-61aa-4f57-9156-3a2589ad697e",
   "metadata": {},
   "outputs": [
    {
     "data": {
      "text/plain": [
       "0.6666666666666666"
      ]
     },
     "execution_count": 9,
     "metadata": {},
     "output_type": "execute_result"
    }
   ],
   "source": [
    "2/3"
   ]
  },
  {
   "cell_type": "markdown",
   "id": "d7faf724-8c27-491e-892f-e1f5eb3a0c3e",
   "metadata": {},
   "source": [
    "## 计算器"
   ]
  },
  {
   "cell_type": "markdown",
   "id": "325087b9-2f30-4c74-9da1-addfb880ffc6",
   "metadata": {},
   "source": [
    "## 几何小实践"
   ]
  },
  {
   "cell_type": "markdown",
   "id": "46d621d6-1909-4986-a005-df585a30b4e3",
   "metadata": {},
   "source": [
    "### 周长"
   ]
  },
  {
   "cell_type": "markdown",
   "id": "17e5c3cd-8378-49cd-96e7-70145ef6453e",
   "metadata": {},
   "source": [
    "### 长方形、正方形的周长"
   ]
  },
  {
   "cell_type": "code",
   "execution_count": 1,
   "id": "bd04f9c4-1617-4e40-92b7-5513b576f38b",
   "metadata": {},
   "outputs": [],
   "source": [
    "import turtle  \n",
    "  \n",
    "# 创建一个turtle对象  \n",
    "pen = turtle.Turtle()  \n",
    "  \n",
    "# 设置长方形的长和宽  \n",
    "length = 200  # 长度  \n",
    "width = 100   # 宽度  \n",
    "  \n",
    "# 开始绘制长方形  \n",
    "pen.penup()  # 提起笔，移动到起始位置  \n",
    "pen.goto(-length/2, -width/2)  # 移动到长方形的左下角  \n",
    "pen.pendown()  # 放下笔，开始绘制  \n",
    "  \n",
    "# 绘制长方形的四条边  \n",
    "for _ in range(2):  \n",
    "    pen.forward(length)  # 向前绘制长度  \n",
    "    pen.right(90)        # 右转90度  \n",
    "    pen.forward(width)   # 向前绘制宽度  \n",
    "    pen.right(90)        # 右转90度  \n",
    "  \n",
    "# 隐藏turtle图标  \n",
    "pen.hideturtle()  \n",
    "  \n",
    "# 点击窗口时退出  \n",
    "turtle.done()"
   ]
  },
  {
   "cell_type": "code",
   "execution_count": 1,
   "id": "f99a21d3-4bba-42f0-9981-ea745935c34e",
   "metadata": {},
   "outputs": [],
   "source": [
    "import turtle  \n",
    "  \n",
    "# 创建一个turtle对象  \n",
    "pen = turtle.Turtle()  \n",
    "  \n",
    "# 设置正方形的边长  \n",
    "side_length = 200  \n",
    "  \n",
    "# 开始绘制正方形  \n",
    "pen.penup()  # 提起笔，移动到起始位置（可选，因为turtle默认从(0,0)开始）  \n",
    "pen.goto(-side_length/2, 0)  # 移动到正方形的左下角（为了居中显示）  \n",
    "pen.pendown()  # 放下笔，开始绘制  \n",
    "  \n",
    "# 绘制正方形的四条边  \n",
    "for _ in range(4):  \n",
    "    pen.forward(side_length)  # 向前绘制边长  \n",
    "    pen.right(90)             # 右转90度  \n",
    "  \n",
    "# 隐藏turtle图标  \n",
    "pen.hideturtle()  \n",
    "  \n",
    "# 点击窗口时退出  \n",
    "turtle.done()"
   ]
  },
  {
   "cell_type": "markdown",
   "id": "8fc8b1ac-782d-440a-95f4-3e440444826b",
   "metadata": {},
   "source": [
    "## 整理与提高"
   ]
  },
  {
   "cell_type": "code",
   "execution_count": null,
   "id": "d0cd7f02-78de-4d7a-857c-f530413926c6",
   "metadata": {},
   "outputs": [],
   "source": []
  }
 ],
 "metadata": {
  "kernelspec": {
   "display_name": "Python 3 (ipykernel)",
   "language": "python",
   "name": "python3"
  },
  "language_info": {
   "codemirror_mode": {
    "name": "ipython",
    "version": 3
   },
   "file_extension": ".py",
   "mimetype": "text/x-python",
   "name": "python",
   "nbconvert_exporter": "python",
   "pygments_lexer": "ipython3",
   "version": "3.12.4"
  }
 },
 "nbformat": 4,
 "nbformat_minor": 5
}
