{
 "cells": [
  {
   "attachments": {},
   "cell_type": "markdown",
   "id": "96e3c348-040e-48b6-977c-405ac72b2ab6",
   "metadata": {},
   "source": [
    "# 三年级上册"
   ]
  },
  {
   "cell_type": "markdown",
   "id": "dfe63070-e8ce-4760-8436-4a3448f448a0",
   "metadata": {},
   "source": [
    "## 用一位数乘"
   ]
  },
  {
   "cell_type": "markdown",
   "id": "1111f697-fc3c-4cb3-a525-73598bba9a31",
   "metadata": {},
   "source": [
    "### 一位数与两位数相乘"
   ]
  },
  {
   "cell_type": "code",
   "execution_count": 8,
   "id": "8fb3bf3d-80c2-4475-b287-6ce8569f7e03",
   "metadata": {},
   "outputs": [
    {
     "data": {
      "text/plain": [
       "144"
      ]
     },
     "execution_count": 8,
     "metadata": {},
     "output_type": "execute_result"
    }
   ],
   "source": [
    "4 * 36"
   ]
  },
  {
   "cell_type": "markdown",
   "id": "5ff0bfe8-f2ee-44f5-9981-02a3be7e9997",
   "metadata": {},
   "source": [
    "### 一位数与三位数相乘"
   ]
  },
  {
   "cell_type": "code",
   "execution_count": 9,
   "id": "e9ba6f7a-fd1d-4911-8505-9857c1dad17a",
   "metadata": {},
   "outputs": [
    {
     "data": {
      "text/plain": [
       "1316"
      ]
     },
     "execution_count": 9,
     "metadata": {},
     "output_type": "execute_result"
    }
   ],
   "source": [
    "4 * 329"
   ]
  },
  {
   "cell_type": "markdown",
   "id": "64c340a1-4cc5-42ad-984b-32c981f3975e",
   "metadata": {},
   "source": [
    "## 时间的初步认识"
   ]
  },
  {
   "cell_type": "markdown",
   "id": "f3d96543-3da7-4e87-8f07-8f2c8578f4ab",
   "metadata": {},
   "source": [
    "### 年、月、日"
   ]
  },
  {
   "cell_type": "markdown",
   "id": "f7fe897b-ef97-4e08-93cb-e2b32e1368e4",
   "metadata": {},
   "source": [
    "### 平年与闰年 "
   ]
  },
  {
   "cell_type": "markdown",
   "id": "cda02e37-9af0-4b5b-840c-2a7707b382b4",
   "metadata": {},
   "source": [
    "### 制作日历"
   ]
  },
  {
   "cell_type": "markdown",
   "id": "20a300df-280f-47ed-840c-b09db00aebb2",
   "metadata": {},
   "source": [
    "## 用一位数除"
   ]
  },
  {
   "cell_type": "code",
   "execution_count": 10,
   "id": "cd25cdf2-80f4-43bb-8310-d4aaf86b349d",
   "metadata": {},
   "outputs": [
    {
     "data": {
      "text/plain": [
       "60.0"
      ]
     },
     "execution_count": 10,
     "metadata": {},
     "output_type": "execute_result"
    }
   ],
   "source": [
    "180 / 3"
   ]
  },
  {
   "cell_type": "markdown",
   "id": "84147d8d-a140-4793-8d32-0c90bcd4d512",
   "metadata": {},
   "source": [
    "### 两位数被一位数除"
   ]
  },
  {
   "cell_type": "code",
   "execution_count": 11,
   "id": "94d41033-b78d-4a3a-ad1d-0c596caf2765",
   "metadata": {},
   "outputs": [
    {
     "data": {
      "text/plain": [
       "13.0"
      ]
     },
     "execution_count": 11,
     "metadata": {},
     "output_type": "execute_result"
    }
   ],
   "source": [
    "91 / 7"
   ]
  },
  {
   "cell_type": "markdown",
   "id": "23adbeb5-9bd7-4c9c-9383-6d2c8401a682",
   "metadata": {},
   "source": [
    "### 三位数被一位数除\n",
    "\n",
    "\n",
    "\n"
   ]
  },
  {
   "cell_type": "code",
   "execution_count": 12,
   "id": "888bbe15-ff6f-4944-a8d9-e83849753711",
   "metadata": {},
   "outputs": [
    {
     "data": {
      "text/plain": [
       "178.66666666666666"
      ]
     },
     "execution_count": 12,
     "metadata": {},
     "output_type": "execute_result"
    }
   ],
   "source": [
    "536 / 3"
   ]
  },
  {
   "cell_type": "code",
   "execution_count": 13,
   "id": "4325ef5d-1db1-43f7-87f5-b1367c9df7ca",
   "metadata": {},
   "outputs": [
    {
     "data": {
      "text/plain": [
       "70.0"
      ]
     },
     "execution_count": 13,
     "metadata": {},
     "output_type": "execute_result"
    }
   ],
   "source": [
    "210 / 3"
   ]
  },
  {
   "cell_type": "markdown",
   "id": "256731c3-3249-4b2a-a98e-73db28d5dbbb",
   "metadata": {},
   "source": [
    "### 除法的应用"
   ]
  },
  {
   "cell_type": "markdown",
   "id": "2f385403-3894-4546-8a43-fa419a18b024",
   "metadata": {},
   "source": [
    "## 几何小实践"
   ]
  },
  {
   "cell_type": "markdown",
   "id": "6475e5e7-9396-4f0e-8d9b-4715c2ba48a6",
   "metadata": {},
   "source": [
    "### 面积"
   ]
  },
  {
   "cell_type": "markdown",
   "id": "c7c3a84f-6c0a-4362-b375-7a9b42ecf64e",
   "metadata": {},
   "source": [
    "### 长方形与正方形的面积"
   ]
  },
  {
   "cell_type": "markdown",
   "id": "5928854f-dec4-48f3-a363-f900a5fe7ce5",
   "metadata": {},
   "source": [
    "## 整理与提高"
   ]
  },
  {
   "cell_type": "markdown",
   "id": "4434440e-d6ec-481b-97c5-c0ec8e5f1f64",
   "metadata": {},
   "source": [
    "### 乘乘除除"
   ]
  },
  {
   "cell_type": "code",
   "execution_count": 15,
   "id": "181a7fec-dc63-4d16-bced-e88548e1ba3e",
   "metadata": {},
   "outputs": [
    {
     "data": {
      "text/plain": [
       "444.0"
      ]
     },
     "execution_count": 15,
     "metadata": {},
     "output_type": "execute_result"
    }
   ],
   "source": [
    "555 * 4 / 5"
   ]
  },
  {
   "cell_type": "code",
   "execution_count": 14,
   "id": "e910eb22-c1a4-441a-aac8-066a12723966",
   "metadata": {},
   "outputs": [
    {
     "data": {
      "text/plain": [
       "43.0"
      ]
     },
     "execution_count": 14,
     "metadata": {},
     "output_type": "execute_result"
    }
   ],
   "source": [
    "645 / 3 /5"
   ]
  },
  {
   "cell_type": "code",
   "execution_count": null,
   "id": "8daf1bd6-ac28-4999-bd90-e86eaa4ae958",
   "metadata": {},
   "outputs": [],
   "source": []
  }
 ],
 "metadata": {
  "kernelspec": {
   "display_name": "math",
   "language": "python",
   "name": "math"
  },
  "language_info": {
   "codemirror_mode": {
    "name": "ipython",
    "version": 3
   },
   "file_extension": ".py",
   "mimetype": "text/x-python",
   "name": "python",
   "nbconvert_exporter": "python",
   "pygments_lexer": "ipython3",
   "version": "3.12.4"
  }
 },
 "nbformat": 4,
 "nbformat_minor": 5
}
