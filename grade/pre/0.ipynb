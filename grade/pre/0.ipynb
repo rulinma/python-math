{
 "cells": [
  {
   "cell_type": "markdown",
   "id": "a614a0a6-2c9f-47bd-b9a5-ab567aadc201",
   "metadata": {},
   "source": [
    "# 基础知识"
   ]
  },
  {
   "cell_type": "markdown",
   "id": "7a590956-ff52-4b04-95d3-95d5bc6668db",
   "metadata": {},
   "source": [
    "计算机输出内容使用print"
   ]
  },
  {
   "cell_type": "code",
   "execution_count": 3,
   "id": "facb1e35-fd22-443b-ba5d-81c716522cc6",
   "metadata": {},
   "outputs": [
    {
     "name": "stdout",
     "output_type": "stream",
     "text": [
      "hello world\n"
     ]
    }
   ],
   "source": [
    "print(\"hello world\")"
   ]
  },
  {
   "cell_type": "markdown",
   "id": "805194a4-0078-41c8-b7fc-ec4af5677cb9",
   "metadata": {},
   "source": [
    "上面的hello world就是我们执行print计算机进行输出的结果，你可以修改字符后运行试试。"
   ]
  },
  {
   "cell_type": "code",
   "execution_count": null,
   "id": "8ad2a7ba-c70b-4e61-a0da-9551244b5b61",
   "metadata": {},
   "outputs": [],
   "source": []
  }
 ],
 "metadata": {
  "kernelspec": {
   "display_name": "Python 3 (ipykernel)",
   "language": "python",
   "name": "python3"
  },
  "language_info": {
   "codemirror_mode": {
    "name": "ipython",
    "version": 3
   },
   "file_extension": ".py",
   "mimetype": "text/x-python",
   "name": "python",
   "nbconvert_exporter": "python",
   "pygments_lexer": "ipython3",
   "version": "3.12.4"
  }
 },
 "nbformat": 4,
 "nbformat_minor": 5
}
