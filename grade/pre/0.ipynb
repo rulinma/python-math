{
 "cells": [
  {
   "cell_type": "markdown",
   "id": "a614a0a6-2c9f-47bd-b9a5-ab567aadc201",
   "metadata": {},
   "source": [
    "# 基础知识"
   ]
  },
  {
   "cell_type": "markdown",
   "id": "7a590956-ff52-4b04-95d3-95d5bc6668db",
   "metadata": {},
   "source": [
    "计算机输出内容使用print"
   ]
  },
  {
   "cell_type": "code",
   "execution_count": 1,
   "id": "facb1e35-fd22-443b-ba5d-81c716522cc6",
   "metadata": {},
   "outputs": [
    {
     "name": "stdout",
     "output_type": "stream",
     "text": [
      "hello world\n"
     ]
    }
   ],
   "source": [
    "print(\"hello world\")"
   ]
  },
  {
   "cell_type": "markdown",
   "id": "805194a4-0078-41c8-b7fc-ec4af5677cb9",
   "metadata": {},
   "source": [
    "上面的hello world就是我们执行print计算机进行输出的结果，你可以修改字符后运行试试。"
   ]
  },
  {
   "cell_type": "code",
   "execution_count": 2,
   "id": "6a08bb84-dcf1-4ba0-bcf4-db7556214d90",
   "metadata": {},
   "outputs": [],
   "source": [
    "import turtle"
   ]
  },
  {
   "cell_type": "code",
   "execution_count": 3,
   "id": "8fec94b1-9b7e-485a-8fec-2ec7a23b12b3",
   "metadata": {},
   "outputs": [],
   "source": [
    "from turtle import *\n",
    "\n",
    "forward(100)\n",
    "shape('turtle')"
   ]
  },
  {
   "cell_type": "code",
   "execution_count": 1,
   "id": "59cf36b9-bd56-4eff-80b9-31e8a39ff177",
   "metadata": {},
   "outputs": [],
   "source": [
    "from turtle import *\n",
    "\n",
    "forward(100)\n",
    "shape('turtle')\n",
    "right(45)\n",
    "forward(150)"
   ]
  },
  {
   "cell_type": "code",
   "execution_count": null,
   "id": "1a24761b-8010-49d6-a4fd-54ea3ecc1e90",
   "metadata": {},
   "outputs": [],
   "source": []
  },
  {
   "cell_type": "code",
   "execution_count": null,
   "id": "eedc4108-1874-4ca6-bff6-13f00dd12cfe",
   "metadata": {},
   "outputs": [],
   "source": []
  }
 ],
 "metadata": {
  "kernelspec": {
   "display_name": "math",
   "language": "python",
   "name": "math"
  },
  "language_info": {
   "codemirror_mode": {
    "name": "ipython",
    "version": 3
   },
   "file_extension": ".py",
   "mimetype": "text/x-python",
   "name": "python",
   "nbconvert_exporter": "python",
   "pygments_lexer": "ipython3",
   "version": "3.12.4"
  }
 },
 "nbformat": 4,
 "nbformat_minor": 5
}
