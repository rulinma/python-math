{
 "cells": [
  {
   "cell_type": "markdown",
   "id": "a240bda2-1f33-4aee-9646-6800fd6d8452",
   "metadata": {},
   "source": [
    "# 方程"
   ]
  },
  {
   "cell_type": "markdown",
   "id": "a531d084-f2f7-4beb-a245-566c4a329f07",
   "metadata": {},
   "source": [
    "## 一元一次方程"
   ]
  },
  {
   "cell_type": "markdown",
   "id": "ef100ecb-20f3-4dd9-9fff-dd6da8ffe2f3",
   "metadata": {},
   "source": [
    "求解一元一次方程通常涉及基本的代数运算，特别是移项和除法。一元一次方程的标准形式是 ax+b=0，其中 a 和 b 是常数，a != 0。\n",
    "\n",
    "为了求解这个方程，我们需要找到 x 的值，使得方程成立。以下是求解一元一次方程的基本步骤：\n",
    "\n",
    "* 移项：将方程中的常数项移到等式的另一边。这通常涉及加法或减法。\n",
    "* 除法：将 x 的系数化为 1，这通常涉及除法。"
   ]
  },
  {
   "cell_type": "code",
   "execution_count": 6,
   "id": "628dbb64-73d4-4158-b2de-7459084dbbb2",
   "metadata": {},
   "outputs": [
    {
     "name": "stdout",
     "output_type": "stream",
     "text": [
      "方程的解是: x = 4.0\n"
     ]
    }
   ],
   "source": [
    "def solve_linear_equation(a, b):  \n",
    "    # 检查a是否为0，因为0不能做除数  \n",
    "    if a == 0:  \n",
    "        if b == 0:  \n",
    "            return \"方程有无数解\"  \n",
    "        else:  \n",
    "            return \"方程无解\"  \n",
    "    # 求解x  \n",
    "    x = -b / a  \n",
    "    return x  \n",
    "  \n",
    "# 示例  \n",
    "a = 3  \n",
    "b = -12  \n",
    "solution = solve_linear_equation(a, b)  \n",
    "print(f\"方程的解是: x = {solution}\")"
   ]
  },
  {
   "cell_type": "code",
   "execution_count": null,
   "id": "11440a411c3f13cd",
   "metadata": {},
   "outputs": [],
   "source": []
  },
  {
   "cell_type": "code",
   "execution_count": 2,
   "id": "d72d2649-29b8-40d0-bb0e-22763acd007c",
   "metadata": {},
   "outputs": [
    {
     "name": "stdout",
     "output_type": "stream",
     "text": [
      "{x: 5/3}\n"
     ]
    }
   ],
   "source": [
    "import sympy\n",
    " \n",
    "# 定义符号变量x\n",
    "x = sympy.Symbol('x')\n",
    " \n",
    "# 设定一元一次方程，例如：3x + 2 = 7\n",
    "equation = 3*x + 2 - 7\n",
    " \n",
    "# 求解方程\n",
    "solution = sympy.solve([equation], [x])\n",
    " \n",
    "# 输出结果\n",
    "print(solution)"
   ]
  },
  {
   "cell_type": "markdown",
   "id": "d60a6aa7-b9cc-47a5-a962-8a95cb210a9a",
   "metadata": {},
   "source": [
    "## 一元二次方程"
   ]
  },
  {
   "attachments": {},
   "cell_type": "markdown",
   "id": "cb196ef6-76a5-4f6b-8575-4dab88170ab6",
   "metadata": {},
   "source": [
    "求解一元二次方程 ax$^2$ + bx + c =0 可以使用cmath模块中的sqrt函数来求解。这里有一个简单的例子来演示如何实现：\n",
    "\n"
   ]
  },
  {
   "cell_type": "code",
   "execution_count": 4,
   "id": "de2748c8-bd93-492e-969a-4958a32518a1",
   "metadata": {},
   "outputs": [
    {
     "name": "stdout",
     "output_type": "stream",
     "text": [
      "解为: x1 = (-2+0j), x2 = (-3+0j)\n"
     ]
    }
   ],
   "source": [
    "import cmath  \n",
    "  \n",
    "def solve_quadratic(a, b, c):  \n",
    "    # 计算判别式  \n",
    "    delta = cmath.sqrt(b**2 - 4*a*c)  \n",
    "      \n",
    "    # 计算两个解  \n",
    "    x1 = (-b + delta) / (2*a)  \n",
    "    x2 = (-b - delta) / (2*a)  \n",
    "      \n",
    "    return x1, x2  \n",
    "  \n",
    "# 示例  \n",
    "a = 1  \n",
    "b = 5  \n",
    "c = 6  \n",
    "x1, x2 = solve_quadratic(a, b, c)  \n",
    "print(f\"解为: x1 = {x1}, x2 = {x2}\")"
   ]
  },
  {
   "cell_type": "markdown",
   "id": "0e5c48b9-3411-448a-8059-fd85348e57dd",
   "metadata": {},
   "source": [
    "## 一元三次方程"
   ]
  },
  {
   "cell_type": "code",
   "execution_count": 7,
   "id": "cd1fbfb2-83b5-4184-88cb-eaac4c8d7081",
   "metadata": {},
   "outputs": [
    {
     "name": "stdout",
     "output_type": "stream",
     "text": [
      "方程的解为: [3. 2. 1.]\n"
     ]
    }
   ],
   "source": [
    "import numpy as np  \n",
    "  \n",
    "def solve_cubic_equation(a, b, c, d):  \n",
    "    # 构造多项式系数数组，从最高次幂到最低次幂  \n",
    "    coefficients = [a, b, c, d]  \n",
    "      \n",
    "    # 使用numpy的roots函数求解多项式的根  \n",
    "    roots = np.roots(coefficients)  \n",
    "      \n",
    "    return roots  \n",
    "  \n",
    "# 示例  \n",
    "a = 1  \n",
    "b = -6  \n",
    "c = 11  \n",
    "d = -6  \n",
    "roots = solve_cubic_equation(a, b, c, d)  \n",
    "print(f\"方程的解为: {roots}\")"
   ]
  },
  {
   "cell_type": "markdown",
   "id": "88ed53e7-70d5-49ea-8f78-85114dc6fa90",
   "metadata": {},
   "source": [
    "牛顿迭代法（Newton's method）： 牛顿迭代法是一种数值方法，可以用于求解任何次数的多项式方程的根。它从一个初始猜测开始，通过迭代改进解的估计值。"
   ]
  },
  {
   "cell_type": "code",
   "execution_count": null,
   "id": "892aecd8-5a80-4495-a3ff-9d987787adc1",
   "metadata": {},
   "outputs": [],
   "source": []
  }
 ],
 "metadata": {
  "kernelspec": {
   "display_name": "Python [conda env:math]",
   "language": "python",
   "name": "conda-env-math-py"
  },
  "language_info": {
   "codemirror_mode": {
    "name": "ipython",
    "version": 3
   },
   "file_extension": ".py",
   "mimetype": "text/x-python",
   "name": "python",
   "nbconvert_exporter": "python",
   "pygments_lexer": "ipython3",
   "version": "3.12.2"
  }
 },
 "nbformat": 4,
 "nbformat_minor": 5
}
